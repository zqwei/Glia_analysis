{
 "cells": [
  {
   "cell_type": "code",
   "execution_count": 1,
   "metadata": {},
   "outputs": [],
   "source": [
    "import os, sys\n",
    "import warnings\n",
    "warnings.filterwarnings('ignore')\n",
    "from cellProcessing_single_WS import *\n",
    "\n",
    "dir_root = '/nrs/ahrens/Yu/SPIM/active_dataset/20141209_1_1_cy74_GAD_1_1_simpleGU_20141209_154521/raw'\n",
    "save_root = '/nrs/ahrens/Ziqiang/Pipeline_test/Yu_TK_pipeline/'\n",
    "dask_tmp = '/groups/ahrens/home/weiz/thinclient_drives/dask-worker-space'\n",
    "memory_limit = 0 # unlimited\n",
    "\n",
    "if not os.path.exists(save_root):\n",
    "    os.makedirs(save_root)\n",
    "\n",
    "nsplit = (4, 8)\n",
    "baseline_percentile = 20  \n",
    "baseline_window = 400   # number of frames\n",
    "cameraNoiseMat = '/nrs/ahrens/ahrenslab/Ziqiang/gainMat/gainMat20180208'\n",
    "\n",
    "if not os.path.exists(f'{save_root}/detrend_data.zarr'):\n",
    "    preprocessing(dir_root, save_root, cameraNoiseMat=cameraNoiseMat, window=baseline_window, \n",
    "                  percentile=baseline_percentile, nsplit=nsplit, dask_tmp=dask_tmp, memory_limit=memory_limit, is_bz2=True)"
   ]
  },
  {
   "cell_type": "code",
   "execution_count": 2,
   "metadata": {},
   "outputs": [
    {
     "name": "stdout",
     "output_type": "stream",
     "text": [
      "Scheduler: inproc://10.150.100.212/344994/1\n",
      "Dashboard link: http://10.150.100.212/344994/1:8787/status\n"
     ]
    }
   ],
   "source": [
    "cluster, client = fdask.setup_workers(is_local=True, dask_tmp=dask_tmp, memory_limit=memory_limit)\n",
    "print_client_links(cluster)"
   ]
  },
  {
   "cell_type": "code",
   "execution_count": 3,
   "metadata": {},
   "outputs": [],
   "source": [
    "Y = da.from_zarr(f'{save_root}/motion_corrected_data.zarr')\n",
    "Y_d = da.from_zarr(f'{save_root}/detrend_data.zarr')"
   ]
  },
  {
   "cell_type": "code",
   "execution_count": 12,
   "metadata": {},
   "outputs": [],
   "source": [
    "fdask.terminate_workers(cluster, client)"
   ]
  },
  {
   "cell_type": "code",
   "execution_count": 6,
   "metadata": {},
   "outputs": [
    {
     "data": {
      "text/plain": [
       "(35, 1084, 2048, 5150)"
      ]
     },
     "execution_count": 6,
     "metadata": {},
     "output_type": "execute_result"
    }
   ],
   "source": [
    "Y.shape"
   ]
  },
  {
   "cell_type": "code",
   "execution_count": 10,
   "metadata": {},
   "outputs": [
    {
     "data": {
      "text/plain": [
       "256.0"
      ]
     },
     "execution_count": 10,
     "metadata": {},
     "output_type": "execute_result"
    }
   ],
   "source": [
    "2048/8"
   ]
  },
  {
   "cell_type": "code",
   "execution_count": null,
   "metadata": {},
   "outputs": [],
   "source": [
    "Y = da.from_zarr(f'{save_root}/motion_corrected_data.zarr')\n",
    "Y_d = da.from_zarr(f'{save_root}/detrend_data.zarr')\n",
    "Y_b = Y - Y_d\n",
    "Y_b_max_mask = Y_b.max(axis=-1, keepdims=True)>2\n",
    "Y_b_min_mask = Y_b.min(axis=-1, keepdims=True)>1\n",
    "mask = Y_b_max_mask & Y_b_min_mask\n",
    "mask.to_zarr(f'{save_root}/mask_map.zarr', overwrite=True)\n",
    "\n",
    "\n",
    "Y_d = da.from_zarr(f'{save_root}/detrend_data.zarr')\n",
    "Y_d_max = Y_d.max(axis=-1, keepdims=True)\n",
    "print('Save average data ---')\n",
    "Y_d_max.to_zarr(f'{save_root}/Y_max.zarr', overwrite=True)  \n",
    "\n",
    "\n",
    "Y_d = zarr.open(f'{save_root}/Y_max.zarr', 'r')\n",
    "mask = zarr.open(f'{save_root}/mask_map.zarr', 'r')\n",
    "for n, n_ave_ in enumerate(Y_d):\n",
    "    _ = n_ave_.squeeze().copy()\n",
    "    _[~mask[n].squeeze()] = 0\n",
    "    plt.imshow(_, vmax=np.percentile(_, 99))\n",
    "    plt.title(n)\n",
    "    plt.show()"
   ]
  }
 ],
 "metadata": {
  "kernelspec": {
   "display_name": "myenv",
   "language": "python",
   "name": "myenv"
  },
  "language_info": {
   "codemirror_mode": {
    "name": "ipython",
    "version": 3
   },
   "file_extension": ".py",
   "mimetype": "text/x-python",
   "name": "python",
   "nbconvert_exporter": "python",
   "pygments_lexer": "ipython3",
   "version": "3.7.3"
  }
 },
 "nbformat": 4,
 "nbformat_minor": 4
}
