{
 "cells": [
  {
   "cell_type": "code",
   "execution_count": 1,
   "metadata": {},
   "outputs": [],
   "source": [
    "import os, sys\n",
    "import warnings\n",
    "warnings.filterwarnings('ignore')\n",
    "from cellProcessing_single_WS import *\n",
    "import dask.array as da\n",
    "import numpy as np\n",
    "import matplotlib.pyplot as plt\n",
    "\n",
    "%matplotlib inline\n",
    "%load_ext autoreload\n",
    "%autoreload 2\n",
    "\n",
    "# save_root = '/nrs/ahrens/Ziqiang/Jing_Glia_project/Processed_data/20190430/fish01/6dpf_HuC-GCaMP7ff-GFAP-RGECO_GU-slow-fwd_fish01_exp01_20190430_174349/'\n",
    "#save_root = '/nrs/ahrens/Ziqiang/Jing_Glia_project/Processed_data/20190426/fish03/7dpf_HuC-H2B_GCaMP7ff_GU-slow-fwd_fish03_exp02_20190426_221213/'\n",
    "save_root = '/nrs/ahrens/Ziqiang/Jing_Glia_project/Processed_data/20190907/fish00/7dpf_HuC-GC7FF_GU-fwd_fish00_exp01_20190907_172639/'"
   ]
  },
  {
   "cell_type": "code",
   "execution_count": 2,
   "metadata": {},
   "outputs": [],
   "source": [
    "dask_tmp = '/opt/data/weiz/dask-worker-space'\n",
    "memory_limit = 0 # unlimited\n",
    "\n",
    "if not os.path.exists(save_root):\n",
    "    os.makedirs(save_root)\n",
    "\n",
    "nsplit = (16, 32)\n",
    "baseline_percentile = 20\n",
    "baseline_window = 1000   # number of frames\n",
    "cameraNoiseMat = '/nrs/ahrens/ahrenslab/Ziqiang/gainMat/gainMat20180208'"
   ]
  },
  {
   "cell_type": "code",
   "execution_count": 3,
   "metadata": {},
   "outputs": [],
   "source": [
    "# default_mask(dir_root, save_root, dask_tmp=dask_tmp, memory_limit=memory_limit)"
   ]
  },
  {
   "cell_type": "code",
   "execution_count": 5,
   "metadata": {},
   "outputs": [],
   "source": [
    "Y_d = da.from_zarr(f'{save_root}/Y_ave.zarr')\n",
    "np.save(f'{save_root}/Y_ave', Y_d.compute())\n",
    "Y_d = np.load(f'{save_root}/Y_ave.npy')\n",
    "Y_d_max = Y_d.max(axis=0, keepdims=True)"
   ]
  },
  {
   "cell_type": "code",
   "execution_count": 12,
   "metadata": {},
   "outputs": [
    {
     "data": {
      "image/png": "[encoded data removed]",
      "text/plain": [
       "<Figure size 432x288 with 1 Axes>"
      ]
     },
     "metadata": {
      "needs_background": "light"
     },
     "output_type": "display_data"
    }
   ],
   "source": [
    "max_ = np.percentile(Y_d_max, 40)\n",
    "mask_ = Y_d_max>max_\n",
    "mask_ = np.repeat(mask_, Y_d.shape[0], axis=0)\n",
    "mask_ = da.from_array(mask_, chunks=(1, Y_d.shape[1]//nsplit[0], Y_d.shape[2]//nsplit[1], -1))\n",
    "plt.imshow(mask_[0].squeeze())\n",
    "plt.show()"
   ]
  },
  {
   "cell_type": "code",
   "execution_count": 13,
   "metadata": {},
   "outputs": [
    {
     "data": {
      "text/html": [
       "<table>\n",
       "<tr>\n",
       "<td>\n",
       "<table>\n",
       "  <thead>\n",
       "    <tr><td> </td><th> Array </th><th> Chunk </th></tr>\n",
       "  </thead>\n",
       "  <tbody>\n",
       "    <tr><th> Bytes </th><td> 61.34 MB </td> <td> 4.61 kB </td></tr>\n",
       "    <tr><th> Shape </th><td> (26, 1152, 2048, 1) </td> <td> (1, 72, 64, 1) </td></tr>\n",
       "    <tr><th> Count </th><td> 13313 Tasks </td><td> 13312 Chunks </td></tr>\n",
       "    <tr><th> Type </th><td> bool </td><td> numpy.ndarray </td></tr>\n",
       "  </tbody>\n",
       "</table>\n",
       "</td>\n",
       "<td>\n",
       "<svg width=\"307\" height=\"209\" style=\"stroke:rgb(0,0,0);stroke-width:1\" >\n",
       "\n",
       "  <!-- Horizontal lines -->\n",
       "  <line x1=\"0\" y1=\"0\" x2=\"26\" y2=\"0\" style=\"stroke-width:2\" />\n",
       "  <line x1=\"0\" y1=\"25\" x2=\"26\" y2=\"25\" style=\"stroke-width:2\" />\n",
       "\n",
       "  <!-- Vertical lines -->\n",
       "  <line x1=\"0\" y1=\"0\" x2=\"0\" y2=\"25\" style=\"stroke-width:2\" />\n",
       "  <line x1=\"1\" y1=\"0\" x2=\"1\" y2=\"25\" />\n",
       "  <line x1=\"2\" y1=\"0\" x2=\"2\" y2=\"25\" />\n",
       "  <line x1=\"3\" y1=\"0\" x2=\"3\" y2=\"25\" />\n",
       "  <line x1=\"4\" y1=\"0\" x2=\"4\" y2=\"25\" />\n",
       "  <line x1=\"5\" y1=\"0\" x2=\"5\" y2=\"25\" />\n",
       "  <line x1=\"6\" y1=\"0\" x2=\"6\" y2=\"25\" />\n",
       "  <line x1=\"7\" y1=\"0\" x2=\"7\" y2=\"25\" />\n",
       "  <line x1=\"8\" y1=\"0\" x2=\"8\" y2=\"25\" />\n",
       "  <line x1=\"9\" y1=\"0\" x2=\"9\" y2=\"25\" />\n",
       "  <line x1=\"10\" y1=\"0\" x2=\"10\" y2=\"25\" />\n",
       "  <line x1=\"11\" y1=\"0\" x2=\"11\" y2=\"25\" />\n",
       "  <line x1=\"12\" y1=\"0\" x2=\"12\" y2=\"25\" />\n",
       "  <line x1=\"13\" y1=\"0\" x2=\"13\" y2=\"25\" />\n",
       "  <line x1=\"14\" y1=\"0\" x2=\"14\" y2=\"25\" />\n",
       "  <line x1=\"15\" y1=\"0\" x2=\"15\" y2=\"25\" />\n",
       "  <line x1=\"16\" y1=\"0\" x2=\"16\" y2=\"25\" />\n",
       "  <line x1=\"17\" y1=\"0\" x2=\"17\" y2=\"25\" />\n",
       "  <line x1=\"18\" y1=\"0\" x2=\"18\" y2=\"25\" />\n",
       "  <line x1=\"19\" y1=\"0\" x2=\"19\" y2=\"25\" />\n",
       "  <line x1=\"20\" y1=\"0\" x2=\"20\" y2=\"25\" />\n",
       "  <line x1=\"21\" y1=\"0\" x2=\"21\" y2=\"25\" />\n",
       "  <line x1=\"22\" y1=\"0\" x2=\"22\" y2=\"25\" />\n",
       "  <line x1=\"23\" y1=\"0\" x2=\"23\" y2=\"25\" />\n",
       "  <line x1=\"24\" y1=\"0\" x2=\"24\" y2=\"25\" />\n",
       "  <line x1=\"25\" y1=\"0\" x2=\"25\" y2=\"25\" />\n",
       "  <line x1=\"26\" y1=\"0\" x2=\"26\" y2=\"25\" style=\"stroke-width:2\" />\n",
       "\n",
       "  <!-- Colored Rectangle -->\n",
       "  <polygon points=\"0.000000,0.000000 26.591516,0.000000 26.591516,25.412617 0.000000,25.412617\" style=\"fill:#ECB172A0;stroke-width:0\"/>\n",
       "\n",
       "  <!-- Text -->\n",
       "  <text x=\"13.295758\" y=\"45.412617\" font-size=\"1.0rem\" font-weight=\"100\" text-anchor=\"middle\" >26</text>\n",
       "  <text x=\"46.591516\" y=\"12.706308\" font-size=\"1.0rem\" font-weight=\"100\" text-anchor=\"middle\" transform=\"rotate(0,46.591516,12.706308)\">1</text>\n",
       "\n",
       "\n",
       "  <!-- Horizontal lines -->\n",
       "  <line x1=\"96\" y1=\"0\" x2=\"135\" y2=\"39\" style=\"stroke-width:2\" />\n",
       "  <line x1=\"96\" y1=\"3\" x2=\"135\" y2=\"43\" />\n",
       "  <line x1=\"96\" y1=\"7\" x2=\"135\" y2=\"47\" />\n",
       "  <line x1=\"96\" y1=\"11\" x2=\"135\" y2=\"50\" />\n",
       "  <line x1=\"96\" y1=\"15\" x2=\"135\" y2=\"54\" />\n",
       "  <line x1=\"96\" y1=\"18\" x2=\"135\" y2=\"58\" />\n",
       "  <line x1=\"96\" y1=\"22\" x2=\"135\" y2=\"62\" />\n",
       "  <line x1=\"96\" y1=\"26\" x2=\"135\" y2=\"65\" />\n",
       "  <line x1=\"96\" y1=\"30\" x2=\"135\" y2=\"69\" />\n",
       "  <line x1=\"96\" y1=\"33\" x2=\"135\" y2=\"73\" />\n",
       "  <line x1=\"96\" y1=\"37\" x2=\"135\" y2=\"77\" />\n",
       "  <line x1=\"96\" y1=\"41\" x2=\"135\" y2=\"80\" />\n",
       "  <line x1=\"96\" y1=\"45\" x2=\"135\" y2=\"84\" />\n",
       "  <line x1=\"96\" y1=\"48\" x2=\"135\" y2=\"88\" />\n",
       "  <line x1=\"96\" y1=\"52\" x2=\"135\" y2=\"92\" />\n",
       "  <line x1=\"96\" y1=\"56\" x2=\"135\" y2=\"95\" />\n",
       "  <line x1=\"96\" y1=\"60\" x2=\"135\" y2=\"99\" />\n",
       "  <line x1=\"96\" y1=\"63\" x2=\"135\" y2=\"103\" />\n",
       "  <line x1=\"96\" y1=\"67\" x2=\"135\" y2=\"107\" />\n",
       "  <line x1=\"96\" y1=\"71\" x2=\"135\" y2=\"110\" />\n",
       "  <line x1=\"96\" y1=\"75\" x2=\"135\" y2=\"114\" />\n",
       "  <line x1=\"96\" y1=\"78\" x2=\"135\" y2=\"118\" />\n",
       "  <line x1=\"96\" y1=\"82\" x2=\"135\" y2=\"122\" />\n",
       "  <line x1=\"96\" y1=\"86\" x2=\"135\" y2=\"125\" />\n",
       "  <line x1=\"96\" y1=\"90\" x2=\"135\" y2=\"129\" />\n",
       "  <line x1=\"96\" y1=\"93\" x2=\"135\" y2=\"133\" />\n",
       "  <line x1=\"96\" y1=\"97\" x2=\"135\" y2=\"137\" />\n",
       "  <line x1=\"96\" y1=\"101\" x2=\"135\" y2=\"140\" />\n",
       "  <line x1=\"96\" y1=\"105\" x2=\"135\" y2=\"144\" />\n",
       "  <line x1=\"96\" y1=\"108\" x2=\"135\" y2=\"148\" />\n",
       "  <line x1=\"96\" y1=\"112\" x2=\"135\" y2=\"152\" />\n",
       "  <line x1=\"96\" y1=\"116\" x2=\"135\" y2=\"155\" />\n",
       "  <line x1=\"96\" y1=\"120\" x2=\"135\" y2=\"159\" style=\"stroke-width:2\" />\n",
       "\n",
       "  <!-- Vertical lines -->\n",
       "  <line x1=\"96\" y1=\"0\" x2=\"96\" y2=\"120\" style=\"stroke-width:2\" />\n",
       "  <line x1=\"98\" y1=\"2\" x2=\"98\" y2=\"122\" />\n",
       "  <line x1=\"100\" y1=\"4\" x2=\"100\" y2=\"124\" />\n",
       "  <line x1=\"103\" y1=\"7\" x2=\"103\" y2=\"127\" />\n",
       "  <line x1=\"105\" y1=\"9\" x2=\"105\" y2=\"129\" />\n",
       "  <line x1=\"108\" y1=\"12\" x2=\"108\" y2=\"132\" />\n",
       "  <line x1=\"110\" y1=\"14\" x2=\"110\" y2=\"134\" />\n",
       "  <line x1=\"113\" y1=\"17\" x2=\"113\" y2=\"137\" />\n",
       "  <line x1=\"115\" y1=\"19\" x2=\"115\" y2=\"139\" />\n",
       "  <line x1=\"118\" y1=\"22\" x2=\"118\" y2=\"142\" />\n",
       "  <line x1=\"120\" y1=\"24\" x2=\"120\" y2=\"144\" />\n",
       "  <line x1=\"123\" y1=\"27\" x2=\"123\" y2=\"147\" />\n",
       "  <line x1=\"125\" y1=\"29\" x2=\"125\" y2=\"149\" />\n",
       "  <line x1=\"128\" y1=\"32\" x2=\"128\" y2=\"152\" />\n",
       "  <line x1=\"130\" y1=\"34\" x2=\"130\" y2=\"154\" />\n",
       "  <line x1=\"133\" y1=\"37\" x2=\"133\" y2=\"157\" />\n",
       "  <line x1=\"135\" y1=\"39\" x2=\"135\" y2=\"159\" style=\"stroke-width:2\" />\n",
       "\n",
       "  <!-- Colored Rectangle -->\n",
       "  <polygon points=\"96.000000,0.000000 135.705882,39.705882 135.705882,159.705882 96.000000,120.000000\" style=\"fill:#ECB172A0;stroke-width:0\"/>\n",
       "\n",
       "  <!-- Horizontal lines -->\n",
       "  <line x1=\"96\" y1=\"0\" x2=\"121\" y2=\"0\" style=\"stroke-width:2\" />\n",
       "  <line x1=\"98\" y1=\"2\" x2=\"123\" y2=\"2\" />\n",
       "  <line x1=\"100\" y1=\"4\" x2=\"126\" y2=\"4\" />\n",
       "  <line x1=\"103\" y1=\"7\" x2=\"128\" y2=\"7\" />\n",
       "  <line x1=\"105\" y1=\"9\" x2=\"131\" y2=\"9\" />\n",
       "  <line x1=\"108\" y1=\"12\" x2=\"133\" y2=\"12\" />\n",
       "  <line x1=\"110\" y1=\"14\" x2=\"136\" y2=\"14\" />\n",
       "  <line x1=\"113\" y1=\"17\" x2=\"138\" y2=\"17\" />\n",
       "  <line x1=\"115\" y1=\"19\" x2=\"141\" y2=\"19\" />\n",
       "  <line x1=\"118\" y1=\"22\" x2=\"143\" y2=\"22\" />\n",
       "  <line x1=\"120\" y1=\"24\" x2=\"146\" y2=\"24\" />\n",
       "  <line x1=\"123\" y1=\"27\" x2=\"148\" y2=\"27\" />\n",
       "  <line x1=\"125\" y1=\"29\" x2=\"151\" y2=\"29\" />\n",
       "  <line x1=\"128\" y1=\"32\" x2=\"153\" y2=\"32\" />\n",
       "  <line x1=\"130\" y1=\"34\" x2=\"156\" y2=\"34\" />\n",
       "  <line x1=\"133\" y1=\"37\" x2=\"158\" y2=\"37\" />\n",
       "  <line x1=\"135\" y1=\"39\" x2=\"161\" y2=\"39\" style=\"stroke-width:2\" />\n",
       "\n",
       "  <!-- Vertical lines -->\n",
       "  <line x1=\"96\" y1=\"0\" x2=\"135\" y2=\"39\" style=\"stroke-width:2\" />\n",
       "  <line x1=\"121\" y1=\"0\" x2=\"161\" y2=\"39\" style=\"stroke-width:2\" />\n",
       "\n",
       "  <!-- Colored Rectangle -->\n",
       "  <polygon points=\"96.000000,0.000000 121.412617,0.000000 161.118499,39.705882 135.705882,39.705882\" style=\"fill:#ECB172A0;stroke-width:0\"/>\n",
       "\n",
       "  <!-- Horizontal lines -->\n",
       "  <line x1=\"135\" y1=\"39\" x2=\"161\" y2=\"39\" style=\"stroke-width:2\" />\n",
       "  <line x1=\"135\" y1=\"43\" x2=\"161\" y2=\"43\" />\n",
       "  <line x1=\"135\" y1=\"47\" x2=\"161\" y2=\"47\" />\n",
       "  <line x1=\"135\" y1=\"50\" x2=\"161\" y2=\"50\" />\n",
       "  <line x1=\"135\" y1=\"54\" x2=\"161\" y2=\"54\" />\n",
       "  <line x1=\"135\" y1=\"58\" x2=\"161\" y2=\"58\" />\n",
       "  <line x1=\"135\" y1=\"62\" x2=\"161\" y2=\"62\" />\n",
       "  <line x1=\"135\" y1=\"65\" x2=\"161\" y2=\"65\" />\n",
       "  <line x1=\"135\" y1=\"69\" x2=\"161\" y2=\"69\" />\n",
       "  <line x1=\"135\" y1=\"73\" x2=\"161\" y2=\"73\" />\n",
       "  <line x1=\"135\" y1=\"77\" x2=\"161\" y2=\"77\" />\n",
       "  <line x1=\"135\" y1=\"80\" x2=\"161\" y2=\"80\" />\n",
       "  <line x1=\"135\" y1=\"84\" x2=\"161\" y2=\"84\" />\n",
       "  <line x1=\"135\" y1=\"88\" x2=\"161\" y2=\"88\" />\n",
       "  <line x1=\"135\" y1=\"92\" x2=\"161\" y2=\"92\" />\n",
       "  <line x1=\"135\" y1=\"95\" x2=\"161\" y2=\"95\" />\n",
       "  <line x1=\"135\" y1=\"99\" x2=\"161\" y2=\"99\" />\n",
       "  <line x1=\"135\" y1=\"103\" x2=\"161\" y2=\"103\" />\n",
       "  <line x1=\"135\" y1=\"107\" x2=\"161\" y2=\"107\" />\n",
       "  <line x1=\"135\" y1=\"110\" x2=\"161\" y2=\"110\" />\n",
       "  <line x1=\"135\" y1=\"114\" x2=\"161\" y2=\"114\" />\n",
       "  <line x1=\"135\" y1=\"118\" x2=\"161\" y2=\"118\" />\n",
       "  <line x1=\"135\" y1=\"122\" x2=\"161\" y2=\"122\" />\n",
       "  <line x1=\"135\" y1=\"125\" x2=\"161\" y2=\"125\" />\n",
       "  <line x1=\"135\" y1=\"129\" x2=\"161\" y2=\"129\" />\n",
       "  <line x1=\"135\" y1=\"133\" x2=\"161\" y2=\"133\" />\n",
       "  <line x1=\"135\" y1=\"137\" x2=\"161\" y2=\"137\" />\n",
       "  <line x1=\"135\" y1=\"140\" x2=\"161\" y2=\"140\" />\n",
       "  <line x1=\"135\" y1=\"144\" x2=\"161\" y2=\"144\" />\n",
       "  <line x1=\"135\" y1=\"148\" x2=\"161\" y2=\"148\" />\n",
       "  <line x1=\"135\" y1=\"152\" x2=\"161\" y2=\"152\" />\n",
       "  <line x1=\"135\" y1=\"155\" x2=\"161\" y2=\"155\" />\n",
       "  <line x1=\"135\" y1=\"159\" x2=\"161\" y2=\"159\" style=\"stroke-width:2\" />\n",
       "\n",
       "  <!-- Vertical lines -->\n",
       "  <line x1=\"135\" y1=\"39\" x2=\"135\" y2=\"159\" style=\"stroke-width:2\" />\n",
       "  <line x1=\"161\" y1=\"39\" x2=\"161\" y2=\"159\" style=\"stroke-width:2\" />\n",
       "\n",
       "  <!-- Colored Rectangle -->\n",
       "  <polygon points=\"135.705882,39.705882 161.118499,39.705882 161.118499,159.705882 135.705882,159.705882\" style=\"fill:#ECB172A0;stroke-width:0\"/>\n",
       "\n",
       "  <!-- Text -->\n",
       "  <text x=\"148.412191\" y=\"179.705882\" font-size=\"1.0rem\" font-weight=\"100\" text-anchor=\"middle\" >1</text>\n",
       "  <text x=\"181.118499\" y=\"99.705882\" font-size=\"1.0rem\" font-weight=\"100\" text-anchor=\"middle\" transform=\"rotate(-90,181.118499,99.705882)\">2048</text>\n",
       "  <text x=\"105.852941\" y=\"159.852941\" font-size=\"1.0rem\" font-weight=\"100\" text-anchor=\"middle\" transform=\"rotate(45,105.852941,159.852941)\">1152</text>\n",
       "</svg>\n",
       "</td>\n",
       "</tr>\n",
       "</table>"
      ],
      "text/plain": [
       "dask.array<array, shape=(26, 1152, 2048, 1), dtype=bool, chunksize=(1, 72, 64, 1), chunktype=numpy.ndarray>"
      ]
     },
     "execution_count": 13,
     "metadata": {},
     "output_type": "execute_result"
    }
   ],
   "source": [
    "mask_"
   ]
  },
  {
   "cell_type": "code",
   "execution_count": 14,
   "metadata": {},
   "outputs": [
    {
     "name": "stdout",
     "output_type": "stream",
     "text": [
      "========================\n",
      "DF/F computation\n",
      "Scheduler: inproc://10.150.100.212/250066/1\n",
      "Dashboard link: http://10.150.100.212/250066/1:8787/status\n"
     ]
    }
   ],
   "source": [
    "print('========================')\n",
    "print('DF/F computation')\n",
    "compute_cell_dff_raw(save_root, mask_, dask_tmp=dask_tmp, memory_limit=0)\n",
    "combine_dff(save_root)\n",
    "combine_dff_sparse(save_root)"
   ]
  },
  {
   "cell_type": "code",
   "execution_count": null,
   "metadata": {},
   "outputs": [],
   "source": [
    "import tarfile\n",
    "\n",
    "def make_tarfile(output_filename, source_dir):\n",
    "    with tarfile.open(output_filename, \"w:gz\") as tar:\n",
    "        tar.add(source_dir, arcname=os.path.basename(source_dir))"
   ]
  },
  {
   "cell_type": "code",
   "execution_count": null,
   "metadata": {},
   "outputs": [],
   "source": [
    "make_tarfile(save_root+'sup_demix_rlt.tar.gz', save_root+'sup_demix_rlt')"
   ]
  },
  {
   "cell_type": "code",
   "execution_count": null,
   "metadata": {},
   "outputs": [],
   "source": [
    "import shutil\n",
    "for nfolder in glob(save_root+'*.zarr/'):\n",
    "    shutil.rmtree(nfolder)\n",
    "shutil.rmtree(save_root+'cell_raw_dff')\n",
    "shutil.rmtree(save_root+'sup_demix_rlt')"
   ]
  }
 ],
 "metadata": {
  "kernelspec": {
   "display_name": "myenv",
   "language": "python",
   "name": "myenv"
  },
  "language_info": {
   "codemirror_mode": {
    "name": "ipython",
    "version": 3
   },
   "file_extension": ".py",
   "mimetype": "text/x-python",
   "name": "python",
   "nbconvert_exporter": "python",
   "pygments_lexer": "ipython3",
   "version": "3.7.4"
  }
 },
 "nbformat": 4,
 "nbformat_minor": 4
}
