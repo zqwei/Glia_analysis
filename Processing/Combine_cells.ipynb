{
 "cells": [
  {
   "cell_type": "code",
   "execution_count": null,
   "metadata": {},
   "outputs": [],
   "source": [
    "import os, sys\n",
    "import warnings\n",
    "warnings.filterwarnings('ignore')\n",
    "from fish_proc.wholeBrainDask.cellProcessing_single_WS import *\n",
    "from fish_proc.utils.fileio import make_tarfile\n",
    "import dask.array as da\n",
    "import numpy as np\n",
    "import matplotlib.pyplot as plt\n",
    "import pandas as pd\n",
    "\n",
    "%matplotlib inline\n",
    "%load_ext autoreload\n",
    "%autoreload 2\n",
    "\n",
    "df = pd.read_csv('data_list.csv')\n",
    "dask_tmp = '/nrs/ahrens/Ziqiang/dask-worker-space'\n",
    "memory_limit = 0 # unlimited\n",
    "\n",
    "row = df.iloc[3]\n",
    "save_root = row['save_dir']+'/'\n",
    "print(save_root)"
   ]
  },
  {
   "cell_type": "code",
   "execution_count": null,
   "metadata": {},
   "outputs": [],
   "source": [
    "Y_d = da.from_zarr(f'{save_root}/Y_max.zarr')\n",
    "np.save(f'{save_root}/Y_max', Y_d.compute())\n",
    "Y_d = da.from_zarr(f'{save_root}/Y_d_max.zarr')\n",
    "np.save(f'{save_root}/Y_d_max', Y_d.compute())\n",
    "\n",
    "Y_d = da.from_zarr(f'{save_root}/Y_ave.zarr')\n",
    "chunks = Y_d.chunksize[:-1]\n",
    "np.save(f'{save_root}/Y_ave', Y_d.compute())\n",
    "Y_d = np.load(f'{save_root}/Y_ave.npy')\n",
    "Y_d_max = Y_d.max(axis=0, keepdims=True)"
   ]
  },
  {
   "cell_type": "code",
   "execution_count": null,
   "metadata": {},
   "outputs": [],
   "source": [
    "num_plane = Y_d.shape[0]\n",
    "fig, ax = plt.subplots(4, num_plane//4+1, figsize=(40, 10))\n",
    "ax = ax.flatten()\n",
    "for n, _ in enumerate(Y_d):\n",
    "    ax[n].imshow(n_.squeeze().astype('float'), vmax=np.percentile(n_[:].astype('float'), 95))\n",
    "    ax[n].axis('off')\n",
    "plt.show()"
   ]
  },
  {
   "cell_type": "code",
   "execution_count": null,
   "metadata": {},
   "outputs": [],
   "source": [
    "max_ = np.percentile(Y_d_max, 40)\n",
    "mask_ = Y_d_max>max_\n",
    "mask_ = np.repeat(mask_, Y_d.shape[0], axis=0)\n",
    "mask_ = da.from_array(mask_, chunks=(1, chunks[1], chunks[2], -1))\n",
    "plt.imshow(mask_[0].squeeze())\n",
    "plt.show()"
   ]
  },
  {
   "cell_type": "code",
   "execution_count": null,
   "metadata": {},
   "outputs": [],
   "source": [
    "print('========================')\n",
    "print('DF/F computation')\n",
    "compute_cell_dff_raw(save_root, mask_, dask_tmp=dask_tmp, memory_limit=0)\n",
    "combine_dff(save_root)\n",
    "combine_dff_sparse(save_root)"
   ]
  },
  {
   "cell_type": "code",
   "execution_count": null,
   "metadata": {},
   "outputs": [],
   "source": [
    "make_tarfile(save_root+'sup_demix_rlt.tar.gz', save_root+'sup_demix_rlt')"
   ]
  },
  {
   "cell_type": "code",
   "execution_count": null,
   "metadata": {},
   "outputs": [],
   "source": [
    "import shutil\n",
    "for nfolder in glob(save_root+'*.zarr/'):\n",
    "    shutil.rmtree(nfolder)\n",
    "shutil.rmtree(save_root+'cell_raw_dff')\n",
    "shutil.rmtree(save_root+'sup_demix_rlt')"
   ]
  },
  {
   "cell_type": "code",
   "execution_count": null,
   "metadata": {},
   "outputs": [],
   "source": []
  }
 ],
 "metadata": {
  "kernelspec": {
   "display_name": "myenv",
   "language": "python",
   "name": "myenv"
  },
  "language_info": {
   "codemirror_mode": {
    "name": "ipython",
    "version": 3
   },
   "file_extension": ".py",
   "mimetype": "text/x-python",
   "name": "python",
   "nbconvert_exporter": "python",
   "pygments_lexer": "ipython3",
   "version": "3.7.5"
  }
 },
 "nbformat": 4,
 "nbformat_minor": 4
}
