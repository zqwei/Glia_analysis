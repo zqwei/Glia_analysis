{
 "cells": [
  {
   "cell_type": "code",
   "execution_count": 1,
   "metadata": {},
   "outputs": [],
   "source": [
    "import os, sys\n",
    "import warnings\n",
    "warnings.filterwarnings('ignore')\n",
    "from fish_proc.wholeBrainDask.cellProcessing_single_WS import *\n",
    "from fish_proc.utils.fileio import make_tarfile\n",
    "import dask.array as da\n",
    "import numpy as np\n",
    "import matplotlib.pyplot as plt\n",
    "\n",
    "%matplotlib inline\n",
    "%load_ext autoreload\n",
    "%autoreload 2"
   ]
  },
  {
   "cell_type": "code",
   "execution_count": 2,
   "metadata": {},
   "outputs": [],
   "source": [
    "dask_tmp = '/scratch/weiz/dask-worker-space'\n",
    "memory_limit = 0 # unlimited\n",
    "save_root = '/scratch/weiz/'"
   ]
  },
  {
   "cell_type": "code",
   "execution_count": null,
   "metadata": {},
   "outputs": [],
   "source": [
    "Y_d = da.from_zarr(f'{save_root}/Y_max.zarr')\n",
    "np.save(f'{save_root}/Y_max', Y_d.compute())\n",
    "Y_d = da.from_zarr(f'{save_root}/Y_d_max.zarr')\n",
    "np.save(f'{save_root}/Y_d_max', Y_d.compute())\n",
    "\n",
    "Y_d = da.from_zarr(f'{save_root}/Y_ave.zarr')\n",
    "chunks = Y_d.chunksize[:-1]\n",
    "np.save(f'{save_root}/Y_ave', Y_d.compute())\n",
    "Y_d = np.load(f'{save_root}/Y_ave.npy')\n",
    "Y_d_max = Y_d.max(axis=0, keepdims=True)cd "
   ]
  },
  {
   "cell_type": "code",
   "execution_count": null,
   "metadata": {},
   "outputs": [],
   "source": [
    "max_ = np.percentile(Y_d_max, 40)\n",
    "mask_ = Y_d_max>max_\n",
    "mask_ = np.repeat(mask_, Y_d.shape[0], axis=0)\n",
    "mask_ = da.from_array(mask_, chunks=(1, chunks[1], chunks[2], -1))\n",
    "plt.imshow(mask_[0].squeeze())\n",
    "plt.show()"
   ]
  },
  {
   "cell_type": "code",
   "execution_count": 3,
   "metadata": {},
   "outputs": [
    {
     "name": "stdout",
     "output_type": "stream",
     "text": [
      "========================\n",
      "DF/F computation\n"
     ]
    },
    {
     "name": "stderr",
     "output_type": "stream",
     "text": [
      "100%|██████████| 45007/45007 [1:34:17<00:00,  7.96it/s]  \n",
      "100%|██████████| 45007/45007 [1:21:31<00:00,  9.20it/s]\n"
     ]
    }
   ],
   "source": [
    "print('========================')\n",
    "print('DF/F computation')\n",
    "compute_cell_dff_raw(save_root, mask_, dask_tmp=dask_tmp, memory_limit=0)\n",
    "combine_dff(save_root)\n",
    "combine_dff_sparse(save_root)"
   ]
  },
  {
   "cell_type": "code",
   "execution_count": 4,
   "metadata": {},
   "outputs": [],
   "source": [
    "make_tarfile(save_root+'sup_demix_rlt.tar.gz', save_root+'sup_demix_rlt')"
   ]
  },
  {
   "cell_type": "code",
   "execution_count": null,
   "metadata": {},
   "outputs": [],
   "source": [
    "import shutil\n",
    "for nfolder in glob(save_root+'*.zarr/'):\n",
    "    shutil.rmtree(nfolder)\n",
    "shutil.rmtree(save_root+'cell_raw_dff')\n",
    "shutil.rmtree(save_root+'sup_demix_rlt')"
   ]
  },
  {
   "cell_type": "code",
   "execution_count": null,
   "metadata": {},
   "outputs": [],
   "source": []
  }
 ],
 "metadata": {
  "kernelspec": {
   "display_name": "myenv",
   "language": "python",
   "name": "myenv"
  },
  "language_info": {
   "codemirror_mode": {
    "name": "ipython",
    "version": 3
   },
   "file_extension": ".py",
   "mimetype": "text/x-python",
   "name": "python",
   "nbconvert_exporter": "python",
   "pygments_lexer": "ipython3",
   "version": "3.7.5"
  }
 },
 "nbformat": 4,
 "nbformat_minor": 4
}
