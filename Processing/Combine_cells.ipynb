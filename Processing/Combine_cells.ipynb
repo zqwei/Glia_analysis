{
 "cells": [
  {
   "cell_type": "code",
   "execution_count": 8,
   "metadata": {},
   "outputs": [
    {
     "name": "stdout",
     "output_type": "stream",
     "text": [
      "The autoreload extension is already loaded. To reload it, use:\n",
      "  %reload_ext autoreload\n"
     ]
    }
   ],
   "source": [
    "import os, sys\n",
    "import warnings\n",
    "warnings.filterwarnings('ignore')\n",
    "from cellProcessing_single_WS import *\n",
    "import dask.array as da\n",
    "import numpy as np\n",
    "import matplotlib.pyplot as plt\n",
    "\n",
    "%matplotlib inline\n",
    "%load_ext autoreload\n",
    "%autoreload 2\n",
    "\n",
    "# dir_root = '/nrs/ahrens/jing/giving_up/20190430/fish01/6dpf_HuC-GCaMP7ff-GFAP-RGECO_GU-slow-fwd_fish01_exp01_20190430_174349/im'\n",
    "# save_root = '/nrs/ahrens/Ziqiang/Jing_Glia_project/Processed_data/20190430/fish01/6dpf_HuC-GCaMP7ff-GFAP-RGECO_GU-slow-fwd_fish01_exp01_20190430_174349/'\n",
    "\n",
    "dir_root = '/nrs/ahrens/jing/giving_up/20190426/fish03/7dpf_HuC-H2B_GCaMP7ff_GU-slow-fwd_fish03_exp02_20190426_221213/im'\n",
    "save_root = '/nrs/ahrens/Ziqiang/Jing_Glia_project/Processed_data/20190426/fish03/7dpf_HuC-H2B_GCaMP7ff_GU-slow-fwd_fish03_exp02_20190426_221213/'"
   ]
  },
  {
   "cell_type": "code",
   "execution_count": 9,
   "metadata": {},
   "outputs": [],
   "source": [
    "dask_tmp = '/opt/data/weiz/dask-worker-space'\n",
    "memory_limit = 0 # unlimited\n",
    "\n",
    "if not os.path.exists(save_root):\n",
    "    os.makedirs(save_root)\n",
    "\n",
    "nsplit = (16, 32)\n",
    "baseline_percentile = 20\n",
    "baseline_window = 1000   # number of frames\n",
    "cameraNoiseMat = '/nrs/ahrens/ahrenslab/Ziqiang/gainMat/gainMat20180208'"
   ]
  },
  {
   "cell_type": "code",
   "execution_count": 10,
   "metadata": {},
   "outputs": [],
   "source": [
    "# default_mask(dir_root, save_root, dask_tmp=dask_tmp, memory_limit=memory_limit)"
   ]
  },
  {
   "cell_type": "code",
   "execution_count": 11,
   "metadata": {},
   "outputs": [],
   "source": [
    "# Y_d = da.from_zarr(f'{save_root}/Y_ave.zarr')\n",
    "# np.save(f'{save_root}/Y_ave', Y_d.compute())\n",
    "Y_d = np.load(f'{save_root}/Y_ave.npy')\n",
    "Y_d_max = Y_d.max(axis=0, keepdims=True)"
   ]
  },
  {
   "cell_type": "code",
   "execution_count": 14,
   "metadata": {},
   "outputs": [
    {
     "data": {
      "image/png": "[encoded data removed]",
      "text/plain": [
       "<Figure size 432x288 with 1 Axes>"
      ]
     },
     "metadata": {
      "needs_background": "light"
     },
     "output_type": "display_data"
    }
   ],
   "source": [
    "max_ = np.percentile(Y_d_max, 45)\n",
    "mask_ = Y_d_max>max_\n",
    "mask_ = np.repeat(mask_, Y_d.shape[0], axis=0)\n",
    "mask_ = da.from_array(mask_, chunks=(1, Y_d.shape[1]//nsplit[0], Y_d.shape[2]//nsplit[1], -1))\n",
    "plt.imshow(mask_[0].squeeze())\n",
    "plt.show()"
   ]
  },
  {
   "cell_type": "code",
   "execution_count": 6,
   "metadata": {},
   "outputs": [
    {
     "data": {
      "text/html": [
       "<table>\n",
       "<tr>\n",
       "<td>\n",
       "<table>\n",
       "  <thead>\n",
       "    <tr><td> </td><th> Array </th><th> Chunk </th></tr>\n",
       "  </thead>\n",
       "  <tbody>\n",
       "    <tr><th> Bytes </th><td> 47.65 MB </td> <td> 4.42 kB </td></tr>\n",
       "    <tr><th> Shape </th><td> (21, 1108, 2048, 1) </td> <td> (1, 69, 64, 1) </td></tr>\n",
       "    <tr><th> Count </th><td> 11425 Tasks </td><td> 11424 Chunks </td></tr>\n",
       "    <tr><th> Type </th><td> bool </td><td> numpy.ndarray </td></tr>\n",
       "  </tbody>\n",
       "</table>\n",
       "</td>\n",
       "<td>\n",
       "<svg width=\"303\" height=\"208\" style=\"stroke:rgb(0,0,0);stroke-width:1\" >\n",
       "\n",
       "  <!-- Horizontal lines -->\n",
       "  <line x1=\"0\" y1=\"0\" x2=\"25\" y2=\"0\" style=\"stroke-width:2\" />\n",
       "  <line x1=\"0\" y1=\"25\" x2=\"25\" y2=\"25\" style=\"stroke-width:2\" />\n",
       "\n",
       "  <!-- Vertical lines -->\n",
       "  <line x1=\"0\" y1=\"0\" x2=\"0\" y2=\"25\" style=\"stroke-width:2\" />\n",
       "  <line x1=\"1\" y1=\"0\" x2=\"1\" y2=\"25\" />\n",
       "  <line x1=\"2\" y1=\"0\" x2=\"2\" y2=\"25\" />\n",
       "  <line x1=\"3\" y1=\"0\" x2=\"3\" y2=\"25\" />\n",
       "  <line x1=\"4\" y1=\"0\" x2=\"4\" y2=\"25\" />\n",
       "  <line x1=\"6\" y1=\"0\" x2=\"6\" y2=\"25\" />\n",
       "  <line x1=\"7\" y1=\"0\" x2=\"7\" y2=\"25\" />\n",
       "  <line x1=\"8\" y1=\"0\" x2=\"8\" y2=\"25\" />\n",
       "  <line x1=\"9\" y1=\"0\" x2=\"9\" y2=\"25\" />\n",
       "  <line x1=\"10\" y1=\"0\" x2=\"10\" y2=\"25\" />\n",
       "  <line x1=\"12\" y1=\"0\" x2=\"12\" y2=\"25\" />\n",
       "  <line x1=\"13\" y1=\"0\" x2=\"13\" y2=\"25\" />\n",
       "  <line x1=\"14\" y1=\"0\" x2=\"14\" y2=\"25\" />\n",
       "  <line x1=\"15\" y1=\"0\" x2=\"15\" y2=\"25\" />\n",
       "  <line x1=\"17\" y1=\"0\" x2=\"17\" y2=\"25\" />\n",
       "  <line x1=\"18\" y1=\"0\" x2=\"18\" y2=\"25\" />\n",
       "  <line x1=\"19\" y1=\"0\" x2=\"19\" y2=\"25\" />\n",
       "  <line x1=\"20\" y1=\"0\" x2=\"20\" y2=\"25\" />\n",
       "  <line x1=\"21\" y1=\"0\" x2=\"21\" y2=\"25\" />\n",
       "  <line x1=\"23\" y1=\"0\" x2=\"23\" y2=\"25\" />\n",
       "  <line x1=\"24\" y1=\"0\" x2=\"24\" y2=\"25\" />\n",
       "  <line x1=\"25\" y1=\"0\" x2=\"25\" y2=\"25\" style=\"stroke-width:2\" />\n",
       "\n",
       "  <!-- Colored Rectangle -->\n",
       "  <polygon points=\"0.000000,0.000000 25.533069,0.000000 25.533069,25.412617 0.000000,25.412617\" style=\"fill:#ECB172A0;stroke-width:0\"/>\n",
       "\n",
       "  <!-- Text -->\n",
       "  <text x=\"12.766535\" y=\"45.412617\" font-size=\"1.0rem\" font-weight=\"100\" text-anchor=\"middle\" >21</text>\n",
       "  <text x=\"45.533069\" y=\"12.706308\" font-size=\"1.0rem\" font-weight=\"100\" text-anchor=\"middle\" transform=\"rotate(0,45.533069,12.706308)\">1</text>\n",
       "\n",
       "\n",
       "  <!-- Horizontal lines -->\n",
       "  <line x1=\"95\" y1=\"0\" x2=\"133\" y2=\"38\" style=\"stroke-width:2\" />\n",
       "  <line x1=\"95\" y1=\"3\" x2=\"133\" y2=\"41\" />\n",
       "  <line x1=\"95\" y1=\"7\" x2=\"133\" y2=\"45\" />\n",
       "  <line x1=\"95\" y1=\"11\" x2=\"133\" y2=\"49\" />\n",
       "  <line x1=\"95\" y1=\"15\" x2=\"133\" y2=\"53\" />\n",
       "  <line x1=\"95\" y1=\"18\" x2=\"133\" y2=\"56\" />\n",
       "  <line x1=\"95\" y1=\"22\" x2=\"133\" y2=\"60\" />\n",
       "  <line x1=\"95\" y1=\"26\" x2=\"133\" y2=\"64\" />\n",
       "  <line x1=\"95\" y1=\"30\" x2=\"133\" y2=\"68\" />\n",
       "  <line x1=\"95\" y1=\"33\" x2=\"133\" y2=\"71\" />\n",
       "  <line x1=\"95\" y1=\"37\" x2=\"133\" y2=\"75\" />\n",
       "  <line x1=\"95\" y1=\"41\" x2=\"133\" y2=\"79\" />\n",
       "  <line x1=\"95\" y1=\"45\" x2=\"133\" y2=\"83\" />\n",
       "  <line x1=\"95\" y1=\"48\" x2=\"133\" y2=\"86\" />\n",
       "  <line x1=\"95\" y1=\"52\" x2=\"133\" y2=\"90\" />\n",
       "  <line x1=\"95\" y1=\"56\" x2=\"133\" y2=\"94\" />\n",
       "  <line x1=\"95\" y1=\"60\" x2=\"133\" y2=\"98\" />\n",
       "  <line x1=\"95\" y1=\"63\" x2=\"133\" y2=\"101\" />\n",
       "  <line x1=\"95\" y1=\"67\" x2=\"133\" y2=\"105\" />\n",
       "  <line x1=\"95\" y1=\"71\" x2=\"133\" y2=\"109\" />\n",
       "  <line x1=\"95\" y1=\"75\" x2=\"133\" y2=\"113\" />\n",
       "  <line x1=\"95\" y1=\"78\" x2=\"133\" y2=\"116\" />\n",
       "  <line x1=\"95\" y1=\"82\" x2=\"133\" y2=\"120\" />\n",
       "  <line x1=\"95\" y1=\"86\" x2=\"133\" y2=\"124\" />\n",
       "  <line x1=\"95\" y1=\"90\" x2=\"133\" y2=\"128\" />\n",
       "  <line x1=\"95\" y1=\"93\" x2=\"133\" y2=\"131\" />\n",
       "  <line x1=\"95\" y1=\"97\" x2=\"133\" y2=\"135\" />\n",
       "  <line x1=\"95\" y1=\"101\" x2=\"133\" y2=\"139\" />\n",
       "  <line x1=\"95\" y1=\"105\" x2=\"133\" y2=\"143\" />\n",
       "  <line x1=\"95\" y1=\"108\" x2=\"133\" y2=\"146\" />\n",
       "  <line x1=\"95\" y1=\"112\" x2=\"133\" y2=\"150\" />\n",
       "  <line x1=\"95\" y1=\"116\" x2=\"133\" y2=\"154\" />\n",
       "  <line x1=\"95\" y1=\"120\" x2=\"133\" y2=\"158\" style=\"stroke-width:2\" />\n",
       "\n",
       "  <!-- Vertical lines -->\n",
       "  <line x1=\"95\" y1=\"0\" x2=\"95\" y2=\"120\" style=\"stroke-width:2\" />\n",
       "  <line x1=\"97\" y1=\"2\" x2=\"97\" y2=\"122\" />\n",
       "  <line x1=\"99\" y1=\"4\" x2=\"99\" y2=\"124\" />\n",
       "  <line x1=\"102\" y1=\"7\" x2=\"102\" y2=\"127\" />\n",
       "  <line x1=\"104\" y1=\"9\" x2=\"104\" y2=\"129\" />\n",
       "  <line x1=\"106\" y1=\"11\" x2=\"106\" y2=\"131\" />\n",
       "  <line x1=\"109\" y1=\"14\" x2=\"109\" y2=\"134\" />\n",
       "  <line x1=\"111\" y1=\"16\" x2=\"111\" y2=\"136\" />\n",
       "  <line x1=\"114\" y1=\"19\" x2=\"114\" y2=\"139\" />\n",
       "  <line x1=\"116\" y1=\"21\" x2=\"116\" y2=\"141\" />\n",
       "  <line x1=\"118\" y1=\"23\" x2=\"118\" y2=\"143\" />\n",
       "  <line x1=\"121\" y1=\"26\" x2=\"121\" y2=\"146\" />\n",
       "  <line x1=\"123\" y1=\"28\" x2=\"123\" y2=\"148\" />\n",
       "  <line x1=\"125\" y1=\"30\" x2=\"125\" y2=\"150\" />\n",
       "  <line x1=\"128\" y1=\"33\" x2=\"128\" y2=\"153\" />\n",
       "  <line x1=\"130\" y1=\"35\" x2=\"130\" y2=\"155\" />\n",
       "  <line x1=\"133\" y1=\"38\" x2=\"133\" y2=\"158\" />\n",
       "  <line x1=\"133\" y1=\"38\" x2=\"133\" y2=\"158\" style=\"stroke-width:2\" />\n",
       "\n",
       "  <!-- Colored Rectangle -->\n",
       "  <polygon points=\"95.000000,0.000000 133.189338,38.189338 133.189338,158.189338 95.000000,120.000000\" style=\"fill:#ECB172A0;stroke-width:0\"/>\n",
       "\n",
       "  <!-- Horizontal lines -->\n",
       "  <line x1=\"95\" y1=\"0\" x2=\"120\" y2=\"0\" style=\"stroke-width:2\" />\n",
       "  <line x1=\"97\" y1=\"2\" x2=\"122\" y2=\"2\" />\n",
       "  <line x1=\"99\" y1=\"4\" x2=\"125\" y2=\"4\" />\n",
       "  <line x1=\"102\" y1=\"7\" x2=\"127\" y2=\"7\" />\n",
       "  <line x1=\"104\" y1=\"9\" x2=\"129\" y2=\"9\" />\n",
       "  <line x1=\"106\" y1=\"11\" x2=\"132\" y2=\"11\" />\n",
       "  <line x1=\"109\" y1=\"14\" x2=\"134\" y2=\"14\" />\n",
       "  <line x1=\"111\" y1=\"16\" x2=\"137\" y2=\"16\" />\n",
       "  <line x1=\"114\" y1=\"19\" x2=\"139\" y2=\"19\" />\n",
       "  <line x1=\"116\" y1=\"21\" x2=\"141\" y2=\"21\" />\n",
       "  <line x1=\"118\" y1=\"23\" x2=\"144\" y2=\"23\" />\n",
       "  <line x1=\"121\" y1=\"26\" x2=\"146\" y2=\"26\" />\n",
       "  <line x1=\"123\" y1=\"28\" x2=\"148\" y2=\"28\" />\n",
       "  <line x1=\"125\" y1=\"30\" x2=\"151\" y2=\"30\" />\n",
       "  <line x1=\"128\" y1=\"33\" x2=\"153\" y2=\"33\" />\n",
       "  <line x1=\"130\" y1=\"35\" x2=\"156\" y2=\"35\" />\n",
       "  <line x1=\"133\" y1=\"38\" x2=\"158\" y2=\"38\" />\n",
       "  <line x1=\"133\" y1=\"38\" x2=\"158\" y2=\"38\" style=\"stroke-width:2\" />\n",
       "\n",
       "  <!-- Vertical lines -->\n",
       "  <line x1=\"95\" y1=\"0\" x2=\"133\" y2=\"38\" style=\"stroke-width:2\" />\n",
       "  <line x1=\"120\" y1=\"0\" x2=\"158\" y2=\"38\" style=\"stroke-width:2\" />\n",
       "\n",
       "  <!-- Colored Rectangle -->\n",
       "  <polygon points=\"95.000000,0.000000 120.412617,0.000000 158.601955,38.189338 133.189338,38.189338\" style=\"fill:#ECB172A0;stroke-width:0\"/>\n",
       "\n",
       "  <!-- Horizontal lines -->\n",
       "  <line x1=\"133\" y1=\"38\" x2=\"158\" y2=\"38\" style=\"stroke-width:2\" />\n",
       "  <line x1=\"133\" y1=\"41\" x2=\"158\" y2=\"41\" />\n",
       "  <line x1=\"133\" y1=\"45\" x2=\"158\" y2=\"45\" />\n",
       "  <line x1=\"133\" y1=\"49\" x2=\"158\" y2=\"49\" />\n",
       "  <line x1=\"133\" y1=\"53\" x2=\"158\" y2=\"53\" />\n",
       "  <line x1=\"133\" y1=\"56\" x2=\"158\" y2=\"56\" />\n",
       "  <line x1=\"133\" y1=\"60\" x2=\"158\" y2=\"60\" />\n",
       "  <line x1=\"133\" y1=\"64\" x2=\"158\" y2=\"64\" />\n",
       "  <line x1=\"133\" y1=\"68\" x2=\"158\" y2=\"68\" />\n",
       "  <line x1=\"133\" y1=\"71\" x2=\"158\" y2=\"71\" />\n",
       "  <line x1=\"133\" y1=\"75\" x2=\"158\" y2=\"75\" />\n",
       "  <line x1=\"133\" y1=\"79\" x2=\"158\" y2=\"79\" />\n",
       "  <line x1=\"133\" y1=\"83\" x2=\"158\" y2=\"83\" />\n",
       "  <line x1=\"133\" y1=\"86\" x2=\"158\" y2=\"86\" />\n",
       "  <line x1=\"133\" y1=\"90\" x2=\"158\" y2=\"90\" />\n",
       "  <line x1=\"133\" y1=\"94\" x2=\"158\" y2=\"94\" />\n",
       "  <line x1=\"133\" y1=\"98\" x2=\"158\" y2=\"98\" />\n",
       "  <line x1=\"133\" y1=\"101\" x2=\"158\" y2=\"101\" />\n",
       "  <line x1=\"133\" y1=\"105\" x2=\"158\" y2=\"105\" />\n",
       "  <line x1=\"133\" y1=\"109\" x2=\"158\" y2=\"109\" />\n",
       "  <line x1=\"133\" y1=\"113\" x2=\"158\" y2=\"113\" />\n",
       "  <line x1=\"133\" y1=\"116\" x2=\"158\" y2=\"116\" />\n",
       "  <line x1=\"133\" y1=\"120\" x2=\"158\" y2=\"120\" />\n",
       "  <line x1=\"133\" y1=\"124\" x2=\"158\" y2=\"124\" />\n",
       "  <line x1=\"133\" y1=\"128\" x2=\"158\" y2=\"128\" />\n",
       "  <line x1=\"133\" y1=\"131\" x2=\"158\" y2=\"131\" />\n",
       "  <line x1=\"133\" y1=\"135\" x2=\"158\" y2=\"135\" />\n",
       "  <line x1=\"133\" y1=\"139\" x2=\"158\" y2=\"139\" />\n",
       "  <line x1=\"133\" y1=\"143\" x2=\"158\" y2=\"143\" />\n",
       "  <line x1=\"133\" y1=\"146\" x2=\"158\" y2=\"146\" />\n",
       "  <line x1=\"133\" y1=\"150\" x2=\"158\" y2=\"150\" />\n",
       "  <line x1=\"133\" y1=\"154\" x2=\"158\" y2=\"154\" />\n",
       "  <line x1=\"133\" y1=\"158\" x2=\"158\" y2=\"158\" style=\"stroke-width:2\" />\n",
       "\n",
       "  <!-- Vertical lines -->\n",
       "  <line x1=\"133\" y1=\"38\" x2=\"133\" y2=\"158\" style=\"stroke-width:2\" />\n",
       "  <line x1=\"158\" y1=\"38\" x2=\"158\" y2=\"158\" style=\"stroke-width:2\" />\n",
       "\n",
       "  <!-- Colored Rectangle -->\n",
       "  <polygon points=\"133.189338,38.189338 158.601955,38.189338 158.601955,158.189338 133.189338,158.189338\" style=\"fill:#ECB172A0;stroke-width:0\"/>\n",
       "\n",
       "  <!-- Text -->\n",
       "  <text x=\"145.895646\" y=\"178.189338\" font-size=\"1.0rem\" font-weight=\"100\" text-anchor=\"middle\" >1</text>\n",
       "  <text x=\"178.601955\" y=\"98.189338\" font-size=\"1.0rem\" font-weight=\"100\" text-anchor=\"middle\" transform=\"rotate(-90,178.601955,98.189338)\">2048</text>\n",
       "  <text x=\"104.094669\" y=\"159.094669\" font-size=\"1.0rem\" font-weight=\"100\" text-anchor=\"middle\" transform=\"rotate(45,104.094669,159.094669)\">1108</text>\n",
       "</svg>\n",
       "</td>\n",
       "</tr>\n",
       "</table>"
      ],
      "text/plain": [
       "dask.array<array, shape=(21, 1108, 2048, 1), dtype=bool, chunksize=(1, 69, 64, 1), chunktype=numpy.ndarray>"
      ]
     },
     "execution_count": 6,
     "metadata": {},
     "output_type": "execute_result"
    }
   ],
   "source": [
    "mask_"
   ]
  },
  {
   "cell_type": "code",
   "execution_count": null,
   "metadata": {},
   "outputs": [
    {
     "name": "stdout",
     "output_type": "stream",
     "text": [
      "========================\n",
      "DF/F computation\n",
      "Scheduler: inproc://10.150.100.212/213338/1\n",
      "Dashboard link: http://10.150.100.212/213338/1:8787/status\n"
     ]
    }
   ],
   "source": [
    "print('========================')\n",
    "print('DF/F computation')\n",
    "compute_cell_dff_raw(save_root, mask_, dask_tmp=dask_tmp, memory_limit=0)\n",
    "combine_dff(save_root)\n",
    "combine_dff_sparse(save_root)"
   ]
  },
  {
   "cell_type": "code",
   "execution_count": null,
   "metadata": {},
   "outputs": [],
   "source": []
  }
 ],
 "metadata": {
  "kernelspec": {
   "display_name": "myenv",
   "language": "python",
   "name": "myenv"
  },
  "language_info": {
   "codemirror_mode": {
    "name": "ipython",
    "version": 3
   },
   "file_extension": ".py",
   "mimetype": "text/x-python",
   "name": "python",
   "nbconvert_exporter": "python",
   "pygments_lexer": "ipython3",
   "version": "3.7.4"
  }
 },
 "nbformat": 4,
 "nbformat_minor": 4
}
