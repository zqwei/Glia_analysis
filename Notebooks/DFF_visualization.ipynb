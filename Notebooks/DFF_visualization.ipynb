{
 "cells": [
  {
   "cell_type": "markdown",
   "metadata": {},
   "source": [
    "# Whole brain data processing"
   ]
  },
  {
   "cell_type": "code",
   "execution_count": null,
   "metadata": {},
   "outputs": [],
   "source": [
    "import numpy as np\n",
    "import os, sys\n",
    "import matplotlib.pyplot as plt\n",
    "import warnings\n",
    "warnings.filterwarnings('ignore')\n",
    "import fish_proc.wholeBrainDask.cellProcessing_single_WS as fwc\n",
    "import dask.array as da\n",
    "import pandas as pd\n",
    "\n",
    "%matplotlib inline\n",
    "%load_ext autoreload\n",
    "%autoreload 2\n",
    "\n",
    "df = pd.read_csv('../Processing/data_list.csv')\n",
    "row = df.iloc[3]\n",
    "save_root = row['save_dir']+'/'\n",
    "print(save_root)"
   ]
  },
  {
   "cell_type": "code",
   "execution_count": null,
   "metadata": {},
   "outputs": [],
   "source": [
    "brain_map = np.load(save_root+'Y_ave.npy')\n",
    "_ = np.load(save_root+'cell_raw_dff_sparse.npz', allow_pickle=True)\n",
    "A = _['A'].astype('float')\n",
    "F_ = _['F'].astype('float')\n",
    "A_loc = _['A_loc']\n",
    "_ = None\n",
    "# first remove components with low signals\n",
    "valid_cell = F_.max(axis=-1)>20\n",
    "A = A[valid_cell]\n",
    "A_loc = A_loc[valid_cell]\n",
    "F_ = F_[valid_cell]\n",
    "F_dask = da.from_array(F_, chunks=('auto', -1))\n",
    "baseline_ = da.map_blocks(fwc.baseline, F_dask, dtype='float', window=400, percentile=20, downsample=10).compute()\n",
    "dFF = F_/baseline_-1\n",
    "invalid_ = (dFF.max(axis=-1)>5) | (np.isnan(dFF.max(axis=-1))) | (baseline_.min(axis=-1)<=0)\n",
    "np.savez(save_root+'cell_dff.npz', A=A[~invalid_].astype('float16'), A_loc=A_loc[~invalid_], dFF=dFF[~invalid_].astype('float16'))"
   ]
  },
  {
   "cell_type": "markdown",
   "metadata": {},
   "source": [
    "## plot whole brain segmentation"
   ]
  },
  {
   "cell_type": "code",
   "execution_count": null,
   "metadata": {},
   "outputs": [],
   "source": [
    "fig, ax = plt.subplots(4, brain_map.shape[0]//4+1, figsize=(40, 10))\n",
    "ax = ax.flatten()\n",
    "for n, _ in enumerate(brain_map):\n",
    "    ax[n].imshow(_.squeeze().astype('float'))\n",
    "    ax[n].axis('off')\n",
    "plt.show()"
   ]
  },
  {
   "cell_type": "code",
   "execution_count": null,
   "metadata": {},
   "outputs": [],
   "source": [
    "_ = np.load(save_root+'cell_dff.npz')\n",
    "A=_['A'].astype('float')\n",
    "A_loc=_['A_loc']\n",
    "dFF=_['dFF'].astype('float')\n",
    "\n",
    "A_ext = np.zeros(brain_map.shape[:-1]).astype('int')\n",
    "for n_, A_ in enumerate(A):\n",
    "    A_loc_ = A_loc[n_]\n",
    "    z, x, y = A_loc_\n",
    "    _ = (A_>A_.max()*0.4).astype('int')*(n_+1)\n",
    "    cx, cy = A_ext[z, x:x+100, y:y+100].shape\n",
    "    A_ext[z, x:x+100, y:y+100]=np.maximum(A_ext[z, x:x+100, y:y+100], _[:cx, :cy])\n",
    "\n",
    "fig, ax = plt.subplots(4, A_ext.shape[0]//4+1, figsize=(40, 10))\n",
    "ax = ax.flatten()\n",
    "for n, _ in enumerate(A_ext):\n",
    "    _[_>0] = _[_>0]%32+1\n",
    "    ax[n].imshow(_, cmap=plt.cm.nipy_spectral)\n",
    "    ax[n].axis('off')\n",
    "plt.close()"
   ]
  },
  {
   "cell_type": "code",
   "execution_count": null,
   "metadata": {},
   "outputs": [],
   "source": []
  },
  {
   "cell_type": "code",
   "execution_count": null,
   "metadata": {},
   "outputs": [],
   "source": []
  }
 ],
 "metadata": {
  "kernelspec": {
   "display_name": "myenv",
   "language": "python",
   "name": "myenv"
  },
  "language_info": {
   "codemirror_mode": {
    "name": "ipython",
    "version": 3
   },
   "file_extension": ".py",
   "mimetype": "text/x-python",
   "name": "python",
   "nbconvert_exporter": "python",
   "pygments_lexer": "ipython3",
   "version": "3.7.5"
  }
 },
 "nbformat": 4,
 "nbformat_minor": 4
}
