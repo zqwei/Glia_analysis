{
 "cells": [
  {
   "cell_type": "code",
   "execution_count": 2,
   "metadata": {},
   "outputs": [],
   "source": [
    "from single_cell_class import *\n",
    "from utils import *\n",
    "from swim_ephys import *\n",
    "from kernel_fit import *\n",
    "from scipy.stats import spearmanr\n",
    "\n",
    "\n",
    "df = pd.read_csv('../Processing/data_list.csv')\n",
    "row = df.iloc[15]\n",
    "save_root = row['save_dir']+'/'\n",
    "\n",
    "_ = np.load(save_root+'cell_dff.npz', allow_pickle=True)\n",
    "A = _['A']\n",
    "A_loc = _['A_loc']\n",
    "dFF = _['dFF'].astype('float')\n",
    "_ = None\n",
    "\n",
    "\n",
    "brain_map = np.load(save_root+'Y_ave.npy').astype('float').squeeze()\n",
    "A_center = np.load(save_root+'cell_center.npy')\n",
    "A_center_grid = np.round(A_center).astype('int')\n",
    "cells_in_mask = []\n",
    "\n",
    "for n_layer in range(brain_map.shape[0]):\n",
    "    layer_ = A_center[:, 0]==n_layer\n",
    "    cell_ids = np.where(layer_)[0]\n",
    "    mask_ = brain_map[n_layer]>2\n",
    "    y = A_center_grid[cell_ids, 2]\n",
    "    x = A_center_grid[cell_ids, 1]\n",
    "    num_cells = len(cell_ids)\n",
    "    in_mask_ = np.zeros(num_cells).astype('bool')\n",
    "    for n in range(num_cells):\n",
    "        in_mask_[n] = mask_[x[n], y[n]]\n",
    "    cells_in_mask.append(cell_ids[in_mask_])\n",
    "cells_in_mask = np.concatenate(cells_in_mask)\n",
    "A_center = A_center[cells_in_mask]\n",
    "dFF = dFF[cells_in_mask]\n",
    "\n",
    "###################################\n",
    "## Sensory cells\n",
    "###################################\n",
    "\n",
    "dat_dir = row['dat_dir'].replace('/im/', '/')\n",
    "p_dir = dat_dir + 'processed/'\n",
    "trial_vars = pd.read_pickle(p_dir+'statemod_expt_trialvars.pkl')\n",
    "behavior = pd.read_pickle(p_dir+'statemod_expt_behavior.pkl')\n",
    "statemod = pd.read_pickle(p_dir+'statemod-input-vars.pkl')\n",
    "ephys_dir = dat_dir + 'ephys/'\n",
    "ephys_dat = glob(ephys_dir+'/*.10chFlt')[0]\n",
    "fileContent_ = load(ephys_dat)\n",
    "l_power = windowed_variance(fileContent_[0])[0]\n",
    "r_power = windowed_variance(fileContent_[1])[0]\n",
    "camtrig = fileContent_[2]\n",
    "\n",
    "indx = ep2frame(camtrig, thres=3.8)\n",
    "frame_ = np.zeros(len(camtrig))\n",
    "frame_[indx]=1\n",
    "frame_ = frame_.cumsum()\n",
    "\n",
    "slide_win = 180000\n",
    "r_power_baseline = rolling_perc(r_power, window=slide_win, perc=0.1)\n",
    "l_power_baseline = rolling_perc(l_power, window=slide_win, perc=0.1)\n",
    "\n",
    "l_power_ = np.clip(l_power-l_power_baseline, 0, None)*10000\n",
    "r_power_ = np.clip(r_power-r_power_baseline, 0, None)*10000\n",
    "\n",
    "frame_len = np.min(np.unique(indx[1:]-indx[:-1]))\n",
    "\n",
    "epoch_frame = np.median(wrap_data(fileContent_[5], indx, frame_len), axis=0).astype('int')\n",
    "swim_frame = np.mean(wrap_data(l_power_, indx, frame_len), axis=0)\n",
    "pulse_frame = np.median(wrap_data(fileContent_[8], indx, frame_len), axis=0).astype('int')\n",
    "visu_frame = np.mean(wrap_data(fileContent_[3], indx, frame_len), axis=0)\n",
    "visu_frame_ = visu_frame.copy()\n",
    "visu_frame_[visu_frame_<0]=0"
   ]
  },
  {
   "cell_type": "code",
   "execution_count": 3,
   "metadata": {},
   "outputs": [
    {
     "data": {
      "text/plain": [
       "'/nrs/ahrens/Ziqiang/Jing_Glia_project/Processed_data/20200218/fish01/6dpf_HuC-GC7FF-GFAP-RGECO_LG-NGGU_fish01_exp02_20200218_173933//'"
      ]
     },
     "execution_count": 3,
     "metadata": {},
     "output_type": "execute_result"
    }
   ],
   "source": [
    "save_root"
   ]
  },
  {
   "cell_type": "markdown",
   "metadata": {},
   "source": [
    "### Pulse condition\n",
    "* Forward sensory cells : Cell respond to pulse without motor"
   ]
  },
  {
   "cell_type": "code",
   "execution_count": 4,
   "metadata": {},
   "outputs": [],
   "source": [
    "swim_thres = max(np.percentile(swim_frame, 85), 0.2)\n",
    "\n",
    "pulse_trial = []\n",
    "pulse_type = []\n",
    "\n",
    "nopulse_trial = []\n",
    "nopulse_type = []\n",
    "\n",
    "pulse_amp = np.unique(pulse_frame)[1]\n",
    "pulse_on = np.where((pulse_frame[:-1]==0) & (pulse_frame[1:]==pulse_amp))[0]+1\n",
    "num_dff = dFF.shape[-1]\n",
    "pulse_on = pulse_on[pulse_on<num_dff-10]\n",
    "\n",
    "for n, trial in enumerate(pulse_on):\n",
    "    swim_ = np.clip(swim_frame[trial-2:trial+5]-swim_thres, 0, np.inf)\n",
    "    if swim_.sum()==0:\n",
    "        pulse_trial.append(trial)\n",
    "        pulse_type.append(epoch_frame[trial]//5)\n",
    "        \n",
    "nopulse_on = epoch_frame%5==4\n",
    "nopulse_on = np.where((~nopulse_on[:-1]) & nopulse_on[1:])[0]+1\n",
    "nopulse_on = nopulse_on[nopulse_on<num_dff-10]\n",
    "        \n",
    "for n, trial in enumerate(nopulse_on):\n",
    "    swim_ = np.clip(swim_frame[trial+3:trial+10]-swim_thres, 0, np.inf)\n",
    "    if swim_.sum()==0:\n",
    "        nopulse_trial.append(trial)\n",
    "        nopulse_type.append(epoch_frame[trial]//5)"
   ]
  },
  {
   "cell_type": "markdown",
   "metadata": {},
   "source": [
    "### Motor condition\n",
    "* Motor cells: Cell respond to swim without visual feedback (OL trials)\n",
    "* Conditional sensorimotor cells: Cell respond to visual or motor while both are presented\n",
    "* backward conditional cell — CL condition"
   ]
  },
  {
   "cell_type": "code",
   "execution_count": 5,
   "metadata": {},
   "outputs": [],
   "source": [
    "swim_thres = max(np.percentile(swim_frame, 85), 0.2)\n",
    "drop_frame = 100\n",
    "num_dff = dFF.shape[-1]\n",
    "\n",
    "swim_trial = []\n",
    "swim_type = []\n",
    "\n",
    "noswim_trial = []\n",
    "noswim_type = []\n",
    "\n",
    "swim_smooth = smooth(swim_frame, gaussKernel(sigma=1.5))\n",
    "swim_smooth = swim_smooth>swim_thres\n",
    "swim_on = np.where((swim_smooth[:-1]==0) & (swim_smooth[1:]==1))[0]+1\n",
    "swim_off = np.where((swim_smooth[:-1]==1) & (swim_smooth[1:]==0))[0]\n",
    "swim_on = swim_on[swim_on>drop_frame]\n",
    "swim_on = swim_on[swim_on<num_dff-10]\n",
    "swim_off = swim_off[swim_off>drop_frame]\n",
    "swim_off = swim_off[swim_off<num_dff-10]\n",
    "if swim_off[0]<swim_on[0]:\n",
    "    swim_off = swim_off[1:]\n",
    "if swim_on[-1]>swim_off[-1]:\n",
    "    swim_on = swim_on[:-1]\n",
    "\n",
    "if swim_on.shape!=swim_off.shape:\n",
    "    print('Error in swim matches')\n",
    "\n",
    "swim_lens = (swim_on[1:] - swim_on[:-1])\n",
    "swim_lens = np.r_[swim_lens, np.inf]\n",
    "swim_on = swim_on[swim_lens>=7]\n",
    "swim_off = swim_off[swim_lens>=7]\n",
    "swim_len = (swim_on[1:] - swim_on[:-1]).min()\n",
    "pre_len = 2\n",
    "    \n",
    "for n, on_ in enumerate(swim_on):\n",
    "    epoch = epoch_frame[on_-pre_len:on_+swim_len]\n",
    "    type_ = np.unique(epoch)\n",
    "    if (len(type_)==1) and ((type_%5<=1).sum()>0):\n",
    "        swim_trial.append(on_)\n",
    "        swim_type.append(type_[0])\n",
    "\n",
    "off_set = 5\n",
    "for n, off_ in enumerate(swim_off[:-1]):\n",
    "    if swim_on[n+1]-off_<(off_set*2+pre_len+swim_len):\n",
    "        continue\n",
    "    epoch = epoch_frame[(off_+off_set):(off_+pre_len+swim_len+off_set*2)]\n",
    "    type_, cout_ = np.unique(epoch, return_counts=True)\n",
    "    if (cout_>(swim_len+pre_len)).sum()>0:\n",
    "        type_ = type_[np.argmax(cout_).astype('int')]\n",
    "        if type_%5>1:\n",
    "            continue\n",
    "        on_ = np.where(epoch==type_)[0][0]\n",
    "        if on_+off_+off_set>num_dff:\n",
    "            continue\n",
    "        noswim_type.append(type_)\n",
    "        noswim_trial.append(on_+off_+off_set)"
   ]
  },
  {
   "cell_type": "markdown",
   "metadata": {},
   "source": [
    "#### Forward conditional cell — OL condition pulse with motor"
   ]
  },
  {
   "cell_type": "code",
   "execution_count": 6,
   "metadata": {},
   "outputs": [],
   "source": [
    "swim_thres = max(np.percentile(swim_frame, 85), 0.2)\n",
    "\n",
    "pulse_trial = []\n",
    "pulse_type = []\n",
    "\n",
    "pulse_motor_trial = []\n",
    "pulse_motor_type = []\n",
    "\n",
    "nopulse_trial = []\n",
    "nopulse_type = []\n",
    "\n",
    "pulse_amp = np.unique(pulse_frame)[1]\n",
    "pulse_on = np.where((pulse_frame[:-1]==0) & (pulse_frame[1:]==pulse_amp))[0]+1\n",
    "num_dff = dFF.shape[-1]\n",
    "pulse_on = pulse_on[pulse_on<num_dff-10]\n",
    "\n",
    "for n, trial in enumerate(pulse_on):\n",
    "    swim_ = np.clip(swim_frame[trial-2:trial+5]-swim_thres, 0, np.inf)\n",
    "    if swim_.sum()==0:\n",
    "        pulse_trial.append(trial)\n",
    "        pulse_type.append(epoch_frame[trial]//5)\n",
    "    else:\n",
    "        pulse_motor_trial.append(trial)\n",
    "        pulse_motor_type.append(epoch_frame[trial]//5)\n",
    "\n",
    "        \n",
    "nopulse_on = epoch_frame%5==4\n",
    "nopulse_on = np.where((~nopulse_on[:-1]) & nopulse_on[1:])[0]+1\n",
    "nopulse_on = nopulse_on[nopulse_on<num_dff-10]\n",
    "        \n",
    "for n, trial in enumerate(nopulse_on):\n",
    "    swim_ = np.clip(swim_frame[trial+3:trial+10]-swim_thres, 0, np.inf)\n",
    "    if swim_.sum()==0:\n",
    "        nopulse_trial.append(trial)\n",
    "        nopulse_type.append(epoch_frame[trial]//5)"
   ]
  },
  {
   "cell_type": "code",
   "execution_count": 12,
   "metadata": {},
   "outputs": [
    {
     "data": {
      "text/plain": [
       "1954"
      ]
     },
     "execution_count": 12,
     "metadata": {},
     "output_type": "execute_result"
    }
   ],
   "source": [
    "len(pulse_trial)"
   ]
  },
  {
   "cell_type": "code",
   "execution_count": 11,
   "metadata": {},
   "outputs": [
    {
     "name": "stdout",
     "output_type": "stream",
     "text": [
      "0 2090\n",
      "1 2094\n",
      "2 2098\n",
      "3 2102\n",
      "4 2106\n",
      "5 2126\n",
      "6 2130\n",
      "7 2134\n",
      "8 2138\n",
      "9 2142\n",
      "10 2146\n",
      "11 2150\n",
      "12 2154\n",
      "13 2158\n",
      "14 2162\n",
      "15 2166\n",
      "16 2170\n",
      "17 2174\n",
      "18 2178\n",
      "19 2182\n",
      "20 2186\n",
      "21 2190\n",
      "22 2194\n",
      "23 2365\n",
      "24 2369\n",
      "25 4041\n",
      "26 4045\n",
      "27 4968\n",
      "28 4972\n",
      "29 4976\n",
      "30 4980\n",
      "31 4984\n",
      "32 4988\n",
      "33 4992\n",
      "34 4996\n",
      "35 5000\n",
      "36 5004\n",
      "37 5008\n",
      "38 5012\n",
      "39 5016\n",
      "40 5020\n",
      "41 5024\n",
      "42 5028\n",
      "43 5032\n",
      "44 5036\n",
      "45 5040\n",
      "46 5044\n",
      "47 5048\n",
      "48 5052\n",
      "49 5056\n",
      "50 5060\n",
      "51 5064\n",
      "52 5068\n",
      "53 5072\n",
      "54 5076\n",
      "55 7929\n",
      "56 7933\n",
      "57 7937\n",
      "58 7941\n",
      "59 7945\n",
      "60 7961\n",
      "61 7965\n",
      "62 7969\n",
      "63 7973\n",
      "64 7977\n",
      "65 7981\n",
      "66 7985\n",
      "67 7989\n",
      "68 7993\n",
      "69 7997\n",
      "70 8001\n",
      "71 8005\n",
      "72 8009\n",
      "73 8013\n",
      "74 8017\n",
      "75 8021\n",
      "76 8025\n",
      "77 8029\n",
      "78 8033\n",
      "79 8037\n",
      "80 10617\n",
      "81 10621\n",
      "82 10625\n",
      "83 10629\n",
      "84 10633\n",
      "85 10645\n",
      "86 10649\n",
      "87 10653\n",
      "88 10657\n",
      "89 10661\n",
      "90 10665\n",
      "91 10669\n",
      "92 10673\n",
      "93 10677\n",
      "94 10681\n",
      "95 10685\n",
      "96 10689\n",
      "97 11562\n",
      "98 11566\n",
      "99 14734\n",
      "100 14738\n",
      "101 14742\n",
      "102 14746\n",
      "103 14750\n",
      "104 14754\n",
      "105 14778\n",
      "106 14782\n",
      "107 14786\n",
      "108 14790\n",
      "109 14794\n",
      "110 14826\n",
      "111 14830\n",
      "112 14834\n",
      "113 14838\n",
      "114 14842\n",
      "115 14846\n",
      "116 14850\n",
      "117 19741\n",
      "118 19745\n",
      "119 19749\n",
      "120 19753\n",
      "121 19757\n",
      "122 19761\n",
      "123 20830\n",
      "124 20834\n",
      "125 20838\n",
      "126 20842\n",
      "127 20846\n",
      "128 20850\n",
      "129 20854\n",
      "130 20858\n",
      "131 20902\n",
      "132 20906\n",
      "133 20910\n",
      "134 20914\n",
      "135 20918\n",
      "136 20922\n",
      "137 23059\n",
      "138 23063\n",
      "139 26212\n",
      "140 26216\n",
      "141 26220\n",
      "142 26224\n",
      "143 26228\n",
      "144 26232\n",
      "145 26236\n"
     ]
    }
   ],
   "source": [
    "for n, trial in enumerate(pulse_motor_trial):\n",
    "    print(n, trial)"
   ]
  },
  {
   "cell_type": "code",
   "execution_count": 10,
   "metadata": {},
   "outputs": [
    {
     "name": "stderr",
     "output_type": "stream",
     "text": [
      "  0%|          | 0/24 [02:00<?, ?it/s]\n"
     ]
    },
    {
     "ename": "ValueError",
     "evalue": "maximum supported dimension for an ndarray is 32, found 146",
     "output_type": "error",
     "traceback": [
      "\u001b[0;31m---------------------------------------------------------------------------\u001b[0m",
      "\u001b[0;31mRemoteTraceback\u001b[0m                           Traceback (most recent call last)",
      "\u001b[0;31mRemoteTraceback\u001b[0m: \n\"\"\"\nTraceback (most recent call last):\n  File \"/groups/ahrens/home/weiz/miniconda3/envs/myenv/lib/python3.7/multiprocessing/pool.py\", line 121, in worker\n    result = (True, func(*args, **kwds))\n  File \"/groups/ahrens/home/weiz/miniconda3/envs/myenv/lib/python3.7/multiprocessing/pool.py\", line 44, in mapstar\n    return list(map(*args))\n  File \"/groups/ahrens/home/weiz/codes_repo/fish_processing/fish_proc/utils/np_mp.py\", line 56, in unpacking_apply_func\n    return func1d(arr, *args, **kwargs)\n  File \"/groups/ahrens/home/weiz/Projects/Glia_analysis/Notebooks/single_cell_class.py\", line 126, in comp_stats\n    y_ = np.r_[np.zeros(num_cond), np.ones(dff_comp)]\n  File \"/groups/ahrens/home/weiz/miniconda3/envs/myenv/lib/python3.7/site-packages/numpy/core/numeric.py\", line 192, in ones\n    a = empty(shape, dtype, order)\nValueError: maximum supported dimension for an ndarray is 32, found 146\n\"\"\"",
      "\nThe above exception was the direct cause of the following exception:\n",
      "\u001b[0;31mValueError\u001b[0m                                Traceback (most recent call last)",
      "\u001b[0;32m<ipython-input-10-43072e365453>\u001b[0m in \u001b[0;36m<module>\u001b[0;34m\u001b[0m\n\u001b[1;32m      3\u001b[0m \u001b[0msplit_\u001b[0m \u001b[0;34m=\u001b[0m \u001b[0mnp\u001b[0m\u001b[0;34m.\u001b[0m\u001b[0marray_split\u001b[0m\u001b[0;34m(\u001b[0m\u001b[0mnp\u001b[0m\u001b[0;34m.\u001b[0m\u001b[0marange\u001b[0m\u001b[0;34m(\u001b[0m\u001b[0mnum_cells\u001b[0m\u001b[0;34m)\u001b[0m\u001b[0;34m,\u001b[0m \u001b[0mnum_cells\u001b[0m\u001b[0;34m//\u001b[0m\u001b[0mnum_cpu\u001b[0m\u001b[0;34m)\u001b[0m\u001b[0;34m\u001b[0m\u001b[0;34m\u001b[0m\u001b[0m\n\u001b[1;32m      4\u001b[0m \u001b[0;32mfor\u001b[0m \u001b[0marr\u001b[0m \u001b[0;32min\u001b[0m \u001b[0mtqdm\u001b[0m\u001b[0;34m(\u001b[0m\u001b[0msplit_\u001b[0m\u001b[0;34m)\u001b[0m\u001b[0;34m:\u001b[0m\u001b[0;34m\u001b[0m\u001b[0;34m\u001b[0m\u001b[0m\n\u001b[0;32m----> 5\u001b[0;31m     \u001b[0mcell_comp_pulse_motor_stats\u001b[0m\u001b[0;34m[\u001b[0m\u001b[0marr\u001b[0m\u001b[0;34m]\u001b[0m \u001b[0;34m=\u001b[0m \u001b[0mparallel_to_single\u001b[0m\u001b[0;34m(\u001b[0m\u001b[0mcomp_stats\u001b[0m\u001b[0;34m,\u001b[0m \u001b[0mdFF\u001b[0m\u001b[0;34m[\u001b[0m\u001b[0marr\u001b[0m\u001b[0;34m]\u001b[0m\u001b[0;34m,\u001b[0m \u001b[0mcond_trial\u001b[0m\u001b[0;34m=\u001b[0m\u001b[0mpulse_trial\u001b[0m\u001b[0;34m,\u001b[0m \u001b[0mcomp_trial\u001b[0m\u001b[0;34m=\u001b[0m\u001b[0mpulse_motor_trial\u001b[0m\u001b[0;34m,\u001b[0m \u001b[0mpre\u001b[0m\u001b[0;34m=\u001b[0m\u001b[0;36m2\u001b[0m\u001b[0;34m,\u001b[0m \u001b[0mpost\u001b[0m\u001b[0;34m=\u001b[0m\u001b[0;36m5\u001b[0m\u001b[0;34m)\u001b[0m\u001b[0;34m[\u001b[0m\u001b[0;36m0\u001b[0m\u001b[0;34m]\u001b[0m\u001b[0;34m\u001b[0m\u001b[0;34m\u001b[0m\u001b[0m\n\u001b[0m\u001b[1;32m      6\u001b[0m \u001b[0mnp\u001b[0m\u001b[0;34m.\u001b[0m\u001b[0msavez\u001b[0m\u001b[0;34m(\u001b[0m\u001b[0msave_root\u001b[0m\u001b[0;34m+\u001b[0m\u001b[0;34m'cell_comp_pulse_motor_stats'\u001b[0m\u001b[0;34m,\u001b[0m \u001b[0mcell_comp_pulse_motor_stats\u001b[0m\u001b[0;34m=\u001b[0m\u001b[0mcell_comp_pulse_motor_stats\u001b[0m\u001b[0;34m)\u001b[0m\u001b[0;34m\u001b[0m\u001b[0;34m\u001b[0m\u001b[0m\n",
      "\u001b[0;32m~/codes_repo/fish_processing/fish_proc/utils/np_mp.py\u001b[0m in \u001b[0;36mparallel_to_single\u001b[0;34m(func1d, arr, *args, **kwargs)\u001b[0m\n\u001b[1;32m     19\u001b[0m               for sub_arr in np.array_split(arr, mp_count)]\n\u001b[1;32m     20\u001b[0m     \u001b[0mpool\u001b[0m \u001b[0;34m=\u001b[0m \u001b[0mmp\u001b[0m\u001b[0;34m.\u001b[0m\u001b[0mPool\u001b[0m\u001b[0;34m(\u001b[0m\u001b[0mprocesses\u001b[0m\u001b[0;34m=\u001b[0m\u001b[0mmp_count\u001b[0m\u001b[0;34m)\u001b[0m\u001b[0;34m\u001b[0m\u001b[0;34m\u001b[0m\u001b[0m\n\u001b[0;32m---> 21\u001b[0;31m     \u001b[0mindividual_results\u001b[0m \u001b[0;34m=\u001b[0m \u001b[0mpool\u001b[0m\u001b[0;34m.\u001b[0m\u001b[0mmap\u001b[0m\u001b[0;34m(\u001b[0m\u001b[0munpacking_apply_func\u001b[0m\u001b[0;34m,\u001b[0m \u001b[0mchunks\u001b[0m\u001b[0;34m)\u001b[0m\u001b[0;34m\u001b[0m\u001b[0;34m\u001b[0m\u001b[0m\n\u001b[0m\u001b[1;32m     22\u001b[0m     \u001b[0;31m# Freeing the workers:\u001b[0m\u001b[0;34m\u001b[0m\u001b[0;34m\u001b[0m\u001b[0;34m\u001b[0m\u001b[0m\n\u001b[1;32m     23\u001b[0m     \u001b[0mpool\u001b[0m\u001b[0;34m.\u001b[0m\u001b[0mclose\u001b[0m\u001b[0;34m(\u001b[0m\u001b[0;34m)\u001b[0m\u001b[0;34m\u001b[0m\u001b[0;34m\u001b[0m\u001b[0m\n",
      "\u001b[0;32m~/miniconda3/envs/myenv/lib/python3.7/multiprocessing/pool.py\u001b[0m in \u001b[0;36mmap\u001b[0;34m(self, func, iterable, chunksize)\u001b[0m\n\u001b[1;32m    266\u001b[0m         \u001b[0;32min\u001b[0m \u001b[0ma\u001b[0m \u001b[0mlist\u001b[0m \u001b[0mthat\u001b[0m \u001b[0;32mis\u001b[0m \u001b[0mreturned\u001b[0m\u001b[0;34m.\u001b[0m\u001b[0;34m\u001b[0m\u001b[0;34m\u001b[0m\u001b[0m\n\u001b[1;32m    267\u001b[0m         '''\n\u001b[0;32m--> 268\u001b[0;31m         \u001b[0;32mreturn\u001b[0m \u001b[0mself\u001b[0m\u001b[0;34m.\u001b[0m\u001b[0m_map_async\u001b[0m\u001b[0;34m(\u001b[0m\u001b[0mfunc\u001b[0m\u001b[0;34m,\u001b[0m \u001b[0miterable\u001b[0m\u001b[0;34m,\u001b[0m \u001b[0mmapstar\u001b[0m\u001b[0;34m,\u001b[0m \u001b[0mchunksize\u001b[0m\u001b[0;34m)\u001b[0m\u001b[0;34m.\u001b[0m\u001b[0mget\u001b[0m\u001b[0;34m(\u001b[0m\u001b[0;34m)\u001b[0m\u001b[0;34m\u001b[0m\u001b[0;34m\u001b[0m\u001b[0m\n\u001b[0m\u001b[1;32m    269\u001b[0m \u001b[0;34m\u001b[0m\u001b[0m\n\u001b[1;32m    270\u001b[0m     \u001b[0;32mdef\u001b[0m \u001b[0mstarmap\u001b[0m\u001b[0;34m(\u001b[0m\u001b[0mself\u001b[0m\u001b[0;34m,\u001b[0m \u001b[0mfunc\u001b[0m\u001b[0;34m,\u001b[0m \u001b[0miterable\u001b[0m\u001b[0;34m,\u001b[0m \u001b[0mchunksize\u001b[0m\u001b[0;34m=\u001b[0m\u001b[0;32mNone\u001b[0m\u001b[0;34m)\u001b[0m\u001b[0;34m:\u001b[0m\u001b[0;34m\u001b[0m\u001b[0;34m\u001b[0m\u001b[0m\n",
      "\u001b[0;32m~/miniconda3/envs/myenv/lib/python3.7/multiprocessing/pool.py\u001b[0m in \u001b[0;36mget\u001b[0;34m(self, timeout)\u001b[0m\n\u001b[1;32m    655\u001b[0m             \u001b[0;32mreturn\u001b[0m \u001b[0mself\u001b[0m\u001b[0;34m.\u001b[0m\u001b[0m_value\u001b[0m\u001b[0;34m\u001b[0m\u001b[0;34m\u001b[0m\u001b[0m\n\u001b[1;32m    656\u001b[0m         \u001b[0;32melse\u001b[0m\u001b[0;34m:\u001b[0m\u001b[0;34m\u001b[0m\u001b[0;34m\u001b[0m\u001b[0m\n\u001b[0;32m--> 657\u001b[0;31m             \u001b[0;32mraise\u001b[0m \u001b[0mself\u001b[0m\u001b[0;34m.\u001b[0m\u001b[0m_value\u001b[0m\u001b[0;34m\u001b[0m\u001b[0;34m\u001b[0m\u001b[0m\n\u001b[0m\u001b[1;32m    658\u001b[0m \u001b[0;34m\u001b[0m\u001b[0m\n\u001b[1;32m    659\u001b[0m     \u001b[0;32mdef\u001b[0m \u001b[0m_set\u001b[0m\u001b[0;34m(\u001b[0m\u001b[0mself\u001b[0m\u001b[0;34m,\u001b[0m \u001b[0mi\u001b[0m\u001b[0;34m,\u001b[0m \u001b[0mobj\u001b[0m\u001b[0;34m)\u001b[0m\u001b[0;34m:\u001b[0m\u001b[0;34m\u001b[0m\u001b[0;34m\u001b[0m\u001b[0m\n",
      "\u001b[0;32m~/miniconda3/envs/myenv/lib/python3.7/multiprocessing/pool.py\u001b[0m in \u001b[0;36mworker\u001b[0;34m()\u001b[0m\n\u001b[1;32m    119\u001b[0m         \u001b[0mjob\u001b[0m\u001b[0;34m,\u001b[0m \u001b[0mi\u001b[0m\u001b[0;34m,\u001b[0m \u001b[0mfunc\u001b[0m\u001b[0;34m,\u001b[0m \u001b[0margs\u001b[0m\u001b[0;34m,\u001b[0m \u001b[0mkwds\u001b[0m \u001b[0;34m=\u001b[0m \u001b[0mtask\u001b[0m\u001b[0;34m\u001b[0m\u001b[0;34m\u001b[0m\u001b[0m\n\u001b[1;32m    120\u001b[0m         \u001b[0;32mtry\u001b[0m\u001b[0;34m:\u001b[0m\u001b[0;34m\u001b[0m\u001b[0;34m\u001b[0m\u001b[0m\n\u001b[0;32m--> 121\u001b[0;31m             \u001b[0mresult\u001b[0m \u001b[0;34m=\u001b[0m \u001b[0;34m(\u001b[0m\u001b[0;32mTrue\u001b[0m\u001b[0;34m,\u001b[0m \u001b[0mfunc\u001b[0m\u001b[0;34m(\u001b[0m\u001b[0;34m*\u001b[0m\u001b[0margs\u001b[0m\u001b[0;34m,\u001b[0m \u001b[0;34m**\u001b[0m\u001b[0mkwds\u001b[0m\u001b[0;34m)\u001b[0m\u001b[0;34m)\u001b[0m\u001b[0;34m\u001b[0m\u001b[0;34m\u001b[0m\u001b[0m\n\u001b[0m\u001b[1;32m    122\u001b[0m         \u001b[0;32mexcept\u001b[0m \u001b[0mException\u001b[0m \u001b[0;32mas\u001b[0m \u001b[0me\u001b[0m\u001b[0;34m:\u001b[0m\u001b[0;34m\u001b[0m\u001b[0;34m\u001b[0m\u001b[0m\n\u001b[1;32m    123\u001b[0m             \u001b[0;32mif\u001b[0m \u001b[0mwrap_exception\u001b[0m \u001b[0;32mand\u001b[0m \u001b[0mfunc\u001b[0m \u001b[0;32mis\u001b[0m \u001b[0;32mnot\u001b[0m \u001b[0m_helper_reraises_exception\u001b[0m\u001b[0;34m:\u001b[0m\u001b[0;34m\u001b[0m\u001b[0;34m\u001b[0m\u001b[0m\n",
      "\u001b[0;32m~/miniconda3/envs/myenv/lib/python3.7/multiprocessing/pool.py\u001b[0m in \u001b[0;36mmapstar\u001b[0;34m()\u001b[0m\n\u001b[1;32m     42\u001b[0m \u001b[0;34m\u001b[0m\u001b[0m\n\u001b[1;32m     43\u001b[0m \u001b[0;32mdef\u001b[0m \u001b[0mmapstar\u001b[0m\u001b[0;34m(\u001b[0m\u001b[0margs\u001b[0m\u001b[0;34m)\u001b[0m\u001b[0;34m:\u001b[0m\u001b[0;34m\u001b[0m\u001b[0;34m\u001b[0m\u001b[0m\n\u001b[0;32m---> 44\u001b[0;31m     \u001b[0;32mreturn\u001b[0m \u001b[0mlist\u001b[0m\u001b[0;34m(\u001b[0m\u001b[0mmap\u001b[0m\u001b[0;34m(\u001b[0m\u001b[0;34m*\u001b[0m\u001b[0margs\u001b[0m\u001b[0;34m)\u001b[0m\u001b[0;34m)\u001b[0m\u001b[0;34m\u001b[0m\u001b[0;34m\u001b[0m\u001b[0m\n\u001b[0m\u001b[1;32m     45\u001b[0m \u001b[0;34m\u001b[0m\u001b[0m\n\u001b[1;32m     46\u001b[0m \u001b[0;32mdef\u001b[0m \u001b[0mstarmapstar\u001b[0m\u001b[0;34m(\u001b[0m\u001b[0margs\u001b[0m\u001b[0;34m)\u001b[0m\u001b[0;34m:\u001b[0m\u001b[0;34m\u001b[0m\u001b[0;34m\u001b[0m\u001b[0m\n",
      "\u001b[0;32m~/codes_repo/fish_processing/fish_proc/utils/np_mp.py\u001b[0m in \u001b[0;36munpacking_apply_func\u001b[0;34m()\u001b[0m\n\u001b[1;32m     54\u001b[0m \u001b[0;32mdef\u001b[0m \u001b[0munpacking_apply_func\u001b[0m\u001b[0;34m(\u001b[0m\u001b[0mlist_params\u001b[0m\u001b[0;34m)\u001b[0m\u001b[0;34m:\u001b[0m\u001b[0;34m\u001b[0m\u001b[0;34m\u001b[0m\u001b[0m\n\u001b[1;32m     55\u001b[0m     \u001b[0mfunc1d\u001b[0m\u001b[0;34m,\u001b[0m \u001b[0marr\u001b[0m\u001b[0;34m,\u001b[0m \u001b[0margs\u001b[0m\u001b[0;34m,\u001b[0m \u001b[0mkwargs\u001b[0m \u001b[0;34m=\u001b[0m \u001b[0mlist_params\u001b[0m\u001b[0;34m\u001b[0m\u001b[0;34m\u001b[0m\u001b[0m\n\u001b[0;32m---> 56\u001b[0;31m     \u001b[0;32mreturn\u001b[0m \u001b[0mfunc1d\u001b[0m\u001b[0;34m(\u001b[0m\u001b[0marr\u001b[0m\u001b[0;34m,\u001b[0m \u001b[0;34m*\u001b[0m\u001b[0margs\u001b[0m\u001b[0;34m,\u001b[0m \u001b[0;34m**\u001b[0m\u001b[0mkwargs\u001b[0m\u001b[0;34m)\u001b[0m\u001b[0;34m\u001b[0m\u001b[0;34m\u001b[0m\u001b[0m\n\u001b[0m\u001b[1;32m     57\u001b[0m \u001b[0;34m\u001b[0m\u001b[0m\n\u001b[1;32m     58\u001b[0m \u001b[0;34m\u001b[0m\u001b[0m\n",
      "\u001b[0;32m~/Projects/Glia_analysis/Notebooks/single_cell_class.py\u001b[0m in \u001b[0;36mcomp_stats\u001b[0;34m()\u001b[0m\n\u001b[1;32m    124\u001b[0m     \u001b[0;32mif\u001b[0m \u001b[0;34m(\u001b[0m\u001b[0mp_mean\u001b[0m\u001b[0;34m[\u001b[0m\u001b[0;36m0\u001b[0m\u001b[0;34m]\u001b[0m\u001b[0;34m<\u001b[0m\u001b[0;36m0.05\u001b[0m\u001b[0;34m)\u001b[0m \u001b[0;32mor\u001b[0m \u001b[0;34m(\u001b[0m\u001b[0;34m(\u001b[0m\u001b[0mp_vec\u001b[0m\u001b[0;34m[\u001b[0m\u001b[0;36m0\u001b[0m\u001b[0;34m]\u001b[0m\u001b[0;34m<\u001b[0m\u001b[0;36m0.05\u001b[0m\u001b[0;34m)\u001b[0m\u001b[0;34m.\u001b[0m\u001b[0msum\u001b[0m\u001b[0;34m(\u001b[0m\u001b[0;34m)\u001b[0m\u001b[0;34m>\u001b[0m\u001b[0;36m3\u001b[0m\u001b[0;34m)\u001b[0m\u001b[0;34m:\u001b[0m\u001b[0;34m\u001b[0m\u001b[0;34m\u001b[0m\u001b[0m\n\u001b[1;32m    125\u001b[0m         \u001b[0mx_\u001b[0m \u001b[0;34m=\u001b[0m \u001b[0mnp\u001b[0m\u001b[0;34m.\u001b[0m\u001b[0mvstack\u001b[0m\u001b[0;34m(\u001b[0m\u001b[0;34m[\u001b[0m\u001b[0mdff_cond\u001b[0m\u001b[0;34m,\u001b[0m \u001b[0mdff_comp\u001b[0m\u001b[0;34m]\u001b[0m\u001b[0;34m)\u001b[0m\u001b[0;34m\u001b[0m\u001b[0;34m\u001b[0m\u001b[0m\n\u001b[0;32m--> 126\u001b[0;31m         \u001b[0my_\u001b[0m \u001b[0;34m=\u001b[0m \u001b[0mnp\u001b[0m\u001b[0;34m.\u001b[0m\u001b[0mr_\u001b[0m\u001b[0;34m[\u001b[0m\u001b[0mnp\u001b[0m\u001b[0;34m.\u001b[0m\u001b[0mzeros\u001b[0m\u001b[0;34m(\u001b[0m\u001b[0mnum_cond\u001b[0m\u001b[0;34m)\u001b[0m\u001b[0;34m,\u001b[0m \u001b[0mnp\u001b[0m\u001b[0;34m.\u001b[0m\u001b[0mones\u001b[0m\u001b[0;34m(\u001b[0m\u001b[0mdff_comp\u001b[0m\u001b[0;34m)\u001b[0m\u001b[0;34m]\u001b[0m\u001b[0;34m\u001b[0m\u001b[0;34m\u001b[0m\u001b[0m\n\u001b[0m\u001b[1;32m    127\u001b[0m         \u001b[0;32mtry\u001b[0m\u001b[0;34m:\u001b[0m\u001b[0;34m\u001b[0m\u001b[0;34m\u001b[0m\u001b[0m\n\u001b[1;32m    128\u001b[0m             \u001b[0mp_manova\u001b[0m \u001b[0;34m=\u001b[0m \u001b[0mMANOVA\u001b[0m\u001b[0;34m(\u001b[0m\u001b[0mx_\u001b[0m\u001b[0;34m,\u001b[0m \u001b[0my_\u001b[0m\u001b[0;34m)\u001b[0m\u001b[0;34m.\u001b[0m\u001b[0mmv_test\u001b[0m\u001b[0;34m(\u001b[0m\u001b[0;34m)\u001b[0m\u001b[0;34m.\u001b[0m\u001b[0mresults\u001b[0m\u001b[0;34m[\u001b[0m\u001b[0;34m'x0'\u001b[0m\u001b[0;34m]\u001b[0m\u001b[0;34m[\u001b[0m\u001b[0;34m'stat'\u001b[0m\u001b[0;34m]\u001b[0m\u001b[0;34m\u001b[0m\u001b[0;34m\u001b[0m\u001b[0m\n",
      "\u001b[0;32m~/miniconda3/envs/myenv/lib/python3.7/site-packages/numpy/core/numeric.py\u001b[0m in \u001b[0;36mones\u001b[0;34m()\u001b[0m\n\u001b[1;32m    190\u001b[0m \u001b[0;34m\u001b[0m\u001b[0m\n\u001b[1;32m    191\u001b[0m     \"\"\"\n\u001b[0;32m--> 192\u001b[0;31m     \u001b[0ma\u001b[0m \u001b[0;34m=\u001b[0m \u001b[0mempty\u001b[0m\u001b[0;34m(\u001b[0m\u001b[0mshape\u001b[0m\u001b[0;34m,\u001b[0m \u001b[0mdtype\u001b[0m\u001b[0;34m,\u001b[0m \u001b[0morder\u001b[0m\u001b[0;34m)\u001b[0m\u001b[0;34m\u001b[0m\u001b[0;34m\u001b[0m\u001b[0m\n\u001b[0m\u001b[1;32m    193\u001b[0m     \u001b[0mmultiarray\u001b[0m\u001b[0;34m.\u001b[0m\u001b[0mcopyto\u001b[0m\u001b[0;34m(\u001b[0m\u001b[0ma\u001b[0m\u001b[0;34m,\u001b[0m \u001b[0;36m1\u001b[0m\u001b[0;34m,\u001b[0m \u001b[0mcasting\u001b[0m\u001b[0;34m=\u001b[0m\u001b[0;34m'unsafe'\u001b[0m\u001b[0;34m)\u001b[0m\u001b[0;34m\u001b[0m\u001b[0;34m\u001b[0m\u001b[0m\n\u001b[1;32m    194\u001b[0m     \u001b[0;32mreturn\u001b[0m \u001b[0ma\u001b[0m\u001b[0;34m\u001b[0m\u001b[0;34m\u001b[0m\u001b[0m\n",
      "\u001b[0;31mValueError\u001b[0m: maximum supported dimension for an ndarray is 32, found 146"
     ]
    }
   ],
   "source": [
    "cell_comp_pulse_motor_stats = np.zeros((num_cells, 5)).astype('O')\n",
    "num_cpu = 90    \n",
    "split_ = np.array_split(np.arange(num_cells), num_cells//num_cpu)\n",
    "for arr in tqdm(split_):\n",
    "    cell_comp_pulse_motor_stats[arr] = parallel_to_single(comp_stats, dFF[arr], cond_trial=pulse_trial, comp_trial=pulse_motor_trial, pre=2, post=5)[0]  \n",
    "np.savez(save_root+'cell_comp_pulse_motor_stats', cell_comp_pulse_motor_stats=cell_comp_pulse_motor_stats)"
   ]
  },
  {
   "cell_type": "code",
   "execution_count": null,
   "metadata": {},
   "outputs": [],
   "source": []
  },
  {
   "cell_type": "markdown",
   "metadata": {},
   "source": [
    "### Active vs Passive cells"
   ]
  },
  {
   "cell_type": "code",
   "execution_count": 133,
   "metadata": {},
   "outputs": [],
   "source": [
    "swim_thres = max(np.percentile(swim_frame, 85), 0.2)\n",
    "\n",
    "active_pulse_trial = []\n",
    "passive_pulse_trial = []\n",
    "\n",
    "active_on = np.where((epoch_frame[1:]==3) & (epoch_frame[:-1]==2))[0]+1\n",
    "passive_on = np.where((epoch_frame[1:]==8) & (epoch_frame[:-1]==7))[0]+1\n",
    "post_ = 50\n",
    "pre_ = 2\n",
    "\n",
    "for n, trial in enumerate(active_on):\n",
    "    swim_ = np.clip(swim_frame[trial-pre_:trial+post_]-swim_thres, 0, np.inf)\n",
    "    if swim_.sum()==0:\n",
    "        active_pulse_trial.append(trial)\n",
    "    \n",
    "for n, trial in enumerate(passive_on):\n",
    "    swim_ = np.clip(swim_frame[trial-pre_:trial+post_]-swim_thres, 0, np.inf)\n",
    "    if swim_.sum()==0:\n",
    "        passive_pulse_trial.append(trial)"
   ]
  },
  {
   "cell_type": "code",
   "execution_count": null,
   "metadata": {},
   "outputs": [],
   "source": []
  },
  {
   "cell_type": "code",
   "execution_count": null,
   "metadata": {},
   "outputs": [],
   "source": [
    "active_motor_trial = []\n",
    "passive_motor_trial = []\n"
   ]
  },
  {
   "cell_type": "code",
   "execution_count": null,
   "metadata": {},
   "outputs": [],
   "source": []
  },
  {
   "cell_type": "code",
   "execution_count": null,
   "metadata": {},
   "outputs": [],
   "source": []
  },
  {
   "cell_type": "code",
   "execution_count": 130,
   "metadata": {},
   "outputs": [
    {
     "data": {
      "image/png": "[encoded data removed]",
      "text/plain": [
       "<Figure size 432x288 with 1 Axes>"
      ]
     },
     "metadata": {},
     "output_type": "display_data"
    }
   ],
   "source": [
    "for n, trial in enumerate(active_motor_trial):\n",
    "    plt.plot(np.clip(swim_frame[trial-pre_:trial+post_]-swim_thres, 0, np.inf)+n, '-k')\n",
    "\n",
    "for m, trial in enumerate(passive_motor_trial):\n",
    "    plt.plot(np.clip(swim_frame[trial-pre_:trial+post_]-swim_thres, 0, np.inf)+n+m+1, '-r')    "
   ]
  },
  {
   "cell_type": "code",
   "execution_count": null,
   "metadata": {},
   "outputs": [],
   "source": []
  },
  {
   "cell_type": "code",
   "execution_count": null,
   "metadata": {},
   "outputs": [],
   "source": []
  },
  {
   "cell_type": "code",
   "execution_count": null,
   "metadata": {},
   "outputs": [],
   "source": []
  },
  {
   "cell_type": "code",
   "execution_count": null,
   "metadata": {},
   "outputs": [],
   "source": []
  },
  {
   "cell_type": "code",
   "execution_count": null,
   "metadata": {},
   "outputs": [],
   "source": []
  },
  {
   "cell_type": "code",
   "execution_count": null,
   "metadata": {},
   "outputs": [],
   "source": []
  }
 ],
 "metadata": {
  "kernelspec": {
   "display_name": "myenv",
   "language": "python",
   "name": "myenv"
  },
  "language_info": {
   "codemirror_mode": {
    "name": "ipython",
    "version": 3
   },
   "file_extension": ".py",
   "mimetype": "text/x-python",
   "name": "python",
   "nbconvert_exporter": "python",
   "pygments_lexer": "ipython3",
   "version": "3.7.7"
  }
 },
 "nbformat": 4,
 "nbformat_minor": 4
}
