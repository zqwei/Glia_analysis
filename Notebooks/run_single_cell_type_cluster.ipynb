{
 "cells": [
  {
   "cell_type": "code",
   "execution_count": 1,
   "metadata": {},
   "outputs": [],
   "source": [
    "from single_cell_class import *\n",
    "from utils import *\n",
    "from brain_seg import brain_seg_factor\n",
    "from factor import thres_factor_\n",
    "from brain_segment_vis import *\n",
    "from swim_ephys import *\n",
    "from kernel_fit import *\n",
    "from scipy.stats import spearmanr\n",
    "import dask.array as da\n",
    "import zarr\n",
    "from fish_proc.utils.memory import clear_variables\n",
    "%load_ext autoreload\n",
    "%autoreload 2\n",
    "\n",
    "df = pd.read_csv('../Processing/data_list.csv')\n",
    "row = df.iloc[15]\n",
    "save_root = row['save_dir']+'/'\n",
    "\n",
    "_ = np.load(save_root+'cell_dff.npz', allow_pickle=True)\n",
    "A = _['A']\n",
    "A_loc = _['A_loc']\n",
    "dFF = _['dFF'].astype('float')\n",
    "_ = None\n",
    "\n",
    "brain_map = np.load(save_root+'Y_ave.npy').astype('float').squeeze()\n",
    "A_center = np.load(save_root+'cell_center.npy')\n",
    "A_center_grid = np.round(A_center).astype('int')\n",
    "cells_in_mask = []\n",
    "\n",
    "for n_layer in range(brain_map.shape[0]):\n",
    "    layer_ = A_center[:, 0]==n_layer\n",
    "    cell_ids = np.where(layer_)[0]\n",
    "    mask_ = brain_map[n_layer]>2\n",
    "    y = A_center_grid[cell_ids, 2]\n",
    "    x = A_center_grid[cell_ids, 1]\n",
    "    num_cells = len(cell_ids)\n",
    "    in_mask_ = np.zeros(num_cells).astype('bool')\n",
    "    for n in range(num_cells):\n",
    "        in_mask_[n] = mask_[x[n], y[n]]\n",
    "    cells_in_mask.append(cell_ids[in_mask_])\n",
    "cells_in_mask = np.concatenate(cells_in_mask)\n",
    "A_center = A_center[cells_in_mask]\n",
    "dFF = dFF[cells_in_mask]"
   ]
  },
  {
   "cell_type": "code",
   "execution_count": 2,
   "metadata": {},
   "outputs": [
    {
     "name": "stdout",
     "output_type": "stream",
     "text": [
      "Dashboard link: http://10.36.110.12:8787/status\n",
      "http://10.36.110.12:8787/status\n"
     ]
    }
   ],
   "source": [
    "from fish_proc.utils import dask_ as fdask\n",
    "numCore = 450\n",
    "cluster, client = fdask.setup_workers(numCore=numCore,is_local=False)\n",
    "fdask.print_client_links(client)\n",
    "print(client.dashboard_link)\n",
    "if not os.path.exists(save_root+'cell_dff.zarr'):\n",
    "    dFF_ = zarr.array(dFF, chunks=(dFF.shape[0]//(numCore-2), dFF.shape[1]))\n",
    "    zarr.save(save_root+'cell_dff.zarr', dFF_)\n",
    "dFF_ = da.from_zarr(save_root+'cell_dff.zarr')\n",
    "clear_variables(dFF)"
   ]
  },
  {
   "cell_type": "code",
   "execution_count": 3,
   "metadata": {},
   "outputs": [],
   "source": [
    "###################################\n",
    "## Downsample sensory and motor input to frames\n",
    "###################################\n",
    "dat_dir = row['dat_dir'].replace('/im/', '/')\n",
    "p_dir = dat_dir + 'processed/'\n",
    "ephys_dir = dat_dir + 'ephys/'\n",
    "ephys_dat = glob(ephys_dir+'/*.10chFlt')[0]\n",
    "fileContent_ = load(ephys_dat)\n",
    "l_power = windowed_variance(fileContent_[0])[0]\n",
    "r_power = windowed_variance(fileContent_[1])[0]\n",
    "camtrig = fileContent_[2]\n",
    "\n",
    "indx = ep2frame(camtrig, thres=3.8)\n",
    "frame_ = np.zeros(len(camtrig))\n",
    "frame_[indx]=1\n",
    "frame_ = frame_.cumsum()\n",
    "\n",
    "slide_win = 180000\n",
    "r_power_baseline = rolling_perc(r_power, window=slide_win, perc=0.1)\n",
    "l_power_baseline = rolling_perc(l_power, window=slide_win, perc=0.1)\n",
    "\n",
    "l_power_ = np.clip(l_power-l_power_baseline, 0, None)*10000\n",
    "r_power_ = np.clip(r_power-r_power_baseline, 0, None)*10000\n",
    "\n",
    "frame_len = np.min(np.unique(indx[1:]-indx[:-1]))\n",
    "\n",
    "epoch_frame = np.median(wrap_data(fileContent_[5], indx, frame_len), axis=0).astype('int')\n",
    "swim_frame = np.mean(wrap_data(l_power_, indx, frame_len), axis=0)\n",
    "pulse_frame = np.median(wrap_data(fileContent_[8], indx, frame_len), axis=0).astype('int')\n",
    "visu_frame = np.mean(wrap_data(fileContent_[3], indx, frame_len), axis=0)\n",
    "visu_frame_ = visu_frame.copy()\n",
    "visu_frame_[visu_frame_<0]=0"
   ]
  },
  {
   "cell_type": "code",
   "execution_count": 4,
   "metadata": {},
   "outputs": [],
   "source": [
    "###################################\n",
    "## Sensory cells\n",
    "###################################\n",
    "swim_thres = np.percentile(swim_frame, 85)\n",
    "pulse_trial = []\n",
    "pulse_type = []\n",
    "\n",
    "pulse_motor_trial = []\n",
    "pulse_motor_type = []\n",
    "\n",
    "nopulse_trial = []\n",
    "nopulse_type = []\n",
    "\n",
    "pulse_amp = np.unique(pulse_frame)[1]\n",
    "pulse_on = np.where((pulse_frame[:-1]==0) & (pulse_frame[1:]==pulse_amp))[0]+1\n",
    "num_dff = dFF.shape[-1]\n",
    "pulse_on = pulse_on[pulse_on<num_dff-10]\n",
    "\n",
    "for n, trial in enumerate(pulse_on):\n",
    "    swim_ = np.clip(swim_frame[trial-2:trial+5]-swim_thres, 0, np.inf)\n",
    "    if swim_.sum()==0: # remove the trial mixed pulse and motor\n",
    "        pulse_trial.append(trial)\n",
    "        pulse_type.append(epoch_frame[trial]//5)\n",
    "    else:\n",
    "        pulse_motor_trial.append(trial)\n",
    "        pulse_motor_type.append(epoch_frame[trial]//5)\n",
    "        \n",
    "nopulse_on = epoch_frame%5==4\n",
    "nopulse_on = np.where((~nopulse_on[:-1]) & nopulse_on[1:])[0]+1\n",
    "nopulse_on = nopulse_on[nopulse_on<num_dff-10]\n",
    "        \n",
    "for n, trial in enumerate(nopulse_on):\n",
    "    swim_ = np.clip(swim_frame[trial+3:trial+10]-swim_thres, 0, np.inf)\n",
    "    if swim_.sum()==0:\n",
    "        nopulse_trial.append(trial)\n",
    "        nopulse_type.append(epoch_frame[trial]//5)\n"
   ]
  },
  {
   "cell_type": "code",
   "execution_count": 5,
   "metadata": {},
   "outputs": [],
   "source": [
    "def comp_stats_chunks(dff, cond_trial=None, comp_trial=None, pre=None, post=None):\n",
    "    num_cells = dff.shape[0]\n",
    "    cell_stats = np.zeros((num_cells, 5)).astype('O')\n",
    "    for n in range(num_cells):\n",
    "        _ = comp_stats(dff[n], cond_trial=cond_trial, comp_trial=comp_trial, pre=pre, post=post)\n",
    "        cell_stats[n]=_[0]\n",
    "    return cell_stats"
   ]
  },
  {
   "cell_type": "code",
   "execution_count": 6,
   "metadata": {},
   "outputs": [],
   "source": [
    "cell_comp_pulse_motor_stats = dFF_.map_blocks(comp_stats_chunks, cond_trial=pulse_trial, comp_trial=pulse_motor_trial, pre=2, post=5, dtype='O').compute()  \n",
    "np.savez(save_root+'cell_comp_pulse_motor_stats_', cell_comp_pulse_motor_stats=cell_comp_pulse_motor_stats)"
   ]
  },
  {
   "cell_type": "code",
   "execution_count": null,
   "metadata": {},
   "outputs": [],
   "source": []
  },
  {
   "cell_type": "code",
   "execution_count": 6,
   "metadata": {},
   "outputs": [],
   "source": [
    "###################################\n",
    "## motor cells\n",
    "###################################\n",
    "swim_thres = max(np.percentile(swim_frame, 85), 0.2)\n",
    "drop_frame = 100\n",
    "num_dff = dFF.shape[-1]\n",
    "\n",
    "swim_trial = []\n",
    "swim_type = []\n",
    "\n",
    "noswim_trial = []\n",
    "noswim_type = []\n",
    "\n",
    "swim_smooth = smooth(swim_frame, gaussKernel(sigma=1.5))\n",
    "swim_smooth = swim_smooth>swim_thres\n",
    "swim_on = np.where((swim_smooth[:-1]==0) & (swim_smooth[1:]==1))[0]+1\n",
    "swim_off = np.where((swim_smooth[:-1]==1) & (swim_smooth[1:]==0))[0]\n",
    "swim_on = swim_on[swim_on>drop_frame]\n",
    "swim_on = swim_on[swim_on<num_dff-10]\n",
    "swim_off = swim_off[swim_off>drop_frame]\n",
    "swim_off = swim_off[swim_off<num_dff-10]\n",
    "if swim_off[0]<swim_on[0]:\n",
    "    swim_off = swim_off[1:]\n",
    "if swim_on[-1]>swim_off[-1]:\n",
    "    swim_on = swim_on[:-1]\n",
    "\n",
    "if swim_on.shape!=swim_off.shape:\n",
    "    print('Error in swim matches')\n",
    "\n",
    "swim_lens = (swim_on[1:] - swim_on[:-1])\n",
    "swim_lens = np.r_[swim_lens, np.inf]\n",
    "swim_on = swim_on[swim_lens>=7]\n",
    "swim_off = swim_off[swim_lens>=7]\n",
    "swim_len = (swim_on[1:] - swim_on[:-1]).min()\n",
    "pre_len = 2\n",
    "    \n",
    "for n, on_ in enumerate(swim_on):\n",
    "    epoch = epoch_frame[on_-pre_len:on_+swim_len]\n",
    "    type_ = np.unique(epoch)\n",
    "    if (len(type_)==1) and ((type_%5<=1).sum()>0):\n",
    "        swim_trial.append(on_)\n",
    "        swim_type.append(type_[0])\n",
    "\n",
    "off_set = 5\n",
    "for n, off_ in enumerate(swim_off[:-1]):\n",
    "    if swim_on[n+1]-off_<(off_set*2+pre_len+swim_len):\n",
    "        continue\n",
    "    epoch = epoch_frame[(off_+off_set):(off_+pre_len+swim_len+off_set*2)]\n",
    "    type_, cout_ = np.unique(epoch, return_counts=True)\n",
    "    if (cout_>(swim_len+pre_len)).sum()>0:\n",
    "        type_ = type_[np.argmax(cout_).astype('int')]\n",
    "        if type_%5>1:\n",
    "            continue\n",
    "        on_ = np.where(epoch==type_)[0][0]\n",
    "        if on_+off_+off_set>num_dff:\n",
    "            continue\n",
    "        noswim_type.append(type_)\n",
    "        noswim_trial.append(on_+off_+off_set)"
   ]
  },
  {
   "cell_type": "code",
   "execution_count": 50,
   "metadata": {},
   "outputs": [],
   "source": [
    "def motor_stats_chunks(dff, swim_trial=None, noswim_trial=None, swim_len=None, pre_len=None):\n",
    "    num_cells = dff.shape[0]\n",
    "    cell_stats = np.zeros((num_cells, 5)).astype('O')\n",
    "    for n in range(num_cells):\n",
    "        _ = motor_stats(dff[n], swim_trial=swim_trial_, noswim_trial=noswim_trial, swim_len=swim_len, pre_len=pre_len)\n",
    "        cell_stats[n]=_[0]\n",
    "    return cell_stats"
   ]
  },
  {
   "cell_type": "code",
   "execution_count": 51,
   "metadata": {},
   "outputs": [],
   "source": [
    "swim_trial_ = np.array(swim_trial)[np.array(swim_type)!=6]\n",
    "cell_sm_stats = dFF_.map_blocks(motor_stats_chunks, swim_trial=swim_trial_, noswim_trial=noswim_trial, swim_len=swim_len, pre_len=pre_len, dtype='O').compute()\n",
    "np.savez(save_root+'cell_type_stats_sm', cell_sm_stats=cell_sm_stats)"
   ]
  },
  {
   "cell_type": "code",
   "execution_count": 56,
   "metadata": {},
   "outputs": [],
   "source": [
    "swim_trial_ = np.array(swim_trial)[np.array(swim_type)==6]\n",
    "cell_motor_stats = dFF_.map_blocks(motor_stats_chunks, swim_trial=swim_trial_, noswim_trial=noswim_trial, swim_len=swim_len, pre_len=pre_len, dtype='O').compute() \n",
    "np.savez(save_root+'cell_type_stats_motor', cell_motor_stats=cell_motor_stats)"
   ]
  },
  {
   "cell_type": "code",
   "execution_count": 7,
   "metadata": {},
   "outputs": [],
   "source": [
    "swim_thres = max(np.percentile(swim_frame, 85), 0.2)\n",
    "active_pulse_trial = []\n",
    "passive_pulse_trial = []\n",
    "\n",
    "active_on = np.where((epoch_frame[1:]==3) & (epoch_frame[:-1]==2))[0]+1\n",
    "passive_on = np.where((epoch_frame[1:]==8) & (epoch_frame[:-1]==7))[0]+1\n",
    "post_ = 50\n",
    "pre_ = 2\n",
    "\n",
    "for n, trial in enumerate(active_on):\n",
    "    swim_ = np.clip(swim_frame[trial-pre_:trial+post_]-swim_thres, 0, np.inf)\n",
    "    if swim_.sum()==0:\n",
    "        active_pulse_trial.append(trial)\n",
    "    \n",
    "for n, trial in enumerate(passive_on):\n",
    "    swim_ = np.clip(swim_frame[trial-pre_:trial+post_]-swim_thres, 0, np.inf)\n",
    "    if swim_.sum()==0:\n",
    "        passive_pulse_trial.append(trial)"
   ]
  },
  {
   "cell_type": "code",
   "execution_count": 63,
   "metadata": {},
   "outputs": [],
   "source": [
    "def comp_stats_chunks(dff, cond_trial=None, comp_trial=None, pre=None, post=None):\n",
    "    num_cells = dff.shape[0]\n",
    "    cell_stats = np.zeros((num_cells, 5)).astype('O')\n",
    "    for n in range(num_cells):\n",
    "        _ = comp_stats(dff[n],  cond_trial=cond_trial, comp_trial=comp_trial, pre=pre, post=post)\n",
    "        cell_stats[n]=_[0]\n",
    "    return cell_stats"
   ]
  },
  {
   "cell_type": "code",
   "execution_count": 8,
   "metadata": {},
   "outputs": [],
   "source": [
    "cell_active_pulse_stats = dFF_.map_blocks(comp_stats_chunks, cond_trial=active_pulse_trial, comp_trial=passive_pulse_trial, pre=pre_, post=post_, dtype='O').compute()  \n",
    "np.savez(save_root+'cell_active_pulse_stats', cell_active_pulse_stats=cell_active_pulse_stats)"
   ]
  },
  {
   "cell_type": "code",
   "execution_count": null,
   "metadata": {},
   "outputs": [],
   "source": []
  },
  {
   "cell_type": "code",
   "execution_count": null,
   "metadata": {},
   "outputs": [],
   "source": []
  },
  {
   "cell_type": "code",
   "execution_count": 9,
   "metadata": {},
   "outputs": [],
   "source": [
    "fdask.terminate_workers(cluster, client)"
   ]
  },
  {
   "cell_type": "code",
   "execution_count": null,
   "metadata": {},
   "outputs": [],
   "source": []
  },
  {
   "cell_type": "code",
   "execution_count": null,
   "metadata": {},
   "outputs": [],
   "source": []
  },
  {
   "cell_type": "code",
   "execution_count": null,
   "metadata": {},
   "outputs": [],
   "source": []
  },
  {
   "cell_type": "code",
   "execution_count": null,
   "metadata": {},
   "outputs": [],
   "source": []
  }
 ],
 "metadata": {
  "kernelspec": {
   "display_name": "myenv",
   "language": "python",
   "name": "myenv"
  },
  "language_info": {
   "codemirror_mode": {
    "name": "ipython",
    "version": 3
   },
   "file_extension": ".py",
   "mimetype": "text/x-python",
   "name": "python",
   "nbconvert_exporter": "python",
   "pygments_lexer": "ipython3",
   "version": "3.7.7"
  }
 },
 "nbformat": 4,
 "nbformat_minor": 4
}
