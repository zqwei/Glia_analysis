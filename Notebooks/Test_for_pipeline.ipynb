{
 "cells": [
  {
   "cell_type": "markdown",
   "metadata": {},
   "source": [
    "# Whole brain data processing"
   ]
  },
  {
   "cell_type": "code",
   "execution_count": 1,
   "metadata": {},
   "outputs": [],
   "source": [
    "import numpy as np\n",
    "import pandas as pd\n",
    "import os, sys\n",
    "from glob import glob\n",
    "from h5py import File\n",
    "import matplotlib.pyplot as plt\n",
    "%matplotlib inline\n",
    "%load_ext autoreload\n",
    "%autoreload 2\n",
    "import warnings\n",
    "warnings.filterwarnings('ignore')\n",
    "import dask.array as da\n",
    "from utils import *\n",
    "import time"
   ]
  },
  {
   "cell_type": "markdown",
   "metadata": {},
   "source": [
    "## Set up environments"
   ]
  },
  {
   "cell_type": "code",
   "execution_count": 35,
   "metadata": {},
   "outputs": [],
   "source": [
    "dir_root = '/nrs/ahrens/Yu/SPIM/active_dataset/glia_neuron_imaging/20161109/fish2/20161109_2_1_6dpf_GFAP_GC_Huc_RG_GA_CL_fb_OL_f0_0GAIN_20161109_211950/raw'\n",
    "save_dir = ''\n",
    "cameraNoiseMat = '/groups/ahrens/ahrenslab/Ziqiang/gainMat/gainMat20180208'\n",
    "numCores = 60"
   ]
  },
  {
   "cell_type": "code",
   "execution_count": 2,
   "metadata": {},
   "outputs": [
    {
     "data": {
      "text/html": [
       "<table style=\"border: 2px solid white;\">\n",
       "<tr>\n",
       "<td style=\"vertical-align: top; border: 0px solid white\">\n",
       "<h3>Client</h3>\n",
       "<ul>\n",
       "  <li><b>Scheduler: </b>tcp://10.36.111.11:46028\n",
       "  <li><b>Dashboard: </b><a href='http://10.36.111.11:8787/status' target='_blank'>http://10.36.111.11:8787/status</a>\n",
       "</ul>\n",
       "</td>\n",
       "<td style=\"vertical-align: top; border: 0px solid white\">\n",
       "<h3>Cluster</h3>\n",
       "<ul>\n",
       "  <li><b>Workers: </b>0</li>\n",
       "  <li><b>Cores: </b>0</li>\n",
       "  <li><b>Memory: </b>0 B</li>\n",
       "</ul>\n",
       "</td>\n",
       "</tr>\n",
       "</table>"
      ],
      "text/plain": [
       "<Client: scheduler='tcp://10.36.111.11:46028' processes=0 cores=0>"
      ]
     },
     "execution_count": 2,
     "metadata": {},
     "output_type": "execute_result"
    }
   ],
   "source": [
    "import fish_proc.utils.dask_ as fdask\n",
    "cluster, client = fdask.setup_workers(numCores)\n",
    "client"
   ]
  },
  {
   "cell_type": "markdown",
   "metadata": {},
   "source": [
    "## Load file to dask"
   ]
  },
  {
   "cell_type": "code",
   "execution_count": 4,
   "metadata": {},
   "outputs": [],
   "source": [
    "files = sorted(glob(dir_root+'/*.h5'))\n",
    "chunks = File(files[0],'r')['default'].shape\n",
    "files = files[::10] # this is for test purpose\n",
    "data = da.stack([da.from_array(File(fn,'r')['default'], chunks=chunks) for fn in files])"
   ]
  },
  {
   "cell_type": "markdown",
   "metadata": {},
   "source": [
    "## Pixel denoise\n",
    "* Test of comparison -- see notebook test_data_compression"
   ]
  },
  {
   "cell_type": "code",
   "execution_count": 5,
   "metadata": {},
   "outputs": [],
   "source": [
    "from fish_proc.utils.getCameraInfo import getCameraInfo\n",
    "cameraInfo = getCameraInfo(dir_root)\n",
    "denoised_data = data.map_blocks(lambda v: pixelDenoiseImag(v, cameraInfo=cameraInfo), dtype='float32')"
   ]
  },
  {
   "cell_type": "code",
   "execution_count": 6,
   "metadata": {},
   "outputs": [],
   "source": [
    "if not os.path.exists('motion_fix_.h5'):\n",
    "    med_win = len(denoised_data)\n",
    "    ref_img = denoised_data[med_win-100:med_win+100].mean(axis=0).compute()\n",
    "    save_h5('motion_fix_.h5', ref_img, dtype='float16')\n",
    "else:\n",
    "    ref_img = File('motion_fix_.h5', 'r')['default'].value"
   ]
  },
  {
   "cell_type": "code",
   "execution_count": 7,
   "metadata": {},
   "outputs": [],
   "source": [
    "ref_img = ref_img.max(axis=0, keepdims=True)"
   ]
  },
  {
   "cell_type": "markdown",
   "metadata": {},
   "source": [
    "## Registration"
   ]
  },
  {
   "cell_type": "code",
   "execution_count": 8,
   "metadata": {},
   "outputs": [
    {
     "name": "stdout",
     "output_type": "stream",
     "text": [
      "CPU times: user 0 ns, sys: 972 µs, total: 972 µs\n",
      "Wall time: 3.89 ms\n"
     ]
    }
   ],
   "source": [
    "%%time\n",
    "if not os.path.exists('trans_affs.npy'):\n",
    "    trans_affine = denoised_data.map_blocks(lambda x: estimate_rigid2d(x, fixed=ref_img), dtype='float32', drop_axis=(3), chunks=(1,4,4)).compute()\n",
    "    np.save('trans_affs', trans_affine)"
   ]
  },
  {
   "cell_type": "code",
   "execution_count": 9,
   "metadata": {},
   "outputs": [],
   "source": [
    "trans_affine_ = np.load('trans_affs.npy')\n",
    "trans_affine_ = da.from_array(trans_affine_, chunks=(1,4,4))"
   ]
  },
  {
   "cell_type": "code",
   "execution_count": 10,
   "metadata": {},
   "outputs": [
    {
     "data": {
      "image/png": "[encoded data removed]",
      "text/plain": [
       "<Figure size 432x288 with 1 Axes>"
      ]
     },
     "metadata": {
      "needs_background": "light"
     },
     "output_type": "display_data"
    }
   ],
   "source": [
    "plt.plot(trans_affine_[:, 1, -1])\n",
    "plt.plot(trans_affine_[:, 2, -1])\n",
    "plt.show()"
   ]
  },
  {
   "cell_type": "markdown",
   "metadata": {},
   "source": [
    "### Compute registered images\n",
    "* z, x, y, t -- `trans_data_t` will be used for df/f computation after spatal component matrix is obtained"
   ]
  },
  {
   "cell_type": "code",
   "execution_count": 13,
   "metadata": {},
   "outputs": [],
   "source": [
    "trans_data_ = da.map_blocks(apply_transform3d, denoised_data, trans_affine_, chunks=(1, *denoised_data.shape[1:]), dtype='float32')\n",
    "chunk_x, chunk_y = chunks[-2:]\n",
    "trans_data_t = trans_data_.transpose((1, 2, 3, 0)).rechunk((1, chunk_x//4, chunk_y//4, -1))"
   ]
  },
  {
   "cell_type": "code",
   "execution_count": 15,
   "metadata": {},
   "outputs": [
    {
     "data": {
      "text/plain": [
       "dask.array<rechunk-merge, shape=(24, 2048, 2048, 1250), dtype=float32, chunksize=(1, 512, 512, 1250)>"
      ]
     },
     "execution_count": 15,
     "metadata": {},
     "output_type": "execute_result"
    }
   ],
   "source": [
    "trans_data_t"
   ]
  },
  {
   "cell_type": "markdown",
   "metadata": {},
   "source": [
    "## Video Detrend\n",
    "* use more trackable video detrend algorithm -- for example running percentile instead of local fit -- this will saving space in trend data"
   ]
  },
  {
   "cell_type": "code",
   "execution_count": 39,
   "metadata": {},
   "outputs": [],
   "source": [
    "baseline_t = trans_data_t.map_blocks(lambda v: baseline(v, window=100, percentile=20), dtype='float32')\n",
    "Y_d = trans_data_t.map_blocks(lambda v: v - baseline(v, window=100, percentile=20), dtype='float32')"
   ]
  },
  {
   "cell_type": "markdown",
   "metadata": {},
   "source": [
    "### test data"
   ]
  },
  {
   "cell_type": "code",
   "execution_count": 37,
   "metadata": {},
   "outputs": [],
   "source": [
    "test_video_detrend = False\n",
    "if test_video_detrend:\n",
    "    test_ = trans_data_t[12, 256, 256, :].compute()\n",
    "    cluster.stop_all_jobs()\n",
    "    time.sleep(10)\n",
    "\n",
    "    cluster.start_workers(numCores)\n",
    "    test_baseline = baseline_t[12, 256, 256, :].compute()\n",
    "    cluster.stop_all_jobs()\n",
    "    time.sleep(10)\n",
    "\n",
    "    cluster.start_workers(numCores)\n",
    "    test_d = Y_d[12, 256, 256, :].compute()\n",
    "    cluster.stop_all_jobs()\n",
    "    time.sleep(10)\n",
    "    \n",
    "    plt.plot(test_)\n",
    "    plt.plot(test_baseline)\n",
    "    plt.title('F and basline')\n",
    "    plt.show()\n",
    "    min_ = np.min(np.percentile(test_, 0.3), 0)\n",
    "    dff = test_d/(test_baseline-min_)\n",
    "    plt.plot(dff)\n",
    "    plt.title('df/f')\n",
    "    plt.show()"
   ]
  },
  {
   "cell_type": "markdown",
   "metadata": {},
   "source": [
    "## Local PCA\n",
    "* This data should be saved as the sparse matrices"
   ]
  },
  {
   "cell_type": "code",
   "execution_count": null,
   "metadata": {},
   "outputs": [
    {
     "name": "stderr",
     "output_type": "stream",
     "text": [
      "Worker tcp://10.36.60.13:42525 restart in Job 55916049. This can be due to memory issue.\n",
      "Worker tcp://10.36.60.12:35748 restart in Job 55915986. This can be due to memory issue.\n",
      "Worker tcp://10.36.60.41:38065 restart in Job 55916041. This can be due to memory issue.\n",
      "Worker tcp://10.36.60.13:45697 restart in Job 55916050. This can be due to memory issue.\n",
      "Worker tcp://10.36.60.32:34616 restart in Job 55916063. This can be due to memory issue.\n",
      "Worker tcp://10.36.60.27:33025 restart in Job 55916059. This can be due to memory issue.\n",
      "Worker tcp://10.36.60.11:40725 restart in Job 55915984. This can be due to memory issue.\n",
      "Worker tcp://10.36.60.12:33753 restart in Job 55915987. This can be due to memory issue.\n",
      "Worker tcp://10.36.60.30:36625 restart in Job 55915993. This can be due to memory issue.\n",
      "Worker tcp://10.36.60.41:33025 restart in Job 55916040. This can be due to memory issue.\n",
      "Worker tcp://10.36.60.27:33029 restart in Job 55916843. This can be due to memory issue.\n",
      "Worker tcp://10.36.60.27:36141 restart in Job 55916849. This can be due to memory issue.\n",
      "Worker tcp://10.36.60.12:42451 restart in Job 55916828. This can be due to memory issue.\n",
      "Worker tcp://10.36.60.30:34661 restart in Job 55916822. This can be due to memory issue.\n",
      "Worker tcp://10.36.60.16:45794 restart in Job 55916794. This can be due to memory issue.\n",
      "Worker tcp://10.36.60.30:40825 restart in Job 55916823. This can be due to memory issue.\n",
      "Worker tcp://10.36.60.41:43686 restart in Job 55916800. This can be due to memory issue.\n",
      "Worker tcp://10.36.60.27:39757 restart in Job 55916851. This can be due to memory issue.\n",
      "Worker tcp://10.36.60.12:38933 restart in Job 55916831. This can be due to memory issue.\n",
      "Worker tcp://10.36.60.24:39353 restart in Job 55916797. This can be due to memory issue.\n",
      "Worker tcp://10.36.60.16:43265 restart in Job 55916793. This can be due to memory issue.\n",
      "Worker tcp://10.36.60.24:34261 restart in Job 55916796. This can be due to memory issue.\n",
      "Worker tcp://10.36.60.27:45197 restart in Job 55916838. This can be due to memory issue.\n"
     ]
    }
   ],
   "source": [
    "if not os.path.exists(f'{save_dir}Y_2dnorm.npz'):\n",
    "    cluster.start_workers(numCores)\n",
    "    Y_d_ave = Y_d.mean(axis=-1, keepdims=True, dtype='float32').compute()\n",
    "    cluster.stop_all_jobs()\n",
    "    time.sleep(10)\n",
    "    cluster.start_workers(numCores)\n",
    "    Y_d_std = Y_d.std(axis=-1, keepdims=True, dtype='float32').compute()\n",
    "    np.savez_compressed(f'{save_dir}Y_2dnorm', Y_d_ave=Y_d_ave, Y_d_std=Y_d_std)\n",
    "    cluster.stop_all_jobs()\n",
    "    time.sleep(10)\n",
    "else:\n",
    "    _ = np.load(f'{save_dir}Y_2dnorm.npz')\n",
    "    Y_d_ave = _['Y_d_ave']\n",
    "    Y_d_std = _['Y_d_std']"
   ]
  },
  {
   "cell_type": "code",
   "execution_count": 41,
   "metadata": {},
   "outputs": [],
   "source": [
    "try:\n",
    "    cluster.stop_all_jobs()\n",
    "    time.sleep(10)\n",
    "except:\n",
    "    pass"
   ]
  },
  {
   "cell_type": "code",
   "execution_count": null,
   "metadata": {},
   "outputs": [],
   "source": []
  },
  {
   "cell_type": "code",
   "execution_count": null,
   "metadata": {},
   "outputs": [],
   "source": [
    "Y_d = (Y_d - Y_d_ave)/Y_d_std\n",
    "xy_lap = 10 # overlap by 10 pixel in blocks\n",
    "g = da.overlap.overlap(Y_d, depth={1: xy_lap, 2: xy_lap}, boundary={1: 0, 2: 0})"
   ]
  },
  {
   "cell_type": "code",
   "execution_count": null,
   "metadata": {},
   "outputs": [],
   "source": [
    "# check data\n",
    "print(Y_d)\n",
    "print(g)"
   ]
  },
  {
   "cell_type": "code",
   "execution_count": null,
   "metadata": {},
   "outputs": [],
   "source": [
    "# test code for local_pca\n",
    "def local_pca_test(block, block_id=None):\n",
    "    # this check the input data is as designed\n",
    "    from multi\n",
    "    print(block.shape)\n",
    "    return np.zeros([1]*len(block_id))"
   ]
  },
  {
   "cell_type": "code",
   "execution_count": null,
   "metadata": {},
   "outputs": [
    {
     "name": "stderr",
     "output_type": "stream",
     "text": [
      "Worker tcp://10.36.60.12:42887 restart in Job 55910878. This can be due to memory issue.\n"
     ]
    }
   ],
   "source": [
    "def local_pca(block, block_id=None):\n",
    "    from fish_proc.denoiseLocalPCA.denoise import temporal as svd_patch\n",
    "    from numpy import expand_dims\n",
    "    dx=4\n",
    "    nblocks=[20, 20]\n",
    "    Y_svd, _ = svd_patch(block.squeeze(), nblocks=nblocks, dx=dx, stim_knots=None, stim_delta=0)\n",
    "    return expand_dims(Y_svd, 0)"
   ]
  },
  {
   "cell_type": "code",
   "execution_count": null,
   "metadata": {},
   "outputs": [],
   "source": [
    "# this is a test\n",
    "Y_svd = g.map_blocks(local_pca_test, dtype='float32', chunks=(1, 1, 1, 1))\n",
    "Y_svd.compute()"
   ]
  },
  {
   "cell_type": "code",
   "execution_count": null,
   "metadata": {},
   "outputs": [],
   "source": [
    "# this is a test for middle layers\n",
    "Y_svd = g[12:14].map_blocks(local_pca, dtype='float32', chunks=(1, 1, 1, 1))\n",
    "Y_svd.compute()"
   ]
  },
  {
   "cell_type": "code",
   "execution_count": 29,
   "metadata": {},
   "outputs": [],
   "source": [
    "Y_svd = da.overlap.trim_internal(Y_svd, {1: xy_lap, 2: xy_lap})"
   ]
  },
  {
   "cell_type": "markdown",
   "metadata": {},
   "source": [
    "## Demix\n",
    "* down-sample in time"
   ]
  },
  {
   "cell_type": "code",
   "execution_count": null,
   "metadata": {},
   "outputs": [],
   "source": [
    "dt = 2\n",
    "mov = Y_svd[::dt]"
   ]
  },
  {
   "cell_type": "code",
   "execution_count": null,
   "metadata": {},
   "outputs": [],
   "source": [
    "# check if the chunks are as designed\n",
    "mov"
   ]
  },
  {
   "cell_type": "code",
   "execution_count": null,
   "metadata": {},
   "outputs": [],
   "source": []
  },
  {
   "cell_type": "code",
   "execution_count": null,
   "metadata": {},
   "outputs": [],
   "source": []
  },
  {
   "cell_type": "code",
   "execution_count": null,
   "metadata": {},
   "outputs": [],
   "source": [
    "\n",
    "\n",
    "def demix_components(ext=''):\n",
    "    dat_xls_file = pd.read_csv(dat_csv, index_col=0)\n",
    "    dat_xls_file['folder'] = dat_xls_file['folder'].apply(lambda x: f'{x:0>8}')\n",
    "    for index, row in dat_xls_file.iterrows():\n",
    "        try:\n",
    "            demix_middle_data_with_mask(row, ext=ext)\n",
    "        except Exception as err:\n",
    "            folder = row['folder']\n",
    "            fish = row['fish']\n",
    "            save_folder = dat_folder + f'{folder}/{fish}/Data'\n",
    "            print(f'Demix failed on file {folder}/{fish}: {err}')\n",
    "            os.remove(save_folder+f'/proc_demix{ext}.tmp')\n",
    "    return None\n",
    "\n",
    "\n",
    "def demix_middle_data_with_mask(row, ext='', ismask=True):\n",
    "    import matplotlib.pyplot as plt\n",
    "    import seaborn as sns\n",
    "    from pathlib import Path\n",
    "    from skimage.external.tifffile import imsave, imread\n",
    "    from fish_proc.demix import superpixel_analysis as sup\n",
    "    from fish_proc.utils.snr import correlation_pnr\n",
    "    from fish_proc.utils.noise_estimator import get_noise_fft\n",
    "    import pickle\n",
    "    sns.set(font_scale=2)\n",
    "    sns.set_style(\"white\")\n",
    "    # mask out the region with low snr\n",
    "\n",
    "    folder = row['folder']\n",
    "    fish = row['fish']\n",
    "    save_folder = dat_folder + f'{folder}/{fish}/Data'\n",
    "    save_image_folder = dat_folder + f'{folder}/{fish}/Results'\n",
    "    if not os.path.exists(save_image_folder):\n",
    "        os.makedirs(save_image_folder)\n",
    "    print('=====================================')\n",
    "    print(save_folder)\n",
    "\n",
    "    if os.path.isfile(save_folder+f'/finished_demix{ext}.tmp'):\n",
    "        return None\n",
    "\n",
    "    if not os.path.isfile(save_folder+f'/finished_local_denoise.tmp'):\n",
    "        return None\n",
    "\n",
    "    if not os.path.isfile(save_folder+f'/proc_demix{ext}.tmp'):\n",
    "        Path(save_folder+f'/proc_demix{ext}.tmp').touch()\n",
    "        _ = np.load(f'{save_folder}/Y_2dnorm.npz')\n",
    "        Y_d_std= _['Y_d_std']\n",
    "        \n",
    "        # if Y_svd not exist, generate file\n",
    "        if not os.path.isfile(f'{save_folder}/Y_svd.tif'):\n",
    "            Y_svd = []\n",
    "            for n_ in range(10):\n",
    "                Y_svd.append(np.load(f'{save_folder}/Y_2dsvd{n_}.npy').astype('float32'))\n",
    "            Y_svd = np.concatenate(Y_svd, axis=-1)\n",
    "            print(Y_svd.shape)\n",
    "            imsave(f'{save_folder}/Y_svd.tif', Y_svd.astype('float32'), compress=1)\n",
    "            print('Concatenate files into a tif file')\n",
    "            get_process_memory();\n",
    "            \n",
    "            for n_ in range(10):\n",
    "                if os.path.isfile(f'{save_folder}/Y_2dsvd{n_}.npy'):\n",
    "                    os.remove(f'{save_folder}/Y_2dsvd{n_}.npy')\n",
    "        \n",
    "        # save preprocessed data in case of unsuccessful demix \n",
    "        # make mask\n",
    "        if ismask:\n",
    "            if not os.path.exists(f'{save_folder}/mask.npz'):\n",
    "                try:\n",
    "                    Y_svd\n",
    "                except NameError:\n",
    "                    Y_svd = imread(f'{save_folder}/Y_svd.tif').astype('float32')\n",
    "                mean_ = Y_svd.mean(axis=-1,keepdims=True)\n",
    "                sn, _ = get_noise_fft(Y_svd - mean_,noise_method='logmexp')\n",
    "                SNR_ = Y_svd.var(axis=-1)/sn**2\n",
    "                std_thres = np.percentile(Y_d_std.ravel(), 80)\n",
    "                mask = Y_d_std.squeeze(axis=-1)<=std_thres\n",
    "                snr_thres = np.percentile(np.log(SNR_).ravel(), 0)\n",
    "                mask = np.logical_or(mask, np.log(SNR_)<snr_thres)\n",
    "                mask_out_region = np.logical_not(mask)\n",
    "                mask_save = np.where(mask_out_region)\n",
    "                np.savez(f'{save_folder}/mask', mask=mask, mask_save=mask_save)\n",
    "            else:\n",
    "                _ = np.load(f'{save_folder}/mask.npz')\n",
    "                mask = _['mask']\n",
    "                mask_save = _['mask_save']\n",
    "        else:\n",
    "            d1, d2, _ = Y_d_std.shape\n",
    "            mask = np.full((d1, d2), False)\n",
    "            mask_save = np.where(np.full((d1, d2), True))\n",
    "\n",
    "        if not os.path.exists(f'{save_folder}/demix_mov.npz'):\n",
    "            try:\n",
    "                Y_svd\n",
    "            except NameError:\n",
    "                Y_svd = imread(f'{save_folder}/Y_svd.tif').astype('float32')\n",
    "            # get move data\n",
    "            len_Y = Y_svd.shape[-1]\n",
    "            mov_ = Y_svd[mask_save[0].min():mask_save[0].max(), mask_save[1].min():mask_save[1].max(), len_Y//3:-len_Y//3]\n",
    "            Y_svd = None\n",
    "            clear_variables(Y_svd)\n",
    "            get_process_memory();    \n",
    "            # get sparse data\n",
    "            Y_d_std_ = Y_d_std[mask_save[0].min():mask_save[0].max(), mask_save[1].min():mask_save[1].max(), :]\n",
    "            mov_ = mov_*Y_d_std_ + np.random.normal(size=mov_.shape)*0.7\n",
    "            mov_ = -mov_.astype('float32')\n",
    "            mask_ = mask[mask_save[0].min():mask_save[0].max(), mask_save[1].min():mask_save[1].max()]\n",
    "            mov_[mask_]=0 \n",
    "            mov_ = mov_.astype('float32')\n",
    "            # get local correlation distribution\n",
    "            Cn, _ = correlation_pnr(mov_, skip_pnr=True)\n",
    "            np.savez(f'{save_folder}/demix_mov', mov_ = mov_, Cn=Cn)\n",
    "        else:\n",
    "            _ = np.load(f'{save_folder}/demix_mov.npz')\n",
    "            mov_ = _['mov_'].astype('float32')\n",
    "            Cn = _['Cn']\n",
    "        \n",
    "        get_process_memory();\n",
    "        d1, d2, _ = mov_.shape\n",
    "\n",
    "        is_demix = False\n",
    "        pass_num = 4\n",
    "        cut_off_point=np.percentile(Cn.ravel(), [99, 95, 85, 65])\n",
    "        while not is_demix and pass_num>=0:\n",
    "            try:\n",
    "                rlt_= sup.demix_whole_data(mov_, cut_off_point[4-pass_num:], length_cut=[10,15,15,15],\n",
    "                                           th=[1,1,1,1], pass_num=pass_num, residual_cut = [0.6,0.6,0.6,0.6],\n",
    "                                           corr_th_fix=0.3, max_allow_neuron_size=0.05, merge_corr_thr=cut_off_point[-1],\n",
    "                                           merge_overlap_thr=0.6, num_plane=1, patch_size=[40, 40], plot_en=False,\n",
    "                                           TF=False, fudge_factor=1, text=False, bg=False, max_iter=60,\n",
    "                                           max_iter_fin=100, update_after=20)\n",
    "                is_demix = True\n",
    "            except:\n",
    "                print(f'fail at pass_num {pass_num}')\n",
    "                is_demix = False\n",
    "                pass_num -= 1\n",
    "\n",
    "        with open(f'{save_folder}/period_Y_demix{ext}_rlt.pkl', 'wb') as f:\n",
    "            pickle.dump(rlt_, f)\n",
    "\n",
    "        print('Result file saved?')\n",
    "        print(os.path.isfile(f'{save_folder}/period_Y_demix{ext}_rlt.pkl'))\n",
    "\n",
    "        with open(f'{save_folder}/period_Y_demix{ext}_rlt.pkl', 'rb') as f:\n",
    "            rlt_ = pickle.load(f)\n",
    "\n",
    "        if not os.path.isfile(f'{save_folder}/Y_trend_ave.npy'):\n",
    "            Y_mean = imread(f'{save_folder}/imgDMotion.tif').mean(axis=0)\n",
    "            Y_d_mean = imread(f'{save_folder}/Y_d.tif').mean(axis=-1)\n",
    "            Y_trend_ave = Y_mean - Y_d_mean\n",
    "            Y_mean = None\n",
    "            Y_d_mean = None\n",
    "            clear_variables((Y_d_mean, Y_mean, mov_))\n",
    "            np.save(f'{save_folder}/Y_trend_ave', Y_trend_ave)\n",
    "        else:\n",
    "            Y_trend_ave = np.load(f'{save_folder}/Y_trend_ave.npy')\n",
    "\n",
    "        Y_trend_ave = Y_trend_ave[mask_save[0].min():mask_save[0].max(), mask_save[1].min():mask_save[1].max()]\n",
    "\n",
    "        A = rlt_['fin_rlt']['a']\n",
    "        A_ = A[:, (A>0).sum(axis=0)>0]\n",
    "        A_comp = np.zeros(A_.shape[0])\n",
    "        A_comp[A_.sum(axis=-1)>0] = np.argmax(A_[A_.sum(axis=-1)>0, :], axis=-1) + 1\n",
    "        plt.figure(figsize=(8,4))\n",
    "        plt.imshow(Y_trend_ave, cmap=plt.cm.gray)\n",
    "        plt.imshow(A_comp.reshape(d2, d1).T, cmap=plt.cm.nipy_spectral_r, alpha=0.7)\n",
    "        plt.axis('off')\n",
    "        plt.tight_layout()\n",
    "        plt.savefig(f'{save_image_folder}/Demixed_components{ext}.png')\n",
    "        plt.close()\n",
    "        Path(save_folder+f'/finished_demix{ext}.tmp').touch()\n",
    "    return None"
   ]
  },
  {
   "cell_type": "code",
   "execution_count": null,
   "metadata": {},
   "outputs": [],
   "source": []
  },
  {
   "cell_type": "code",
   "execution_count": null,
   "metadata": {},
   "outputs": [],
   "source": []
  },
  {
   "cell_type": "code",
   "execution_count": null,
   "metadata": {},
   "outputs": [],
   "source": []
  },
  {
   "cell_type": "code",
   "execution_count": null,
   "metadata": {},
   "outputs": [],
   "source": []
  },
  {
   "cell_type": "code",
   "execution_count": null,
   "metadata": {},
   "outputs": [],
   "source": []
  }
 ],
 "metadata": {
  "kernelspec": {
   "display_name": "Python (myenv)",
   "language": "python",
   "name": "myenv"
  },
  "language_info": {
   "codemirror_mode": {
    "name": "ipython",
    "version": 3
   },
   "file_extension": ".py",
   "mimetype": "text/x-python",
   "name": "python",
   "nbconvert_exporter": "python",
   "pygments_lexer": "ipython3",
   "version": "3.6.8"
  }
 },
 "nbformat": 4,
 "nbformat_minor": 2
}
