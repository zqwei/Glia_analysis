{
 "cells": [
  {
   "cell_type": "markdown",
   "metadata": {},
   "source": [
    "# Whole brain data processing"
   ]
  },
  {
   "cell_type": "code",
   "execution_count": 1,
   "metadata": {},
   "outputs": [],
   "source": [
    "import numpy as np\n",
    "import pandas as pd\n",
    "import os, sys\n",
    "from glob import glob\n",
    "from h5py import File\n",
    "import matplotlib.pyplot as plt\n",
    "%matplotlib inline\n",
    "%load_ext autoreload\n",
    "%autoreload 2\n",
    "from fish_proc.utils.memory import get_process_memory, clear_variables\n",
    "cameraNoiseMat = '/groups/ahrens/ahrenslab/Ziqiang/gainMat/gainMat20180208'\n",
    "dir_root = '/nrs/ahrens/Yu/SPIM/active_dataset/glia_neuron_imaging/20161109/fish2/20161109_2_1_6dpf_GFAP_GC_Huc_RG_GA_CL_fb_OL_f0_0GAIN_20161109_211950/raw'\n",
    "import warnings\n",
    "warnings.filterwarnings('ignore')\n",
    "import dask.array as da\n",
    "from utils import *"
   ]
  },
  {
   "cell_type": "markdown",
   "metadata": {},
   "source": [
    "## Set up dask"
   ]
  },
  {
   "cell_type": "code",
   "execution_count": 2,
   "metadata": {},
   "outputs": [
    {
     "data": {
      "text/html": [
       "<table style=\"border: 2px solid white;\">\n",
       "<tr>\n",
       "<td style=\"vertical-align: top; border: 0px solid white\">\n",
       "<h3>Client</h3>\n",
       "<ul>\n",
       "  <li><b>Scheduler: </b>tcp://10.36.111.11:36583\n",
       "  <li><b>Dashboard: </b><a href='http://10.36.111.11:8787/status' target='_blank'>http://10.36.111.11:8787/status</a>\n",
       "</ul>\n",
       "</td>\n",
       "<td style=\"vertical-align: top; border: 0px solid white\">\n",
       "<h3>Cluster</h3>\n",
       "<ul>\n",
       "  <li><b>Workers: </b>0</li>\n",
       "  <li><b>Cores: </b>0</li>\n",
       "  <li><b>Memory: </b>0 B</li>\n",
       "</ul>\n",
       "</td>\n",
       "</tr>\n",
       "</table>"
      ],
      "text/plain": [
       "<Client: scheduler='tcp://10.36.111.11:36583' processes=0 cores=0>"
      ]
     },
     "execution_count": 2,
     "metadata": {},
     "output_type": "execute_result"
    }
   ],
   "source": [
    "import fish_proc.utils.dask_ as fdask\n",
    "cluster, client = fdask.setup_workers(60)\n",
    "client"
   ]
  },
  {
   "cell_type": "markdown",
   "metadata": {},
   "source": [
    "## Load file to dask"
   ]
  },
  {
   "cell_type": "code",
   "execution_count": 3,
   "metadata": {},
   "outputs": [],
   "source": [
    "files = sorted(glob(dir_root+'/*.h5'))\n",
    "# len_files = len(files)\n",
    "# files = files[len_files//2-1000:len_files//2+1000]\n",
    "chunks = File(files[0],'r')['default'].shape\n",
    "data = da.stack([da.from_array(File(fn,'r')['default'], chunks=chunks) for fn in files])"
   ]
  },
  {
   "cell_type": "markdown",
   "metadata": {},
   "source": [
    "## Pixel denoise"
   ]
  },
  {
   "cell_type": "code",
   "execution_count": null,
   "metadata": {},
   "outputs": [],
   "source": [
    "from fish_proc.utils.getCameraInfo import getCameraInfo\n",
    "cameraInfo = getCameraInfo(dir_root)\n",
    "denoised_data = data.map_blocks(lambda v: pixelDenoiseImag(v, cameraInfo=cameraInfo))"
   ]
  },
  {
   "cell_type": "markdown",
   "metadata": {},
   "source": [
    "## Registration"
   ]
  },
  {
   "cell_type": "code",
   "execution_count": null,
   "metadata": {},
   "outputs": [],
   "source": [
    "med_win = len(denoised_data)\n",
    "ref_img = denoised_data[med_win-100:med_win+100].mean(axis=0).compute()\n",
    "np.save('motion_fix_', ref_img)\n",
    "ref_img = np.load('motion_fix_.npy').max(0, keepdims=True)"
   ]
  },
  {
   "cell_type": "code",
   "execution_count": null,
   "metadata": {},
   "outputs": [],
   "source": [
    "%%time\n",
    "trans_affine = denoised_data[::10].map_blocks(lambda x: estimate_rigid2d(x, fixed=ref_img), dtype='object', drop_axis=(3), chunks=(1,4,4)).compute()\n",
    "np.save('trans_affs', trans_affine)"
   ]
  },
  {
   "cell_type": "code",
   "execution_count": null,
   "metadata": {},
   "outputs": [],
   "source": [
    "trans_affine_ = np.load('trans_affs.npy')\n",
    "trans_affine_ = da.from_array(trans_affine_, chunks=(1,4,4))"
   ]
  },
  {
   "cell_type": "code",
   "execution_count": null,
   "metadata": {},
   "outputs": [],
   "source": [
    "plt.plot(trans_affine_[:, 1, -1])\n",
    "plt.plot(trans_affine_[:, 2, -1])\n",
    "plt.show()"
   ]
  },
  {
   "cell_type": "markdown",
   "metadata": {},
   "source": [
    "### Prepare data for video detrend"
   ]
  },
  {
   "cell_type": "code",
   "execution_count": 11,
   "metadata": {},
   "outputs": [],
   "source": [
    "trans_data_ = da.map_blocks(apply_transform3d, denoised_data[::10], trans_affine_, chunks=(1, *denoised_data.shape[1:]), dtype='float32')"
   ]
  },
  {
   "cell_type": "code",
   "execution_count": 11,
   "metadata": {},
   "outputs": [],
   "source": [
    "### these are identical\n",
    "# trans_data = trans_data_.compute()\n",
    "# for n in range(trans_data_.shape[1]):\n",
    "#     da.to_npy_stack('data/%03d/'%(n), trans_data_[:, n, :, :], axis=0)\n",
    "# trans_data_ = da.map_blocks(apply_transform3d, denoised_data[::10], trans_affine_, chunks=(1, *denoised_data.shape[1:]), dtype='float32')\n",
    "# trans_data = trans_data_.compute()"
   ]
  },
  {
   "cell_type": "code",
   "execution_count": 23,
   "metadata": {},
   "outputs": [
    {
     "name": "stdout",
     "output_type": "stream",
     "text": [
      "CPU times: user 75 ms, sys: 4.96 ms, total: 80 ms\n",
      "Wall time: 79.1 ms\n"
     ]
    }
   ],
   "source": [
    "%%time\n",
    "trans_data_t = trans_data_.transpose((1, 2, 3, 0)).rechunk((1, 'auto', 'auto', -1))"
   ]
  },
  {
   "cell_type": "code",
   "execution_count": 26,
   "metadata": {},
   "outputs": [
    {
     "name": "stdout",
     "output_type": "stream",
     "text": [
      "CPU times: user 1min 27s, sys: 6.17 s, total: 1min 33s\n",
      "Wall time: 10min 52s\n"
     ]
    }
   ],
   "source": [
    "%%time\n",
    "import shutil\n",
    "if os.path.exists('registered_data'):\n",
    "    shutil.rmtree('registered_data')\n",
    "trans_data_t.to_zarr('registered_data')"
   ]
  },
  {
   "cell_type": "code",
   "execution_count": 20,
   "metadata": {},
   "outputs": [
    {
     "name": "stderr",
     "output_type": "stream",
     "text": [
      "Future exception was never retrieved\n",
      "future: <Future finished exception=CommClosedError('in <closed TCP>: Stream is closed',)>\n",
      "Traceback (most recent call last):\n",
      "  File \"/groups/ahrens/home/weiz/anaconda/envs/myenv/lib/python3.6/site-packages/distributed/comm/tcp.py\", line 182, in read\n",
      "    n_frames = yield stream.read_bytes(8)\n",
      "  File \"/groups/ahrens/home/weiz/anaconda/envs/myenv/lib/python3.6/site-packages/tornado/gen.py\", line 1133, in run\n",
      "    value = future.result()\n",
      "tornado.iostream.StreamClosedError: Stream is closed\n",
      "\n",
      "During handling of the above exception, another exception occurred:\n",
      "\n",
      "Traceback (most recent call last):\n",
      "  File \"/groups/ahrens/home/weiz/anaconda/envs/myenv/lib/python3.6/site-packages/tornado/gen.py\", line 1141, in run\n",
      "    yielded = self.gen.throw(*exc_info)\n",
      "  File \"/groups/ahrens/home/weiz/anaconda/envs/myenv/lib/python3.6/site-packages/distributed/comm/tcp.py\", line 202, in read\n",
      "    convert_stream_closed_error(self, e)\n",
      "  File \"/groups/ahrens/home/weiz/anaconda/envs/myenv/lib/python3.6/site-packages/distributed/comm/tcp.py\", line 131, in convert_stream_closed_error\n",
      "    raise CommClosedError(\"in %s: %s\" % (obj, exc))\n",
      "distributed.comm.core.CommClosedError: in <closed TCP>: Stream is closed\n",
      "Future exception was never retrieved\n",
      "future: <Future finished exception=CommClosedError('in <closed TCP>: Stream is closed',)>\n",
      "Traceback (most recent call last):\n",
      "  File \"/groups/ahrens/home/weiz/anaconda/envs/myenv/lib/python3.6/site-packages/distributed/comm/tcp.py\", line 182, in read\n",
      "    n_frames = yield stream.read_bytes(8)\n",
      "  File \"/groups/ahrens/home/weiz/anaconda/envs/myenv/lib/python3.6/site-packages/tornado/gen.py\", line 1133, in run\n",
      "    value = future.result()\n",
      "tornado.iostream.StreamClosedError: Stream is closed\n",
      "\n",
      "During handling of the above exception, another exception occurred:\n",
      "\n",
      "Traceback (most recent call last):\n",
      "  File \"/groups/ahrens/home/weiz/anaconda/envs/myenv/lib/python3.6/site-packages/tornado/gen.py\", line 1141, in run\n",
      "    yielded = self.gen.throw(*exc_info)\n",
      "  File \"/groups/ahrens/home/weiz/anaconda/envs/myenv/lib/python3.6/site-packages/distributed/comm/tcp.py\", line 202, in read\n",
      "    convert_stream_closed_error(self, e)\n",
      "  File \"/groups/ahrens/home/weiz/anaconda/envs/myenv/lib/python3.6/site-packages/distributed/comm/tcp.py\", line 131, in convert_stream_closed_error\n",
      "    raise CommClosedError(\"in %s: %s\" % (obj, exc))\n",
      "distributed.comm.core.CommClosedError: in <closed TCP>: Stream is closed\n",
      "Exception ignored in: <generator object add_client at 0x2acd777874c0>\n",
      "RuntimeError: generator ignored GeneratorExit\n",
      "Future exception was never retrieved\n",
      "future: <Future finished exception=CommClosedError('in <closed TCP>: Stream is closed',)>\n",
      "Traceback (most recent call last):\n",
      "  File \"/groups/ahrens/home/weiz/anaconda/envs/myenv/lib/python3.6/site-packages/distributed/comm/tcp.py\", line 182, in read\n",
      "    n_frames = yield stream.read_bytes(8)\n",
      "  File \"/groups/ahrens/home/weiz/anaconda/envs/myenv/lib/python3.6/site-packages/tornado/gen.py\", line 1133, in run\n",
      "    value = future.result()\n",
      "tornado.iostream.StreamClosedError: Stream is closed\n",
      "\n",
      "During handling of the above exception, another exception occurred:\n",
      "\n",
      "Traceback (most recent call last):\n",
      "  File \"/groups/ahrens/home/weiz/anaconda/envs/myenv/lib/python3.6/site-packages/tornado/gen.py\", line 1141, in run\n",
      "    yielded = self.gen.throw(*exc_info)\n",
      "  File \"/groups/ahrens/home/weiz/anaconda/envs/myenv/lib/python3.6/site-packages/distributed/comm/tcp.py\", line 202, in read\n",
      "    convert_stream_closed_error(self, e)\n",
      "  File \"/groups/ahrens/home/weiz/anaconda/envs/myenv/lib/python3.6/site-packages/distributed/comm/tcp.py\", line 131, in convert_stream_closed_error\n",
      "    raise CommClosedError(\"in %s: %s\" % (obj, exc))\n",
      "distributed.comm.core.CommClosedError: in <closed TCP>: Stream is closed\n",
      "Future exception was never retrieved\n",
      "future: <Future finished exception=CommClosedError('in <closed TCP>: Stream is closed',)>\n",
      "Traceback (most recent call last):\n",
      "  File \"/groups/ahrens/home/weiz/anaconda/envs/myenv/lib/python3.6/site-packages/distributed/comm/tcp.py\", line 182, in read\n",
      "    n_frames = yield stream.read_bytes(8)\n",
      "  File \"/groups/ahrens/home/weiz/anaconda/envs/myenv/lib/python3.6/site-packages/tornado/gen.py\", line 1133, in run\n",
      "    value = future.result()\n",
      "tornado.iostream.StreamClosedError: Stream is closed\n",
      "\n",
      "During handling of the above exception, another exception occurred:\n",
      "\n",
      "Traceback (most recent call last):\n",
      "  File \"/groups/ahrens/home/weiz/anaconda/envs/myenv/lib/python3.6/site-packages/tornado/gen.py\", line 1141, in run\n",
      "    yielded = self.gen.throw(*exc_info)\n",
      "  File \"/groups/ahrens/home/weiz/anaconda/envs/myenv/lib/python3.6/site-packages/distributed/comm/tcp.py\", line 202, in read\n",
      "    convert_stream_closed_error(self, e)\n",
      "  File \"/groups/ahrens/home/weiz/anaconda/envs/myenv/lib/python3.6/site-packages/distributed/comm/tcp.py\", line 131, in convert_stream_closed_error\n",
      "    raise CommClosedError(\"in %s: %s\" % (obj, exc))\n",
      "distributed.comm.core.CommClosedError: in <closed TCP>: Stream is closed\n"
     ]
    }
   ],
   "source": [
    "cluster.stop_all_jobs()\n",
    "cluster.close()"
   ]
  },
  {
   "cell_type": "markdown",
   "metadata": {},
   "source": [
    "## Video Detrend"
   ]
  },
  {
   "cell_type": "code",
   "execution_count": null,
   "metadata": {},
   "outputs": [],
   "source": []
  },
  {
   "cell_type": "markdown",
   "metadata": {},
   "source": [
    "## Local PCA"
   ]
  },
  {
   "cell_type": "code",
   "execution_count": null,
   "metadata": {},
   "outputs": [],
   "source": []
  },
  {
   "cell_type": "markdown",
   "metadata": {},
   "source": [
    "## Demix"
   ]
  },
  {
   "cell_type": "code",
   "execution_count": null,
   "metadata": {},
   "outputs": [],
   "source": []
  },
  {
   "cell_type": "code",
   "execution_count": null,
   "metadata": {},
   "outputs": [],
   "source": []
  },
  {
   "cell_type": "code",
   "execution_count": null,
   "metadata": {},
   "outputs": [],
   "source": []
  },
  {
   "cell_type": "code",
   "execution_count": null,
   "metadata": {},
   "outputs": [],
   "source": []
  },
  {
   "cell_type": "code",
   "execution_count": null,
   "metadata": {},
   "outputs": [],
   "source": []
  },
  {
   "cell_type": "code",
   "execution_count": null,
   "metadata": {},
   "outputs": [],
   "source": []
  }
 ],
 "metadata": {
  "kernelspec": {
   "display_name": "Python (myenv)",
   "language": "python",
   "name": "myenv"
  },
  "language_info": {
   "codemirror_mode": {
    "name": "ipython",
    "version": 3
   },
   "file_extension": ".py",
   "mimetype": "text/x-python",
   "name": "python",
   "nbconvert_exporter": "python",
   "pygments_lexer": "ipython3",
   "version": "3.6.8"
  }
 },
 "nbformat": 4,
 "nbformat_minor": 2
}
