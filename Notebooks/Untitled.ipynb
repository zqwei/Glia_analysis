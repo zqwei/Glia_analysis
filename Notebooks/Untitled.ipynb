{
 "cells": [
  {
   "cell_type": "code",
   "execution_count": 25,
   "metadata": {},
   "outputs": [],
   "source": [
    "import pandas as pd\n",
    "import numpy as np\n",
    "from glob import glob\n",
    "\n",
    "def open_ephys_metadata(xml):\n",
    "    import xml.etree.ElementTree as et\n",
    "    import collections\n",
    "    import pandas as pd\n",
    "    def tryfloat (x):\n",
    "        try: return float(x)\n",
    "        except: return(x)\n",
    "    tree = et.parse(xml)\n",
    "    root = tree.getroot()\n",
    "    StimConds = []\n",
    "    for r in root.getchildren():\n",
    "        StimCond = collections.OrderedDict()\n",
    "        for e in r:\n",
    "            StimCond[e.tag] = (tryfloat(e.text))\n",
    "        StimConds.append(StimCond)\n",
    "    columns = list(StimConds[0].keys())\n",
    "    columns.remove('epoch')\n",
    "    index = [s['epoch'] for s in StimConds]\n",
    "    return pd.DataFrame(StimConds, index=index, columns=columns)"
   ]
  },
  {
   "cell_type": "code",
   "execution_count": 26,
   "metadata": {},
   "outputs": [
    {
     "name": "stderr",
     "output_type": "stream",
     "text": [
      "/groups/ahrens/home/weiz/miniconda3/envs/myenv/lib/python3.7/site-packages/ipykernel_launcher.py:15: DeprecationWarning: This method will be removed in future versions.  Use 'list(elem)' or iteration over elem instead.\n",
      "  from ipykernel import kernelapp as app\n"
     ]
    }
   ],
   "source": [
    "df = pd.read_csv('../Processing/data_list.csv')\n",
    "expt_meta = glob(df.iloc[5]['dat_dir']+'ephys/*end.xml')[0]\n",
    "expt_paradigm = open_ephys_metadata(expt_meta)"
   ]
  },
  {
   "cell_type": "code",
   "execution_count": 27,
   "metadata": {},
   "outputs": [],
   "source": [
    "probe_amp = expt_paradigm.loc['LG probe']['velocity']"
   ]
  },
  {
   "cell_type": "code",
   "execution_count": 28,
   "metadata": {},
   "outputs": [
    {
     "data": {
      "text/plain": [
       "1.3"
      ]
     },
     "execution_count": 28,
     "metadata": {},
     "output_type": "execute_result"
    }
   ],
   "source": [
    "probe_amp"
   ]
  },
  {
   "cell_type": "code",
   "execution_count": null,
   "metadata": {},
   "outputs": [],
   "source": []
  }
 ],
 "metadata": {
  "kernelspec": {
   "display_name": "myenv",
   "language": "python",
   "name": "myenv"
  },
  "language_info": {
   "codemirror_mode": {
    "name": "ipython",
    "version": 3
   },
   "file_extension": ".py",
   "mimetype": "text/x-python",
   "name": "python",
   "nbconvert_exporter": "python",
   "pygments_lexer": "ipython3",
   "version": "3.7.7"
  }
 },
 "nbformat": 4,
 "nbformat_minor": 4
}
