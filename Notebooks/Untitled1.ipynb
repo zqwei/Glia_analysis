{
 "cells": [
  {
   "cell_type": "code",
   "execution_count": 1,
   "metadata": {},
   "outputs": [],
   "source": [
    "from single_cell_class import *\n",
    "from utils import *\n",
    "from brain_seg import brain_seg_factor\n",
    "from factor import thres_factor_\n",
    "from brain_segment_vis import *\n",
    "from swim_ephys import *\n",
    "from kernel_fit import *\n",
    "from scipy.stats import spearmanr\n",
    "import dask.array as da\n",
    "import zarr"
   ]
  },
  {
   "cell_type": "code",
   "execution_count": 2,
   "metadata": {},
   "outputs": [],
   "source": [
    "df = pd.read_csv('../Processing/data_list.csv')"
   ]
  },
  {
   "cell_type": "code",
   "execution_count": 13,
   "metadata": {},
   "outputs": [],
   "source": [
    "row=df.iloc[2]"
   ]
  },
  {
   "cell_type": "code",
   "execution_count": null,
   "metadata": {},
   "outputs": [],
   "source": [
    "save_root = row['save_dir']+'/'\n",
    "# check ephys data\n",
    "dat_dir = row['dat_dir'].replace('/im/', '/')\n",
    "dat_dir = dat_dir.replace('/im_CM0/', '/')\n",
    "dat_dir = dat_dir.replace('/im_CM1/', '/')\n",
    "p_dir = dat_dir + 'processed/'\n",
    "ephys_dir = dat_dir + 'ephys/'\n",
    "if not os.path.exists(ephys_dir):\n",
    "    print('Missing directory')\n",
    "    print(ephys_dir)\n",
    "\n",
    "###################################\n",
    "## Downsample sensory and motor input to frames\n",
    "###################################\n",
    "ephys_dat = glob(ephys_dir+'/*.10chFlt')[0]\n",
    "fileContent_ = load(ephys_dat)\n",
    "l_power = windowed_variance(fileContent_[0])[0]\n",
    "r_power = windowed_variance(fileContent_[1])[0]\n",
    "camtrig = fileContent_[2]\n",
    "\n",
    "expt_meta = glob(dat_dir+'ephys/*end.xml')[0]\n",
    "expt_paradigm = open_ephys_metadata(expt_meta)\n",
    "probe_amp = (expt_paradigm.loc['LG probe']['velocity']*100).astype('int')\n",
    "probe_gain = expt_paradigm.loc['LG probe']['gain']\n",
    "\n",
    "indx = ep2frame(camtrig, thres=3.8)\n",
    "frame_ = np.zeros(len(camtrig))\n",
    "frame_[indx]=1\n",
    "frame_ = frame_.cumsum()\n",
    "\n",
    "slide_win = 180000\n",
    "r_power_baseline = rolling_perc(r_power, window=slide_win, perc=0.1)\n",
    "l_power_baseline = rolling_perc(l_power, window=slide_win, perc=0.1)\n",
    "\n",
    "l_power_ = np.clip(l_power-l_power_baseline, 0, None)*10000\n",
    "r_power_ = np.clip(r_power-r_power_baseline, 0, None)*10000\n",
    "\n",
    "frame_len = np.min(np.unique(indx[1:]-indx[:-1]))\n",
    "\n",
    "epoch_frame = np.median(wrap_data(fileContent_[5], indx, frame_len), axis=0).astype('int')\n",
    "swim_frame = np.mean(wrap_data(l_power_, indx, frame_len), axis=0)\n",
    "pulse_frame = np.rint(np.median(wrap_data(fileContent_[8], indx, frame_len), axis=0)*100).astype('int')\n",
    "visu_frame = np.mean(wrap_data(fileContent_[3], indx, frame_len), axis=0)\n",
    "visu_frame_ = visu_frame.copy()\n",
    "visu_frame_[visu_frame_<0]=0\n",
    "\n",
    "###################################\n",
    "## Sensory cells\n",
    "###################################\n",
    "swim_thres = np.percentile(swim_frame, 85)\n",
    "pulse_trial = []\n",
    "pulse_type = []\n",
    "\n",
    "pulse_motor_trial = []\n",
    "pulse_motor_type = []\n",
    "\n",
    "nopulse_trial = []\n",
    "nopulse_type = []\n",
    "\n",
    "pulse_amp = probe_amp #np.unique(pulse_frame)[1]\n",
    "print(np.unique(pulse_frame), probe_amp)\n",
    "pulse_on = np.where((pulse_frame[:-1]==0) & (pulse_frame[1:]==pulse_amp))[0]+1\n",
    "num_dff = dFF.shape[-1]\n",
    "pulse_on = pulse_on[pulse_on<num_dff-10]\n",
    "\n",
    "for n, trial in enumerate(pulse_on):\n",
    "    swim_ = np.clip(swim_frame[trial-2:trial+5]-swim_thres, 0, np.inf)\n",
    "    if swim_.sum()==0: # remove the trial mixed pulse and motor\n",
    "        pulse_trial.append(trial)\n",
    "        pulse_type.append(epoch_frame[trial]//5)\n",
    "    else:\n",
    "        pulse_motor_trial.append(trial)\n",
    "        pulse_motor_type.append(epoch_frame[trial]//5)\n",
    "\n",
    "nopulse_on = epoch_frame%5==4\n",
    "nopulse_on = np.where((~nopulse_on[:-1]) & nopulse_on[1:])[0]+1\n",
    "nopulse_on = nopulse_on[nopulse_on<num_dff-10]\n",
    "\n",
    "for n, trial in enumerate(nopulse_on):\n",
    "    swim_ = np.clip(swim_frame[trial+3:trial+10]-swim_thres, 0, np.inf)\n",
    "    if swim_.sum()==0:\n",
    "        nopulse_trial.append(trial)\n",
    "        nopulse_type.append(epoch_frame[trial]//5)\n"
   ]
  },
  {
   "cell_type": "code",
   "execution_count": null,
   "metadata": {},
   "outputs": [],
   "source": []
  }
 ],
 "metadata": {
  "kernelspec": {
   "display_name": "myenv",
   "language": "python",
   "name": "myenv"
  },
  "language_info": {
   "codemirror_mode": {
    "name": "ipython",
    "version": 3
   },
   "file_extension": ".py",
   "mimetype": "text/x-python",
   "name": "python",
   "nbconvert_exporter": "python",
   "pygments_lexer": "ipython3",
   "version": "3.7.7"
  }
 },
 "nbformat": 4,
 "nbformat_minor": 4
}
