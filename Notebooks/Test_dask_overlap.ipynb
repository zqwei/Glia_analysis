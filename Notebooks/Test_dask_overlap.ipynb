{
 "cells": [
  {
   "cell_type": "code",
   "execution_count": 1,
   "metadata": {},
   "outputs": [
    {
     "data": {
      "text/plain": [
       "array([[ 0,  1,  2,  3,  4,  5,  6,  7],\n",
       "       [ 8,  9, 10, 11, 12, 13, 14, 15],\n",
       "       [16, 17, 18, 19, 20, 21, 22, 23],\n",
       "       [24, 25, 26, 27, 28, 29, 30, 31],\n",
       "       [32, 33, 34, 35, 36, 37, 38, 39],\n",
       "       [40, 41, 42, 43, 44, 45, 46, 47],\n",
       "       [48, 49, 50, 51, 52, 53, 54, 55],\n",
       "       [56, 57, 58, 59, 60, 61, 62, 63]])"
      ]
     },
     "execution_count": 1,
     "metadata": {},
     "output_type": "execute_result"
    }
   ],
   "source": [
    "import dask.array as da\n",
    "import numpy as np\n",
    "\n",
    "x = np.arange(64).reshape((8, 8))\n",
    "d = da.from_array(x, chunks=(4, 4))\n",
    "d.compute()"
   ]
  },
  {
   "cell_type": "code",
   "execution_count": 2,
   "metadata": {},
   "outputs": [
    {
     "data": {
      "text/plain": [
       "array([[ 0,  1,  1,  1,  1,  1,  1,  1,  1,  1,  1,  0],\n",
       "       [ 0,  1,  1,  1,  1,  1,  1,  1,  1,  1,  1,  0],\n",
       "       [ 0,  0,  1,  2,  3,  4,  3,  4,  5,  6,  7,  0],\n",
       "       [ 0,  8,  9, 10, 11, 12, 11, 12, 13, 14, 15,  0],\n",
       "       [ 0, 16, 17, 18, 19, 20, 19, 20, 21, 22, 23,  0],\n",
       "       [ 0, 24, 25, 26, 27, 28, 27, 28, 29, 30, 31,  0],\n",
       "       [ 0, 32, 33, 34, 35, 36, 35, 36, 37, 38, 39,  0],\n",
       "       [ 0, 40, 41, 42, 43, 44, 43, 44, 45, 46, 47,  0],\n",
       "       [ 0, 16, 17, 18, 19, 20, 19, 20, 21, 22, 23,  0],\n",
       "       [ 0, 24, 25, 26, 27, 28, 27, 28, 29, 30, 31,  0],\n",
       "       [ 0, 32, 33, 34, 35, 36, 35, 36, 37, 38, 39,  0],\n",
       "       [ 0, 40, 41, 42, 43, 44, 43, 44, 45, 46, 47,  0],\n",
       "       [ 0, 48, 49, 50, 51, 52, 51, 52, 53, 54, 55,  0],\n",
       "       [ 0, 56, 57, 58, 59, 60, 59, 60, 61, 62, 63,  0],\n",
       "       [ 0,  1,  1,  1,  1,  1,  1,  1,  1,  1,  1,  0],\n",
       "       [ 0,  1,  1,  1,  1,  1,  1,  1,  1,  1,  1,  0]])"
      ]
     },
     "execution_count": 2,
     "metadata": {},
     "output_type": "execute_result"
    }
   ],
   "source": [
    "g = da.overlap.overlap(d, depth={0: 2, 1: 1}, boundary={0: 1, 1: 0})\n",
    "# g = da.overlap.overlap(d, depth={1: 1}, boundary={0: 1, 1: 0})\n",
    "g.compute()"
   ]
  },
  {
   "cell_type": "code",
   "execution_count": 3,
   "metadata": {},
   "outputs": [
    {
     "name": "stdout",
     "output_type": "stream",
     "text": [
      "original chunks: ((4, 4), (4, 4))\n",
      "new chunks: ((8, 8), (6, 6))\n"
     ]
    }
   ],
   "source": [
    "print(f'original chunks: {d.chunks}')\n",
    "print(f'new chunks: {g.chunks}')"
   ]
  },
  {
   "cell_type": "code",
   "execution_count": 4,
   "metadata": {},
   "outputs": [],
   "source": [
    "def myfunc(block, block_id=None):\n",
    "    print(block_id)\n",
    "    print(block)\n",
    "    return np.zeros([1]*len(block_id)) # return should match g.shape"
   ]
  },
  {
   "cell_type": "code",
   "execution_count": 5,
   "metadata": {},
   "outputs": [
    {
     "name": "stdout",
     "output_type": "stream",
     "text": [
      "(0, 0)\n",
      "[[ 0  1  1  1  1  1]\n",
      " [ 0  1  1  1  1  1]\n",
      " [ 0  0  1  2  3  4]\n",
      " [ 0  8  9 10 11 12]\n",
      " [ 0 16 17 18 19 20]\n",
      " [ 0 24 25 26 27 28]\n",
      " [ 0 32 33 34 35 36]\n",
      " [ 0 40 41 42 43 44]]\n",
      "(1, 0)\n",
      "[[ 0 16 17 18 19 20]\n",
      " [ 0 24 25 26 27 28]\n",
      " [ 0 32 33 34 35 36]\n",
      " [ 0 40 41 42 43 44]\n",
      " [ 0 48 49 50 51 52]\n",
      " [ 0 56 57 58 59 60]\n",
      " [ 0  1  1  1  1  1]\n",
      " [ 0  1  1  1  1  1]]\n",
      "(1, 1)\n",
      "[[19 20 21 22 23  0]\n",
      " [27 28 29 30 31  0]\n",
      " [35 36 37 38 39  0]\n",
      " [43 44 45 46 47  0]\n",
      " [51 52 53 54 55  0]\n",
      " [59 60 61 62 63  0]\n",
      " [ 1  1  1  1  1  0]\n",
      " [ 1  1  1  1  1  0]]\n",
      "(0, 1)\n",
      "[[ 1  1  1  1  1  0]\n",
      " [ 1  1  1  1  1  0]\n",
      " [ 3  4  5  6  7  0]\n",
      " [11 12 13 14 15  0]\n",
      " [19 20 21 22 23  0]\n",
      " [27 28 29 30 31  0]\n",
      " [35 36 37 38 39  0]\n",
      " [43 44 45 46 47  0]]\n"
     ]
    },
    {
     "data": {
      "text/plain": [
       "array([[0., 0.],\n",
       "       [0., 0.]])"
      ]
     },
     "execution_count": 5,
     "metadata": {},
     "output_type": "execute_result"
    }
   ],
   "source": [
    "g.map_blocks(myfunc, dtype='uint8', chunks=(1, 1)).compute()"
   ]
  },
  {
   "cell_type": "code",
   "execution_count": 6,
   "metadata": {},
   "outputs": [],
   "source": [
    "result = da.overlap.trim_internal(g, {0: 2, 1: 1})"
   ]
  },
  {
   "cell_type": "code",
   "execution_count": 7,
   "metadata": {},
   "outputs": [
    {
     "data": {
      "text/plain": [
       "array([[ 0,  1,  2,  3,  4,  5,  6,  7],\n",
       "       [ 8,  9, 10, 11, 12, 13, 14, 15],\n",
       "       [16, 17, 18, 19, 20, 21, 22, 23],\n",
       "       [24, 25, 26, 27, 28, 29, 30, 31],\n",
       "       [32, 33, 34, 35, 36, 37, 38, 39],\n",
       "       [40, 41, 42, 43, 44, 45, 46, 47],\n",
       "       [48, 49, 50, 51, 52, 53, 54, 55],\n",
       "       [56, 57, 58, 59, 60, 61, 62, 63]])"
      ]
     },
     "execution_count": 7,
     "metadata": {},
     "output_type": "execute_result"
    }
   ],
   "source": [
    "result.compute()"
   ]
  },
  {
   "cell_type": "code",
   "execution_count": null,
   "metadata": {},
   "outputs": [],
   "source": []
  }
 ],
 "metadata": {
  "kernelspec": {
   "display_name": "Python 3",
   "language": "python",
   "name": "python3"
  },
  "language_info": {
   "codemirror_mode": {
    "name": "ipython",
    "version": 3
   },
   "file_extension": ".py",
   "mimetype": "text/x-python",
   "name": "python",
   "nbconvert_exporter": "python",
   "pygments_lexer": "ipython3",
   "version": "3.6.8"
  }
 },
 "nbformat": 4,
 "nbformat_minor": 2
}
