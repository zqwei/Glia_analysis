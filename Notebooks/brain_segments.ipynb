{
 "cells": [
  {
   "cell_type": "code",
   "execution_count": 34,
   "metadata": {},
   "outputs": [
    {
     "name": "stdout",
     "output_type": "stream",
     "text": [
      "/nrs/ahrens/jing/state_modulation/LG_vs_NGGU/20191130/fish00/6dpf_HuC-GC7FF_GU-fwd_fish00_exp02_20191130_151303/\n"
     ]
    }
   ],
   "source": [
    "from utils import *\n",
    "from sklearn.decomposition import NMF\n",
    "df = pd.read_csv('../Processing/data_list.csv')\n",
    "\n",
    "row = df.iloc[5]\n",
    "save_root = row['save_dir']+'/'\n",
    "print(row['dat_dir'])\n",
    "\n",
    "brain_map = np.load(save_root+'Y_ave.npy')\n",
    "trans_ = np.load(save_root+'trans_affs.npy')\n",
    "\n",
    "\n",
    "processed_dir = row['dat_dir'] + 'processed/'\n",
    "CL_path = processed_dir + 'CL_trials.pkl'\n",
    "OL_path = processed_dir + 'OL_trials.pkl'"
   ]
  },
  {
   "cell_type": "code",
   "execution_count": 2,
   "metadata": {},
   "outputs": [],
   "source": [
    "from sklearn.decomposition import PCA\n",
    "from scipy.stats import zscore"
   ]
  },
  {
   "cell_type": "markdown",
   "metadata": {},
   "source": [
    "### Check if all time points were valid in registration"
   ]
  },
  {
   "cell_type": "code",
   "execution_count": 3,
   "metadata": {},
   "outputs": [
    {
     "data": {
      "image/png": "[encoded data removed]",
      "text/plain": [
       "<Figure size 432x288 with 1 Axes>"
      ]
     },
     "metadata": {
      "needs_background": "light"
     },
     "output_type": "display_data"
    }
   ],
   "source": [
    "plt.plot(trans_[:, 1, -1])\n",
    "plt.plot(trans_[:, 2, -1])\n",
    "plt.ylim([-3, 8])\n",
    "t_max=30000\n",
    "t_min=5000\n",
    "plt.xlim([t_min, t_max])\n",
    "plt.show()"
   ]
  },
  {
   "cell_type": "code",
   "execution_count": 4,
   "metadata": {},
   "outputs": [],
   "source": [
    "_ = np.load(save_root+'cell_dff.npz', allow_pickle=True)\n",
    "A = _['A']\n",
    "A_loc = _['A_loc']\n",
    "dFF = _['dFF'].astype('float')\n",
    "_ = None"
   ]
  },
  {
   "cell_type": "markdown",
   "metadata": {},
   "source": [
    "### PCA on whole trial"
   ]
  },
  {
   "cell_type": "markdown",
   "metadata": {},
   "source": [
    "#### PCA for the whole brain"
   ]
  },
  {
   "cell_type": "code",
   "execution_count": 5,
   "metadata": {},
   "outputs": [],
   "source": [
    "# zdFF = zscore(dFF, axis=-1)\n",
    "# pca = PCA(n_components=1000)\n",
    "# pca.fit(zdFF)\n",
    "# plt.plot(np.cumsum(pca.explained_variance_ratio_)*100)"
   ]
  },
  {
   "cell_type": "markdown",
   "metadata": {},
   "source": [
    "#### PCA for each plan"
   ]
  },
  {
   "cell_type": "code",
   "execution_count": 6,
   "metadata": {},
   "outputs": [],
   "source": [
    "# zmax = A_loc[:,0].max()+1\n",
    "# pca = PCA(n_components=300)\n",
    "# for nz in range(zmax):\n",
    "#     pca.fit(zdFF[A_loc[:,0]==nz])\n",
    "#     plt.figure()\n",
    "#     plt.plot(np.cumsum(pca.explained_variance_ratio_)*100)\n",
    "#     plt.show()"
   ]
  },
  {
   "cell_type": "markdown",
   "metadata": {},
   "source": [
    "### Analysis based on the task relevant period"
   ]
  },
  {
   "cell_type": "code",
   "execution_count": 9,
   "metadata": {},
   "outputs": [],
   "source": [
    "CL_trials = pd.read_pickle(CL_path)\n",
    "OL_trials = pd.read_pickle(OL_path)\n",
    "trial_list = [CL_trials, OL_trials]\n",
    "epoch_list = []\n",
    "trial_type = []\n",
    "time_list = []\n",
    "for n, _ in enumerate(trial_list):\n",
    "    for ntrial in range(len(_)):\n",
    "        epoch_ = _.iloc[ntrial]['epoch_im2ep']\n",
    "        indx = ep2frame(_.iloc[ntrial]['camtrig_im2ep'], thres=3.8)\n",
    "        trial_type.append(n)\n",
    "        epoch_list.append(epoch_[indx])\n",
    "        time_list.append(_.iloc[ntrial]['ds_trial_inds'])"
   ]
  },
  {
   "cell_type": "markdown",
   "metadata": {},
   "source": [
    "### Sensory time"
   ]
  },
  {
   "cell_type": "code",
   "execution_count": 15,
   "metadata": {},
   "outputs": [],
   "source": [
    "sensory_time = []\n",
    "motor_time = []\n",
    "for n_, _ in enumerate(time_list):\n",
    "    n = trial_type[n_]\n",
    "    valid_ = np.where((epoch_list[n_]>=(n*5)) & (epoch_list[n_]<=(n*5+1)))[0]\n",
    "    motor_time.append(_[valid_.min():valid_.max()+10])\n",
    "    valid_ = np.where(epoch_list[n_]==(n*5+3))[0]\n",
    "    sensory_time.append(_[valid_.min()-10:valid_.max()+10])"
   ]
  },
  {
   "cell_type": "code",
   "execution_count": 18,
   "metadata": {},
   "outputs": [],
   "source": [
    "motor_time = np.concatenate(motor_time)\n",
    "sensory_time = np.concatenate(sensory_time)"
   ]
  },
  {
   "cell_type": "code",
   "execution_count": 26,
   "metadata": {},
   "outputs": [],
   "source": [
    "sdFF = dFF[:, sensory_time]\n",
    "mdFF = dFF[:, motor_time]"
   ]
  },
  {
   "cell_type": "code",
   "execution_count": 30,
   "metadata": {},
   "outputs": [],
   "source": [
    "zdFF = zscore(sdFF, axis=-1)"
   ]
  },
  {
   "cell_type": "code",
   "execution_count": null,
   "metadata": {},
   "outputs": [],
   "source": [
    "pca = PCA(n_components=1000)\n",
    "pca.fit(zdFF.T)\n",
    "plt.plot(np.cumsum(pca.explained_variance_ratio_)*100)"
   ]
  },
  {
   "cell_type": "code",
   "execution_count": 35,
   "metadata": {},
   "outputs": [
    {
     "data": {
      "text/plain": [
       "[<matplotlib.lines.Line2D at 0x7f1249ef2690>]"
      ]
     },
     "execution_count": 35,
     "metadata": {},
     "output_type": "execute_result"
    },
    {
     "data": {
      "image/png": "[encoded data removed]",
      "text/plain": [
       "<Figure size 432x288 with 1 Axes>"
      ]
     },
     "metadata": {
      "needs_background": "light"
     },
     "output_type": "display_data"
    }
   ],
   "source": [
    "plt.plot(np.cumsum(pca.explained_variance_ratio_)*100)"
   ]
  },
  {
   "cell_type": "code",
   "execution_count": 61,
   "metadata": {},
   "outputs": [],
   "source": [
    "from scipy.stats import spearmanr\n",
    "from statsmodels.stats.diagnostic import acorr_ljungbox\n",
    "from tqdm import tqdm"
   ]
  },
  {
   "cell_type": "markdown",
   "metadata": {},
   "source": [
    "### remove white-noise like cells from analyses"
   ]
  },
  {
   "cell_type": "code",
   "execution_count": 62,
   "metadata": {},
   "outputs": [
    {
     "name": "stderr",
     "output_type": "stream",
     "text": [
      "100%|██████████| 162228/162228 [20:08<00:00, 134.24it/s]\n"
     ]
    }
   ],
   "source": [
    "num_cell = zdFF.shape[0]\n",
    "valid_ = np.zeros(num_cell).astype('bool')\n",
    "for n_cell in tqdm(range(num_cell)):\n",
    "    _, p = acorr_ljungbox(zdFF[0], lags=30)\n",
    "    if (p<.05).sum()>0:\n",
    "        valid_[n_cell]=True\n",
    "sensory_valid_ = valid_.copy()"
   ]
  },
  {
   "cell_type": "code",
   "execution_count": 105,
   "metadata": {},
   "outputs": [],
   "source": [
    "num_z = A_loc[:,0].max()+1\n",
    "valid_ = np.zeros(num_cell).astype('bool')\n",
    "corr_thres = 0.2\n",
    "corr_size=10\n",
    "for nz in tqdm(range(num_z)):\n",
    "    nz_list = np.where(A_loc[:,0]==nz)[0]\n",
    "    corr_, p_ = spearmanr(zdFF[nz_list], axis=1)\n",
    "    valid_thres = ((p_<0.05).sum(axis=-1)>10) & ((np.abs(corr_)>corr_thres).sum(axis=-1)>corr_size)\n",
    "    valid_[nz_list[valid_thres]]=True\n",
    "sensory_corr_valid_=valid_.copy()"
   ]
  },
  {
   "cell_type": "code",
   "execution_count": 106,
   "metadata": {},
   "outputs": [],
   "source": [
    "sensory_zdFF=zdFF[sensory_corr_valid_ & sensory_valid_]"
   ]
  },
  {
   "cell_type": "code",
   "execution_count": null,
   "metadata": {},
   "outputs": [],
   "source": [
    "corr_, p_ = spearmanr(sensory_zdFF, axis=1)"
   ]
  },
  {
   "cell_type": "code",
   "execution_count": null,
   "metadata": {},
   "outputs": [],
   "source": [
    "plt.matshow(corr_, vmax=1, vmin=-1)"
   ]
  },
  {
   "cell_type": "code",
   "execution_count": null,
   "metadata": {},
   "outputs": [],
   "source": []
  },
  {
   "cell_type": "code",
   "execution_count": 52,
   "metadata": {},
   "outputs": [
    {
     "ename": "MemoryError",
     "evalue": "Unable to allocate 196. GiB for an array with shape (162228, 162228) and data type float64",
     "output_type": "error",
     "traceback": [
      "\u001b[0;31m---------------------------------------------------------------------------\u001b[0m",
      "\u001b[0;31mMemoryError\u001b[0m                               Traceback (most recent call last)",
      "\u001b[0;32m<ipython-input-52-c58af71dc43a>\u001b[0m in \u001b[0;36m<module>\u001b[0;34m\u001b[0m\n\u001b[0;32m----> 1\u001b[0;31m \u001b[0mcorr_\u001b[0m\u001b[0;34m,\u001b[0m \u001b[0mp_\u001b[0m\u001b[0;34m=\u001b[0m\u001b[0mspearmanr\u001b[0m\u001b[0;34m(\u001b[0m\u001b[0mzdFF\u001b[0m\u001b[0;34m,\u001b[0m \u001b[0maxis\u001b[0m\u001b[0;34m=\u001b[0m\u001b[0;36m1\u001b[0m\u001b[0;34m)\u001b[0m\u001b[0;34m\u001b[0m\u001b[0;34m\u001b[0m\u001b[0m\n\u001b[0m",
      "\u001b[0;32m~/miniconda3/envs/myenv/lib/python3.7/site-packages/scipy/stats/stats.py\u001b[0m in \u001b[0;36mspearmanr\u001b[0;34m(a, b, axis, nan_policy)\u001b[0m\n\u001b[1;32m   3742\u001b[0m \u001b[0;34m\u001b[0m\u001b[0m\n\u001b[1;32m   3743\u001b[0m     \u001b[0ma_ranked\u001b[0m \u001b[0;34m=\u001b[0m \u001b[0mnp\u001b[0m\u001b[0;34m.\u001b[0m\u001b[0mapply_along_axis\u001b[0m\u001b[0;34m(\u001b[0m\u001b[0mrankdata\u001b[0m\u001b[0;34m,\u001b[0m \u001b[0maxisout\u001b[0m\u001b[0;34m,\u001b[0m \u001b[0ma\u001b[0m\u001b[0;34m)\u001b[0m\u001b[0;34m\u001b[0m\u001b[0;34m\u001b[0m\u001b[0m\n\u001b[0;32m-> 3744\u001b[0;31m     \u001b[0mrs\u001b[0m \u001b[0;34m=\u001b[0m \u001b[0mnp\u001b[0m\u001b[0;34m.\u001b[0m\u001b[0mcorrcoef\u001b[0m\u001b[0;34m(\u001b[0m\u001b[0ma_ranked\u001b[0m\u001b[0;34m,\u001b[0m \u001b[0mrowvar\u001b[0m\u001b[0;34m=\u001b[0m\u001b[0maxisout\u001b[0m\u001b[0;34m)\u001b[0m\u001b[0;34m\u001b[0m\u001b[0;34m\u001b[0m\u001b[0m\n\u001b[0m\u001b[1;32m   3745\u001b[0m     \u001b[0mdof\u001b[0m \u001b[0;34m=\u001b[0m \u001b[0mn_obs\u001b[0m \u001b[0;34m-\u001b[0m \u001b[0;36m2\u001b[0m  \u001b[0;31m# degrees of freedom\u001b[0m\u001b[0;34m\u001b[0m\u001b[0;34m\u001b[0m\u001b[0m\n\u001b[1;32m   3746\u001b[0m \u001b[0;34m\u001b[0m\u001b[0m\n",
      "\u001b[0;32m<__array_function__ internals>\u001b[0m in \u001b[0;36mcorrcoef\u001b[0;34m(*args, **kwargs)\u001b[0m\n",
      "\u001b[0;32m~/miniconda3/envs/myenv/lib/python3.7/site-packages/numpy/lib/function_base.py\u001b[0m in \u001b[0;36mcorrcoef\u001b[0;34m(x, y, rowvar, bias, ddof)\u001b[0m\n\u001b[1;32m   2524\u001b[0m         warnings.warn('bias and ddof have no effect and are deprecated',\n\u001b[1;32m   2525\u001b[0m                       DeprecationWarning, stacklevel=3)\n\u001b[0;32m-> 2526\u001b[0;31m     \u001b[0mc\u001b[0m \u001b[0;34m=\u001b[0m \u001b[0mcov\u001b[0m\u001b[0;34m(\u001b[0m\u001b[0mx\u001b[0m\u001b[0;34m,\u001b[0m \u001b[0my\u001b[0m\u001b[0;34m,\u001b[0m \u001b[0mrowvar\u001b[0m\u001b[0;34m)\u001b[0m\u001b[0;34m\u001b[0m\u001b[0;34m\u001b[0m\u001b[0m\n\u001b[0m\u001b[1;32m   2527\u001b[0m     \u001b[0;32mtry\u001b[0m\u001b[0;34m:\u001b[0m\u001b[0;34m\u001b[0m\u001b[0;34m\u001b[0m\u001b[0m\n\u001b[1;32m   2528\u001b[0m         \u001b[0md\u001b[0m \u001b[0;34m=\u001b[0m \u001b[0mdiag\u001b[0m\u001b[0;34m(\u001b[0m\u001b[0mc\u001b[0m\u001b[0;34m)\u001b[0m\u001b[0;34m\u001b[0m\u001b[0;34m\u001b[0m\u001b[0m\n",
      "\u001b[0;32m<__array_function__ internals>\u001b[0m in \u001b[0;36mcov\u001b[0;34m(*args, **kwargs)\u001b[0m\n",
      "\u001b[0;32m~/miniconda3/envs/myenv/lib/python3.7/site-packages/numpy/lib/function_base.py\u001b[0m in \u001b[0;36mcov\u001b[0;34m(m, y, rowvar, bias, ddof, fweights, aweights)\u001b[0m\n\u001b[1;32m   2452\u001b[0m     \u001b[0;32melse\u001b[0m\u001b[0;34m:\u001b[0m\u001b[0;34m\u001b[0m\u001b[0;34m\u001b[0m\u001b[0m\n\u001b[1;32m   2453\u001b[0m         \u001b[0mX_T\u001b[0m \u001b[0;34m=\u001b[0m \u001b[0;34m(\u001b[0m\u001b[0mX\u001b[0m\u001b[0;34m*\u001b[0m\u001b[0mw\u001b[0m\u001b[0;34m)\u001b[0m\u001b[0;34m.\u001b[0m\u001b[0mT\u001b[0m\u001b[0;34m\u001b[0m\u001b[0;34m\u001b[0m\u001b[0m\n\u001b[0;32m-> 2454\u001b[0;31m     \u001b[0mc\u001b[0m \u001b[0;34m=\u001b[0m \u001b[0mdot\u001b[0m\u001b[0;34m(\u001b[0m\u001b[0mX\u001b[0m\u001b[0;34m,\u001b[0m \u001b[0mX_T\u001b[0m\u001b[0;34m.\u001b[0m\u001b[0mconj\u001b[0m\u001b[0;34m(\u001b[0m\u001b[0;34m)\u001b[0m\u001b[0;34m)\u001b[0m\u001b[0;34m\u001b[0m\u001b[0;34m\u001b[0m\u001b[0m\n\u001b[0m\u001b[1;32m   2455\u001b[0m     \u001b[0mc\u001b[0m \u001b[0;34m*=\u001b[0m \u001b[0mnp\u001b[0m\u001b[0;34m.\u001b[0m\u001b[0mtrue_divide\u001b[0m\u001b[0;34m(\u001b[0m\u001b[0;36m1\u001b[0m\u001b[0;34m,\u001b[0m \u001b[0mfact\u001b[0m\u001b[0;34m)\u001b[0m\u001b[0;34m\u001b[0m\u001b[0;34m\u001b[0m\u001b[0m\n\u001b[1;32m   2456\u001b[0m     \u001b[0;32mreturn\u001b[0m \u001b[0mc\u001b[0m\u001b[0;34m.\u001b[0m\u001b[0msqueeze\u001b[0m\u001b[0;34m(\u001b[0m\u001b[0;34m)\u001b[0m\u001b[0;34m\u001b[0m\u001b[0;34m\u001b[0m\u001b[0m\n",
      "\u001b[0;32m<__array_function__ internals>\u001b[0m in \u001b[0;36mdot\u001b[0;34m(*args, **kwargs)\u001b[0m\n",
      "\u001b[0;31mMemoryError\u001b[0m: Unable to allocate 196. GiB for an array with shape (162228, 162228) and data type float64"
     ]
    }
   ],
   "source": [
    "spearmanr(zdFF, axis=1)corr_, p_="
   ]
  },
  {
   "cell_type": "code",
   "execution_count": null,
   "metadata": {},
   "outputs": [],
   "source": []
  },
  {
   "cell_type": "code",
   "execution_count": null,
   "metadata": {},
   "outputs": [],
   "source": []
  },
  {
   "cell_type": "markdown",
   "metadata": {},
   "source": [
    "### Motor time"
   ]
  },
  {
   "cell_type": "code",
   "execution_count": 12,
   "metadata": {},
   "outputs": [
    {
     "data": {
      "text/plain": [
       "25"
      ]
     },
     "execution_count": 12,
     "metadata": {},
     "output_type": "execute_result"
    }
   ],
   "source": [
    "len(time_list)"
   ]
  },
  {
   "cell_type": "code",
   "execution_count": null,
   "metadata": {},
   "outputs": [],
   "source": []
  },
  {
   "cell_type": "code",
   "execution_count": null,
   "metadata": {},
   "outputs": [],
   "source": []
  },
  {
   "cell_type": "code",
   "execution_count": null,
   "metadata": {},
   "outputs": [],
   "source": [
    "for cell_id in range(dFF.shape[0]):\n",
    "    dFF_cell = dFF[cell_id]\n",
    "    dFF_cell_list = []\n",
    "    for _ in time_list:\n",
    "        dFF_cell_list.append(dFF_cell[_])\n",
    "    dFF_mat = np.zeros((len_, max_t))\n",
    "    dFF_mat[:] = np.nan\n",
    "    for n_ in range(len_):\n",
    "        n = trial_type[n_]\n",
    "        valid_ = (epoch_list[n_]>=(n*5)) & (epoch_list[n_]<(n*5+5))\n",
    "        t_ = valid_.sum()\n",
    "        dFF_mat[n_, :t_] = dFF_cell_list[n_][valid_]\n",
    "    for ntime in range(120):\n",
    "        _, p = ranksums(dFF_mat[np.array(trial_type)==0, ntime], dFF_mat[np.array(trial_type)==1, ntime])\n",
    "        p_list[cell_id, ntime] = p\n",
    "np.save(save_root+'p_value', p_list)"
   ]
  },
  {
   "cell_type": "code",
   "execution_count": null,
   "metadata": {},
   "outputs": [],
   "source": []
  },
  {
   "cell_type": "code",
   "execution_count": null,
   "metadata": {},
   "outputs": [],
   "source": [
    "dFF.shape"
   ]
  },
  {
   "cell_type": "code",
   "execution_count": null,
   "metadata": {},
   "outputs": [],
   "source": []
  },
  {
   "cell_type": "code",
   "execution_count": null,
   "metadata": {},
   "outputs": [],
   "source": []
  },
  {
   "cell_type": "code",
   "execution_count": null,
   "metadata": {},
   "outputs": [],
   "source": []
  },
  {
   "cell_type": "markdown",
   "metadata": {},
   "source": [
    "### NMF"
   ]
  },
  {
   "cell_type": "code",
   "execution_count": null,
   "metadata": {},
   "outputs": [],
   "source": [
    "nmf_ = NMF(n_components=200, max_iter=2000, verbose=True)"
   ]
  },
  {
   "cell_type": "code",
   "execution_count": null,
   "metadata": {},
   "outputs": [],
   "source": [
    "from scipy.sparse import csr_matrix"
   ]
  },
  {
   "cell_type": "code",
   "execution_count": null,
   "metadata": {},
   "outputs": [],
   "source": [
    "X = dFF - np.percentile(dFF, 1, axis=-1, keepdims=True)\n",
    "dFF = None\n",
    "X_sparse = X.copy()\n",
    "X_sparse[X_sparse<=0]=0\n",
    "X_sparse = csr_matrix(X_sparse)"
   ]
  },
  {
   "cell_type": "code",
   "execution_count": null,
   "metadata": {},
   "outputs": [],
   "source": [
    "dFF = None\n",
    "X = None"
   ]
  },
  {
   "cell_type": "code",
   "execution_count": null,
   "metadata": {},
   "outputs": [],
   "source": [
    "def sparse_corrcoef(A):\n",
    "    n = A.shape[-1]\n",
    "    rowsum = A.sum(axis=-1)\n",
    "    c_ = rowsum.dot(rowsum.T)/n\n",
    "    C = (A.dot(A.T) - C)/(n-1)\n",
    "    d = np.diag(C)\n",
    "    return C/np.sqrt(np.outer(d, d))"
   ]
  },
  {
   "cell_type": "code",
   "execution_count": null,
   "metadata": {},
   "outputs": [],
   "source": [
    "corr_ = sparse_corrcoef(X_sparse)"
   ]
  },
  {
   "cell_type": "code",
   "execution_count": null,
   "metadata": {},
   "outputs": [],
   "source": [
    "corr_.shape"
   ]
  },
  {
   "cell_type": "code",
   "execution_count": null,
   "metadata": {},
   "outputs": [],
   "source": []
  },
  {
   "cell_type": "code",
   "execution_count": null,
   "metadata": {},
   "outputs": [],
   "source": []
  },
  {
   "cell_type": "code",
   "execution_count": null,
   "metadata": {},
   "outputs": [],
   "source": []
  },
  {
   "cell_type": "code",
   "execution_count": null,
   "metadata": {},
   "outputs": [],
   "source": []
  },
  {
   "cell_type": "code",
   "execution_count": null,
   "metadata": {},
   "outputs": [],
   "source": []
  },
  {
   "cell_type": "code",
   "execution_count": null,
   "metadata": {},
   "outputs": [],
   "source": []
  },
  {
   "cell_type": "code",
   "execution_count": null,
   "metadata": {},
   "outputs": [],
   "source": []
  },
  {
   "cell_type": "code",
   "execution_count": null,
   "metadata": {},
   "outputs": [],
   "source": []
  },
  {
   "cell_type": "code",
   "execution_count": null,
   "metadata": {},
   "outputs": [],
   "source": []
  },
  {
   "cell_type": "code",
   "execution_count": null,
   "metadata": {},
   "outputs": [],
   "source": []
  },
  {
   "cell_type": "code",
   "execution_count": null,
   "metadata": {},
   "outputs": [],
   "source": [
    "import pandas as pd\n",
    "\n",
    "CL_trials = pd.read_pickle(CL_path)\n",
    "OL_trials = pd.read_pickle(OL_path)\n",
    "trial_list = [CL_trials, OL_trials]"
   ]
  },
  {
   "cell_type": "code",
   "execution_count": null,
   "metadata": {},
   "outputs": [],
   "source": []
  },
  {
   "cell_type": "code",
   "execution_count": null,
   "metadata": {},
   "outputs": [],
   "source": []
  },
  {
   "cell_type": "markdown",
   "metadata": {},
   "source": [
    "## Open loop vs close loop difference cells"
   ]
  },
  {
   "cell_type": "code",
   "execution_count": null,
   "metadata": {},
   "outputs": [],
   "source": [
    "from scipy.stats import ranksums\n",
    "len_ = len(trial_type)\n",
    "max_t = np.array([len(_) for _ in time_list]).max()\n",
    "p_list = np.zeros((dFF.shape[0], 120))\n",
    "for cell_id in range(dFF.shape[0]):\n",
    "    dFF_cell = dFF[cell_id]\n",
    "    dFF_cell_list = []\n",
    "    for _ in time_list:\n",
    "        dFF_cell_list.append(dFF_cell[_])\n",
    "    dFF_mat = np.zeros((len_, max_t))\n",
    "    dFF_mat[:] = np.nan\n",
    "    for n_ in range(len_):\n",
    "        n = trial_type[n_]\n",
    "        valid_ = (epoch_list[n_]>=(n*5)) & (epoch_list[n_]<(n*5+5))\n",
    "        t_ = valid_.sum()\n",
    "        dFF_mat[n_, :t_] = dFF_cell_list[n_][valid_]\n",
    "    for ntime in range(120):\n",
    "        _, p = ranksums(dFF_mat[np.array(trial_type)==0, ntime], dFF_mat[np.array(trial_type)==1, ntime])\n",
    "        p_list[cell_id, ntime] = p\n",
    "np.save(save_root+'p_value', p_list)"
   ]
  },
  {
   "cell_type": "code",
   "execution_count": null,
   "metadata": {},
   "outputs": [],
   "source": [
    "p_list = np.load(save_root+'p_value.npy')"
   ]
  },
  {
   "cell_type": "code",
   "execution_count": null,
   "metadata": {},
   "outputs": [],
   "source": [
    "plt.plot(epoch_list[40])"
   ]
  },
  {
   "cell_type": "code",
   "execution_count": null,
   "metadata": {},
   "outputs": [],
   "source": [
    "A_ext = np.zeros(brain_map.shape[:-1]).astype('int')\n",
    "for n_, A_ in enumerate(A):\n",
    "    if (p_list[n_, 20:]<0.05).mean()<0.12:\n",
    "        continue\n",
    "    A_loc_ = A_loc[n_]\n",
    "    z, x, y = A_loc_\n",
    "    _ = (A_>A_.max()*0.5).astype('int')*(n_+1)\n",
    "    cx, cy = A_ext[z, x:x+100, y:y+100].shape\n",
    "    A_ext[z, x:x+100, y:y+100]=np.maximum(A_ext[z, x:x+100, y:y+100], _[:cx, :cy])\n",
    "\n",
    "# for z in range(A_ext.shape[0]):\n",
    "#     _ = A_ext[z].copy()\n",
    "#     _[_>0] = _[_>0]%32+1\n",
    "#     plt.imshow(_, cmap=plt.cm.nipy_spectral)\n",
    "#     plt.show()\n",
    "\n",
    "_ = A_ext.max(axis=0)\n",
    "_[_>0] = _[_>0]%32+1\n",
    "plt.imshow(_, cmap=plt.cm.nipy_spectral)\n",
    "plt.show()"
   ]
  },
  {
   "cell_type": "code",
   "execution_count": null,
   "metadata": {},
   "outputs": [],
   "source": [
    "sub_indx = (p_list[:, 20:]<0.05).mean(axis=-1)>0.12\n",
    "print(f'number of cell segments in analysis: {sub_indx.sum()}')"
   ]
  },
  {
   "cell_type": "code",
   "execution_count": null,
   "metadata": {},
   "outputs": [],
   "source": [
    "dFF_ave = dFF[sub_indx].mean(axis=0)"
   ]
  },
  {
   "cell_type": "code",
   "execution_count": null,
   "metadata": {},
   "outputs": [],
   "source": [
    "len_ = len(trial_type)\n",
    "max_t = np.array([len(_) for _ in time_list]).max()\n",
    "dFF_cell_list = []\n",
    "for _ in time_list:\n",
    "    dFF_cell_list.append(dFF_ave[_])\n",
    "dFF_mat = np.zeros((len_, max_t))\n",
    "dFF_mat[:] = np.nan\n",
    "for n_ in range(len_):\n",
    "    n = trial_type[n_]\n",
    "    valid_ = (epoch_list[n_]>=(n*5)) & (epoch_list[n_]<(n*5+5))\n",
    "    t_ = valid_.sum()\n",
    "    dFF_mat[n_, :t_] = dFF_cell_list[n_][valid_]"
   ]
  },
  {
   "cell_type": "code",
   "execution_count": null,
   "metadata": {},
   "outputs": [],
   "source": [
    "plt.figure(figsize=(8, 6))\n",
    "plt.plot(dFF_mat[np.array(trial_type)==0].mean(axis=0))\n",
    "plt.plot(dFF_mat[np.array(trial_type)==1].mean(axis=0))\n",
    "plt.xlim([0, 150])\n",
    "plt.show()"
   ]
  },
  {
   "cell_type": "code",
   "execution_count": null,
   "metadata": {},
   "outputs": [],
   "source": [
    "plt.figure(figsize=(8, 6))\n",
    "plt.plot(dFF_mat[np.array(trial_type)==0].T)\n",
    "plt.xlim([0, max_t])\n",
    "plt.show()"
   ]
  },
  {
   "cell_type": "code",
   "execution_count": null,
   "metadata": {},
   "outputs": [],
   "source": [
    "plt.figure(figsize=(8, 6))\n",
    "plt.plot(dFF_mat[np.array(trial_type)==1].T)\n",
    "plt.xlim([0, max_t])\n",
    "plt.show()"
   ]
  },
  {
   "cell_type": "code",
   "execution_count": null,
   "metadata": {},
   "outputs": [],
   "source": [
    "plt.figure(figsize=(20, 3))\n",
    "plt.plot(CL_trials.iloc[0]['swimpower_im2ep'])\n",
    "plt.plot(CL_trials.iloc[0]['swimming_im2ep']*np.median(CL_trials.iloc[0]['swimpower_im2ep']))\n",
    "plt.show()"
   ]
  },
  {
   "cell_type": "code",
   "execution_count": null,
   "metadata": {},
   "outputs": [],
   "source": [
    "swim_power = CL_trials.iloc[0]['swimpower_im2ep']"
   ]
  },
  {
   "cell_type": "code",
   "execution_count": null,
   "metadata": {},
   "outputs": [],
   "source": [
    "indx = ep2frame(CL_trials.iloc[ntrial]['camtrig_im2ep'], thres=3.8)\n",
    "swim_power_frame = [swim_power[indx[n]:indx[n+1]].mean() for n in range(len(indx)-1)]\n",
    "swim_power_frame.append(min(swim_power_frame))\n",
    "swim_power_frame = np.array(swim_power_frame)"
   ]
  },
  {
   "cell_type": "code",
   "execution_count": null,
   "metadata": {},
   "outputs": [],
   "source": [
    "swim_power_frame.shape"
   ]
  },
  {
   "cell_type": "code",
   "execution_count": null,
   "metadata": {},
   "outputs": [],
   "source": [
    "def frame_swim_power(swim_power, indx):\n",
    "    swim_power_frame = [swim_power[indx[n]:indx[n+1]].mean() for n in range(len(indx)-1)]\n",
    "    swim_power_frame.append(min(swim_power_frame))\n",
    "    return np.array(swim_power_frame)"
   ]
  },
  {
   "cell_type": "code",
   "execution_count": null,
   "metadata": {},
   "outputs": [],
   "source": [
    "epoch_list = []\n",
    "trial_type = []\n",
    "time_list = []\n",
    "pulse_probe_list = []\n",
    "swim_power_list = []\n",
    "for n, _ in enumerate(trial_list):\n",
    "    for ntrial in range(len(_)):\n",
    "        epoch_ = _.iloc[ntrial]['epoch_im2ep']\n",
    "        swim_power = _.iloc[ntrial]['swimpower_im2ep']\n",
    "        indx = ep2frame(_.iloc[ntrial]['camtrig_im2ep'], thres=3.8)\n",
    "        pulse_ = _.iloc[ntrial]['cmdvel_im2ep'][indx]\n",
    "        trial_type.append(n)\n",
    "        epoch_list.append(epoch_[indx])\n",
    "        time_list.append(_.iloc[ntrial]['ds_trial_inds'])\n",
    "        pulse_probe_list.append((pulse_==pulse_.max())&(epoch_[indx]==(n*5+3)))\n",
    "        swim_power_list.append(frame_swim_power(swim_power, indx))"
   ]
  },
  {
   "cell_type": "code",
   "execution_count": null,
   "metadata": {},
   "outputs": [],
   "source": [
    "(np.array(trial_type)==0).sum()"
   ]
  },
  {
   "cell_type": "code",
   "execution_count": null,
   "metadata": {},
   "outputs": [],
   "source": []
  },
  {
   "cell_type": "code",
   "execution_count": null,
   "metadata": {},
   "outputs": [],
   "source": [
    "n_ = 20\n",
    "plt.plot((pulse_probe_list[n_]).astype('float')*swim_power_list[n_].max())\n",
    "plt.plot(swim_power_list[n_])\n",
    "plt.savefig('tmp.pdf')"
   ]
  },
  {
   "cell_type": "markdown",
   "metadata": {},
   "source": [
    "## Pulse neurons with activity different in CL vs OL"
   ]
  },
  {
   "cell_type": "code",
   "execution_count": null,
   "metadata": {},
   "outputs": [],
   "source": [
    "sig_cell_dFF = dFF[sub_indx]\n",
    "sig_cell_A = A[sub_indx]\n",
    "sig_cell_A_loc = A_loc[sub_indx]\n",
    "sig_cell_num = sig_cell_dFF.shape[0]"
   ]
  },
  {
   "cell_type": "code",
   "execution_count": null,
   "metadata": {},
   "outputs": [],
   "source": [
    "from scipy.stats import ranksums"
   ]
  },
  {
   "cell_type": "code",
   "execution_count": null,
   "metadata": {},
   "outputs": [],
   "source": [
    "pulse_cell = np.zeros((sig_cell_num, len(trial_type)))\n",
    "\n",
    "for n_ in range(sig_cell_num):\n",
    "    dFF_cell = sig_cell_dFF[n_]\n",
    "    for m, _ in enumerate(time_list):\n",
    "        epoch_ = epoch_list[m]\n",
    "        pulse_ = pulse_probe_list[m][epoch_==(trial_type[m]*5+3)]\n",
    "        dFF_trial = dFF_cell[_][epoch_==(trial_type[m]*5+3)]\n",
    "        _, p = ranksums(dFF_trial[pulse_==0], dFF_trial[pulse_==1])\n",
    "        pulse_cell[n_, m] = p"
   ]
  },
  {
   "cell_type": "code",
   "execution_count": null,
   "metadata": {},
   "outputs": [],
   "source": [
    "pulse_indx = (pulse_cell<0.05).mean(axis=-1)>0.6"
   ]
  },
  {
   "cell_type": "code",
   "execution_count": null,
   "metadata": {},
   "outputs": [],
   "source": [
    "A_ext = np.zeros(brain_map.shape[:-1]).astype('int')\n",
    "for n_, A_ in enumerate(sig_cell_A):\n",
    "    if not pulse_indx[n_]:\n",
    "        continue\n",
    "    A_loc_ = sig_cell_A_loc[n_]\n",
    "    z, x, y = A_loc_\n",
    "    _ = (A_>A_.max()*0.5).astype('int')*(n_+1)\n",
    "    cx, cy = A_ext[z, x:x+100, y:y+100].shape\n",
    "    A_ext[z, x:x+100, y:y+100]=np.maximum(A_ext[z, x:x+100, y:y+100], _[:cx, :cy])\n",
    "\n",
    "# for z in range(A_ext.shape[0]):\n",
    "#     _ = A_ext[z].copy()\n",
    "#     if (_>0).sum()==0:\n",
    "#         continue\n",
    "#     _[_>0] = _[_>0]%32+1\n",
    "#     plt.imshow(_, cmap=plt.cm.nipy_spectral)\n",
    "#     plt.show()\n",
    "_ = A_ext.max(axis=0)\n",
    "_[_>0] = _[_>0]%32+1\n",
    "plt.imshow(_, cmap=plt.cm.nipy_spectral)\n",
    "plt.show()"
   ]
  },
  {
   "cell_type": "code",
   "execution_count": null,
   "metadata": {},
   "outputs": [],
   "source": [
    "cell_act_CL = np.zeros((pulse_indx.sum(), 400))\n",
    "cell_act_OL = np.zeros((pulse_indx.sum(), 400))\n",
    "for n_, dFF_cell in enumerate(sig_cell_dFF[pulse_indx]):\n",
    "    dFF_trial = np.zeros((len(time_list), 400))\n",
    "    dFF_trial[:] = np.nan\n",
    "    for m, _ in enumerate(time_list):\n",
    "        epoch_ = epoch_list[m]\n",
    "        indx_ = epoch_==(trial_type[m]*5+3)\n",
    "        t_ = indx_.sum()\n",
    "        dFF_trial[m, :t_] = dFF_cell[_][indx_]\n",
    "    cell_act_CL[n_] = np.nanmean(dFF_trial[np.array(trial_type)==0, :], axis=0)\n",
    "    cell_act_OL[n_] = np.nanmean(dFF_trial[np.array(trial_type)==1, :], axis=0)"
   ]
  },
  {
   "cell_type": "code",
   "execution_count": null,
   "metadata": {},
   "outputs": [],
   "source": [
    "import seaborn as sns\n",
    "sns.set_style('ticks')"
   ]
  },
  {
   "cell_type": "code",
   "execution_count": null,
   "metadata": {},
   "outputs": [],
   "source": [
    "plt.figure(figsize=(8, 6))\n",
    "plt.imshow(cell_act_CL[:, :240]/cell_act_CL[:, :240].max(axis=-1, keepdims=True), aspect='auto', extent=(0, 240/3.5,1, cell_act_CL.shape[0]), vmax=1, vmin=0)\n",
    "plt.yticks([1, cell_act_CL.shape[0]])\n",
    "plt.xticks(np.arange(0, 25, 5))\n",
    "plt.xlim([0, 20])\n",
    "plt.colorbar()\n",
    "sns.despine()\n",
    "plt.savefig('tmp1.pdf')"
   ]
  },
  {
   "cell_type": "code",
   "execution_count": null,
   "metadata": {},
   "outputs": [],
   "source": [
    "plt.figure(figsize=(8, 6))\n",
    "plt.imshow(cell_act_OL[:, :240]/cell_act_CL[:, :240].max(axis=-1, keepdims=True), aspect='auto', extent=(0, 240/3.5,1, cell_act_CL.shape[0]), vmax=1, vmin=0)\n",
    "plt.yticks([1, cell_act_CL.shape[0]])\n",
    "plt.xticks(np.arange(0, 25, 5))\n",
    "plt.xlim([0, 20])\n",
    "sns.despine()\n",
    "plt.savefig('tmp2.pdf')"
   ]
  },
  {
   "cell_type": "code",
   "execution_count": null,
   "metadata": {},
   "outputs": [],
   "source": [
    "plt.figure(figsize=(8, 6))\n",
    "plt.plot(np.arange(240)/3.5, cell_act_CL[:, :240].mean(axis=0)*100)\n",
    "plt.plot(np.arange(240)/3.5, cell_act_OL[:, :240].mean(axis=0)*100)\n",
    "plt.xlim([0, 20])\n",
    "sns.despine()\n",
    "plt.savefig('tmp3.pdf')"
   ]
  },
  {
   "cell_type": "markdown",
   "metadata": {},
   "source": [
    "## Motor neurons with activity different in CL vs OL"
   ]
  },
  {
   "cell_type": "code",
   "execution_count": null,
   "metadata": {},
   "outputs": [],
   "source": [
    "motor_cell = np.zeros((sig_cell_num, 70))\n",
    "\n",
    "for n_ in range(sig_cell_num):\n",
    "    dFF_cell = sig_cell_dFF[n_]\n",
    "    dFF_trial_list = np.zeros((len(time_list), 70))\n",
    "    for m, _ in enumerate(time_list):\n",
    "        epoch_ = epoch_list[m]\n",
    "        motor_ = pulse_probe_list[m][epoch_==(trial_type[m]*5+1)]\n",
    "        dFF_trial = dFF_cell[_][epoch_==(trial_type[m]*5+1)]\n",
    "        t_len = len(dFF_trial)\n",
    "        dFF_trial_list[m, :t_len] = dFF_trial\n",
    "    for ntime in range(70):\n",
    "        _, p = ranksums(dFF_trial_list[np.array(trial_type)==0, ntime], dFF_trial_list[np.array(trial_type)==1, ntime])\n",
    "        motor_cell[n_, ntime] = p"
   ]
  },
  {
   "cell_type": "code",
   "execution_count": null,
   "metadata": {},
   "outputs": [],
   "source": [
    "motor_cell = motor_cell[:, :40]"
   ]
  },
  {
   "cell_type": "code",
   "execution_count": null,
   "metadata": {},
   "outputs": [],
   "source": [
    "motor_indx = (motor_cell<0.05).mean(axis=-1)>0.9\n",
    "print(f'number of motor cell: {motor_indx.sum()}')"
   ]
  },
  {
   "cell_type": "code",
   "execution_count": null,
   "metadata": {},
   "outputs": [],
   "source": [
    "A_ext = np.zeros(brain_map.shape[:-1]).astype('int')\n",
    "for n_, A_ in enumerate(sig_cell_A):\n",
    "    if not motor_indx[n_]:\n",
    "        continue\n",
    "    A_loc_ = sig_cell_A_loc[n_]\n",
    "    z, x, y = A_loc_\n",
    "    _ = (A_>A_.max()*0.5).astype('int')*(n_+1)\n",
    "    cx, cy = A_ext[z, x:x+100, y:y+100].shape\n",
    "    A_ext[z, x:x+100, y:y+100]=np.maximum(A_ext[z, x:x+100, y:y+100], _[:cx, :cy])\n",
    "\n",
    "# for z in range(A_ext.shape[0]):\n",
    "#     _ = A_ext[z].copy()\n",
    "#     if (_>0).sum()==0:\n",
    "#         continue\n",
    "#     _[_>0] = _[_>0]%32+1\n",
    "#     plt.imshow(_, cmap=plt.cm.nipy_spectral)\n",
    "#     plt.show()\n",
    "_ = A_ext.max(axis=0)\n",
    "_[_>0] = _[_>0]%32+1\n",
    "plt.imshow(_, cmap=plt.cm.nipy_spectral)\n",
    "plt.show()"
   ]
  },
  {
   "cell_type": "code",
   "execution_count": null,
   "metadata": {},
   "outputs": [],
   "source": [
    "cell_act_CL = np.zeros((motor_indx.sum(), 80))\n",
    "cell_act_OL = np.zeros((motor_indx.sum(), 80))\n",
    "for n_, dFF_cell in enumerate(sig_cell_dFF[motor_indx]):\n",
    "    dFF_trial = np.zeros((len(time_list), 80))\n",
    "    dFF_trial[:] = np.nan\n",
    "    for m, _ in enumerate(time_list):\n",
    "        epoch_ = epoch_list[m]\n",
    "        indx_ = epoch_==(trial_type[m]*5+1)\n",
    "        t_ = indx_.sum()\n",
    "        dFF_trial[m, :t_] = dFF_cell[_][indx_]\n",
    "    cell_act_CL[n_] = np.nanmean(dFF_trial[np.array(trial_type)==0, :], axis=0)\n",
    "    cell_act_OL[n_] = np.nanmean(dFF_trial[np.array(trial_type)==1, :], axis=0)"
   ]
  },
  {
   "cell_type": "code",
   "execution_count": null,
   "metadata": {},
   "outputs": [],
   "source": [
    "plt.figure(figsize=(8, 6))\n",
    "plt.imshow(cell_act_CL[:, :40]/cell_act_CL[:, :40].max(axis=-1, keepdims=True), aspect='auto')\n",
    "plt.show()"
   ]
  },
  {
   "cell_type": "code",
   "execution_count": null,
   "metadata": {},
   "outputs": [],
   "source": [
    "plt.figure(figsize=(8, 6))\n",
    "plt.imshow(cell_act_OL[:, :40]/cell_act_CL[:, :40].max(axis=-1, keepdims=True), aspect='auto')\n",
    "plt.show()"
   ]
  },
  {
   "cell_type": "code",
   "execution_count": null,
   "metadata": {},
   "outputs": [],
   "source": [
    "plt.figure(figsize=(8, 6))\n",
    "plt.plot(cell_act_CL[:, :40].mean(axis=0))\n",
    "plt.plot(cell_act_OL[:, :40].mean(axis=0))\n",
    "plt.show()"
   ]
  },
  {
   "cell_type": "markdown",
   "metadata": {},
   "source": [
    "## Overlay pulse and motor neurons"
   ]
  },
  {
   "cell_type": "code",
   "execution_count": null,
   "metadata": {},
   "outputs": [],
   "source": [
    "A_ext = np.zeros((brain_map.shape[1], brain_map.shape[2], 3))\n",
    "z_ = brain_map.shape[0]\n",
    "for n_, A_ in enumerate(sig_cell_A):\n",
    "    if (not pulse_indx[n_]) and (not motor_indx[n_]):\n",
    "        continue\n",
    "    A_loc_ = sig_cell_A_loc[n_]\n",
    "    z, x, y = A_loc_\n",
    "    _ = (A_>A_.max()*0.5).astype('int')\n",
    "    cx, cy = A_ext[x:x+100, y:y+100, 1].shape\n",
    "    if pulse_indx[n_]:\n",
    "        A_ext[x:x+100, y:y+100, 0]=np.maximum(A_ext[x:x+100, y:y+100, 0], _[:cx, :cy])\n",
    "    if motor_indx[n_]:\n",
    "        A_ext[x:x+100, y:y+100, 1]=np.maximum(A_ext[x:x+100, y:y+100, 1], _[:cx, :cy])\n",
    "\n",
    "plt.imshow(A_ext)\n",
    "plt.show()"
   ]
  },
  {
   "cell_type": "code",
   "execution_count": null,
   "metadata": {},
   "outputs": [],
   "source": []
  }
 ],
 "metadata": {
  "kernelspec": {
   "display_name": "myenv",
   "language": "python",
   "name": "myenv"
  },
  "language_info": {
   "codemirror_mode": {
    "name": "ipython",
    "version": 3
   },
   "file_extension": ".py",
   "mimetype": "text/x-python",
   "name": "python",
   "nbconvert_exporter": "python",
   "pygments_lexer": "ipython3",
   "version": "3.7.6"
  }
 },
 "nbformat": 4,
 "nbformat_minor": 4
}
