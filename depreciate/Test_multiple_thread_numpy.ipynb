{
 "cells": [
  {
   "cell_type": "markdown",
   "metadata": {},
   "source": [
    "# Test multithread of numpy\n",
    "* it works on skylakes nodes\n",
    "* it does not work on broadwell (not sure why)"
   ]
  },
  {
   "cell_type": "code",
   "execution_count": 1,
   "metadata": {},
   "outputs": [
    {
     "name": "stdout",
     "output_type": "stream",
     "text": [
      "The maximum threads required at bsub: 8\n",
      "The maximum physical threads can be used: 48\n"
     ]
    }
   ],
   "source": [
    "import mkl\n",
    "print(f'The maximum threads required at bsub: {mkl.get_max_threads()}')\n",
    "mkl.set_num_threads(100)\n",
    "print(f'The maximum physical threads can be used: {mkl.get_max_threads()}')"
   ]
  },
  {
   "cell_type": "code",
   "execution_count": 2,
   "metadata": {},
   "outputs": [
    {
     "name": "stdout",
     "output_type": "stream",
     "text": [
      "Test thread at: 1\n"
     ]
    }
   ],
   "source": [
    "mkl.set_num_threads(1)\n",
    "print(f'Test thread at: {mkl.get_max_threads()}')\n",
    "import numpy as np"
   ]
  },
  {
   "cell_type": "code",
   "execution_count": 3,
   "metadata": {},
   "outputs": [
    {
     "name": "stdout",
     "output_type": "stream",
     "text": [
      "29.9 s ± 90.8 ms per loop (mean ± std. dev. of 7 runs, 1 loop each)\n"
     ]
    }
   ],
   "source": [
    "%%timeit\n",
    "a = np.random.random((10000, 10000))\n",
    "b = np.random.random((10000, 10000))\n",
    "a.dot(b)"
   ]
  },
  {
   "cell_type": "code",
   "execution_count": 4,
   "metadata": {},
   "outputs": [
    {
     "name": "stdout",
     "output_type": "stream",
     "text": [
      "Test thread at: 2\n"
     ]
    }
   ],
   "source": [
    "mkl.set_num_threads(2)\n",
    "print(f'Test thread at: {mkl.get_max_threads()}')\n",
    "import numpy as np"
   ]
  },
  {
   "cell_type": "code",
   "execution_count": 5,
   "metadata": {},
   "outputs": [
    {
     "name": "stdout",
     "output_type": "stream",
     "text": [
      "16.2 s ± 163 ms per loop (mean ± std. dev. of 7 runs, 1 loop each)\n"
     ]
    }
   ],
   "source": [
    "%%timeit\n",
    "a = np.random.random((10000, 10000))\n",
    "b = np.random.random((10000, 10000))\n",
    "a.dot(b)"
   ]
  },
  {
   "cell_type": "code",
   "execution_count": 6,
   "metadata": {},
   "outputs": [
    {
     "name": "stdout",
     "output_type": "stream",
     "text": [
      "Test thread at: 4\n"
     ]
    }
   ],
   "source": [
    "mkl.set_num_threads(4)\n",
    "print(f'Test thread at: {mkl.get_max_threads()}')\n",
    "import numpy as np"
   ]
  },
  {
   "cell_type": "code",
   "execution_count": 7,
   "metadata": {},
   "outputs": [
    {
     "name": "stdout",
     "output_type": "stream",
     "text": [
      "9.44 s ± 134 ms per loop (mean ± std. dev. of 7 runs, 1 loop each)\n"
     ]
    }
   ],
   "source": [
    "%%timeit\n",
    "a = np.random.random((10000, 10000))\n",
    "b = np.random.random((10000, 10000))\n",
    "a.dot(b)"
   ]
  }
 ],
 "metadata": {
  "kernelspec": {
   "display_name": "Python 3",
   "language": "python",
   "name": "python3"
  },
  "language_info": {
   "codemirror_mode": {
    "name": "ipython",
    "version": 3
   },
   "file_extension": ".py",
   "mimetype": "text/x-python",
   "name": "python",
   "nbconvert_exporter": "python",
   "pygments_lexer": "ipython3",
   "version": "3.6.8"
  }
 },
 "nbformat": 4,
 "nbformat_minor": 2
}
